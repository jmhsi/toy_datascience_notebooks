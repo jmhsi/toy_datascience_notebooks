{
 "cells": [
  {
   "cell_type": "markdown",
   "metadata": {},
   "source": [
    "blog post: https://eng.uber.com/coordconv/\n",
    "paper: https://arxiv.org/abs/1807.03247"
   ]
  },
  {
   "cell_type": "code",
   "execution_count": 1,
   "metadata": {
    "ExecuteTime": {
     "end_time": "2018-07-26T05:18:09.487794Z",
     "start_time": "2018-07-26T05:18:08.553593Z"
    }
   },
   "outputs": [],
   "source": [
    "from matplotlib import rcParams, animation, rc\n",
    "from ipywidgets import interact, interactive, fixed\n",
    "from ipywidgets.widgets import *\n",
    "from torch import nn\n",
    "from torch.nn.init import kaiming_normal_ as kaimining_normal\n",
    "from fastai.conv_learner import *\n",
    "rc('animation', html='html5')\n",
    "rcParams['figure.figsize'] = 3, 3"
   ]
  },
  {
   "cell_type": "markdown",
   "metadata": {},
   "source": [
    "# Functions"
   ]
  },
  {
   "cell_type": "code",
   "execution_count": 2,
   "metadata": {
    "ExecuteTime": {
     "end_time": "2018-07-26T05:18:09.512530Z",
     "start_time": "2018-07-26T05:18:09.489669Z"
    }
   },
   "outputs": [],
   "source": [
    "def get_preds(dataset, idx, learn, scale=False):\n",
    "#     import ipdb; ipdb.set_trace()\n",
    "    if type(idx) == int:\n",
    "        inputs = np.expand_dims(dataset[idx],0)\n",
    "        model_output = np.exp(learn.predict_array(inputs))\n",
    "        model_output = model_output/model_output.sum()\n",
    "        model_output = model_output.reshape(-1,64,64)\n",
    "        model_output = np.tile(model_output, (3,1,1))\n",
    "        model_output = np.transpose(model_output, [1,2,0])\n",
    "        if scale:\n",
    "            model_output = (model_output-model_output.min())/(model_output.max() - model_output.min())\n",
    "            \n",
    "    elif type(idx) == list:\n",
    "        inputs = dataset[idx]\n",
    "        model_output = np.exp(learn.predict_array(inputs))\n",
    "        model_output = model_output.T/model_output.sum(axis=1)\n",
    "        model_output = model_output.T\n",
    "        model_output = model_output.reshape(len(idx),-1,64,64)\n",
    "        model_output = np.tile(model_output, (1,3,1,1))\n",
    "#         print(model_output.shape)\n",
    "        model_output = np.transpose(model_output, [2,3,1,0])\n",
    "#         print(model_output.shape)\n",
    "        if scale:\n",
    "            model_output = (model_output - model_output.min(axis=(0,1,2,)))/(model_output.max(axis=(0,1,2,)) - model_output.min(axis=(0,1,2,)))\n",
    "        model_output = np.transpose(model_output, [3,0,1,2])\n",
    "#         print(model_output.shape)\n",
    "    return model_output\n",
    "\n",
    "def check_pred_vs_actual(ys, dataset, idx, preds, chsn=None):\n",
    "    if not chsn:\n",
    "        if type(idx) == list:\n",
    "            chsn = np.random.choice(np.arange(len(idx)))\n",
    "            \n",
    "        elif type(idx) == int:\n",
    "            chsn = idx\n",
    "#             preds = preds[None]\n",
    "    actual = dataset[idx][chsn]\n",
    "#     print(idx, chsn)\n",
    "    if actual.shape[0] > 3:\n",
    "        actual = actual[:3]\n",
    "    print('model predicted {0}'.format(dind_to_ij[np.argmax(preds[chsn][:,:,0])]))\n",
    "    print('actual coords are {0}'.format(dind_to_ij[ys[idx][chsn]]))\n",
    "    fig, ax = plt.subplots(nrows=1, ncols=2,figsize=(10,5))\n",
    "    ax[0].imshow(preds[chsn])\n",
    "    ax[0].title.set_text('Predicted')\n",
    "    ax[1].imshow(np.transpose(actual, (1,2,0)))\n",
    "    ax[1].title.set_text('Actual')\n",
    "    return chsn#, actual"
   ]
  },
  {
   "cell_type": "markdown",
   "metadata": {},
   "source": [
    "# make dataset"
   ]
  },
  {
   "cell_type": "code",
   "execution_count": 3,
   "metadata": {
    "ExecuteTime": {
     "end_time": "2018-07-26T05:18:10.222940Z",
     "start_time": "2018-07-26T05:18:09.975324Z"
    }
   },
   "outputs": [],
   "source": [
    "# dims are batch_size, height, width\n",
    "data = np.zeros(((64)**2, 64, 64, 3))\n",
    "y = []\n",
    "dind_to_ij = {}\n",
    "for b in np.arange(data.shape[0]):\n",
    "    i = b//64\n",
    "    j = b%64\n",
    "    data[b,i,j,:] = 1\n",
    "    y.append(b)\n",
    "    dind_to_ij[b] = (i,j)\n",
    "y = np.array(y)\n",
    "shuffle_idx = np.arange(len(data))\n",
    "np.random.shuffle(shuffle_idx)\n",
    "\n",
    "# reindex data and y\n",
    "data = data[shuffle_idx]\n",
    "y = y[shuffle_idx]"
   ]
  },
  {
   "cell_type": "code",
   "execution_count": 4,
   "metadata": {
    "ExecuteTime": {
     "end_time": "2018-07-26T05:18:10.375384Z",
     "start_time": "2018-07-26T05:18:10.349219Z"
    }
   },
   "outputs": [
    {
     "data": {
      "text/plain": [
       "(55, 23)"
      ]
     },
     "execution_count": 4,
     "metadata": {},
     "output_type": "execute_result"
    }
   ],
   "source": [
    "# the y-class should be filled rows first and incrementing columns after e.g. class 0 = (0,1), 1 = (0,2), 64 = (1,1) etc.\n",
    "def get_row_col(idx):\n",
    "    return dind_to_ij[y[idx]]\n",
    "get_row_col(0)"
   ]
  },
  {
   "cell_type": "code",
   "execution_count": 5,
   "metadata": {
    "ExecuteTime": {
     "end_time": "2018-07-26T05:18:10.921211Z",
     "start_time": "2018-07-26T05:18:10.777360Z"
    }
   },
   "outputs": [
    {
     "name": "stdout",
     "output_type": "stream",
     "text": [
      "(55, 23)\n"
     ]
    },
    {
     "data": {
      "text/plain": [
       "<matplotlib.image.AxesImage at 0x7ff4e6f1bb70>"
      ]
     },
     "execution_count": 5,
     "metadata": {},
     "output_type": "execute_result"
    },
    {
     "data": {
      "image/png": "[encoded data removed]",
      "text/plain": [
       "<Figure size 216x216 with 1 Axes>"
      ]
     },
     "metadata": {},
     "output_type": "display_data"
    }
   ],
   "source": [
    "idx = 0\n",
    "print(get_row_col(0))\n",
    "plt.imshow(data[0])"
   ]
  },
  {
   "cell_type": "code",
   "execution_count": 6,
   "metadata": {
    "ExecuteTime": {
     "end_time": "2018-07-26T05:18:15.073208Z",
     "start_time": "2018-07-26T05:18:11.123279Z"
    }
   },
   "outputs": [
    {
     "data": {
      "text/html": [
       "<video width=\"360\" height=\"360\" controls autoplay loop>\n",
       "  <source type=\"video/mp4\" src=\"data:video/mp4;base64,AAAAHGZ0eXBNNFYgAAACAGlzb21pc28yYXZjMQAAAAhmcmVlAAAxJW1kYXQAAAKsBgX//6jcRem9\n",
       "5tlIt5Ys2CDZI+7veDI2NCAtIGNvcmUgMTM4IHIyMCA0MGU3MmRhIC0gSC4yNjQvTVBFRy00IEFW\n",
       "QyBjb2RlYyAtIENvcHlsZWZ0IDIwMDMtMjAxMyAtIGh0dHA6Ly93d3cudmlkZW9sYW4ub3JnL3gy\n",
       "NjQuaHRtbCAtIG9wdGlvbnM6IGNhYmFjPTEgcmVmPTMgZGVibG9jaz0xOjA6MCBhbmFseXNlPTB4\n",
       "MzoweDExMyBtZT1oZXggc3VibWU9NyBwc3k9MSBwc3lfcmQ9MS4wMDowLjAwIG1peGVkX3JlZj0x\n",
       "IG1lX3JhbmdlPTE2IGNocm9tYV9tZT0xIHRyZWxsaXM9MSA4eDhkY3Q9MSBjcW09MCBkZWFkem9u\n",
       "ZT0yMSwxMSBmYXN0X3Bza2lwPTEgY2hyb21hX3FwX29mZnNldD0tMiB0aHJlYWRzPTEyIGxvb2th\n",
       "aGVhZF90aHJlYWRzPTIgc2xpY2VkX3RocmVhZHM9MCBucj0wIGRlY2ltYXRlPTEgaW50ZXJsYWNl\n",
       "ZD0wIGJsdXJheV9jb21wYXQ9MCBjb25zdHJhaW5lZF9pbnRyYT0wIGJmcmFtZXM9MyBiX3B5cmFt\n",
       "aWQ9MiBiX2FkYXB0PTEgYl9iaWFzPTAgZGlyZWN0PTEgd2VpZ2h0Yj0xIG9wZW5fZ29wPTAgd2Vp\n",
       "Z2h0cD0yIGtleWludD0yNTAga2V5aW50X21pbj0xIHNjZW5lY3V0PTQwIGludHJhX3JlZnJlc2g9\n",
       "MCByY19sb29rYWhlYWQ9NDAgcmM9Y3JmIG1idHJlZT0xIGNyZj0yMy4wIHFjb21wPTAuNjAgcXBt\n",
       "aW49MCBxcG1heD02OSBxcHN0ZXA9NCBpcF9yYXRpbz0xLjQwIGFxPTE6MS4wMACAAAAONWWIhAAX\n",
       "//731LfMsu1Tb7YLqPeiniZfQ3UlAZuWxO06gAAAK5UrLz2D4I//h01tzAeoZsUAk4DrYG9Ru/wY\n",
       "A/6ucmOutapIY221T4m3oVykxMEDUxD/J+cr6JtQzQcchFZBkB2VIrcDt98EI7tvnfzjNNuHw8wx\n",
       "iFf4b92KWQ9krfFi9XVnXDeR1JfDI+0RS0AMBzalSzkFKQdOBe2ngL8WdgiEQ9+NV08w+t9GjK2g\n",
       "mxa4VxMxi5u80EO6ZM/j5a6pRQOzK20znDF5I74wFzZx/FUw+alNGjC4uEnBaX0Cw2O0XhIklHiy\n",
       "SMC1comx7JiDWC/9670JLflNhuo6qpzqDec5QeiGBeoyvaKCtRxY1FoHOu0nU8lJO59z/koAHkGG\n",
       "JhUiQMWtzJyIGWcAknbW07GhKtbX4PYNY0Lh2ANUl6xLesQQB5nb+q8RSMB839KeOEOu9HfRXhII\n",
       "fXiR6Cxd3C8ZK6Fa2l+9O67lm0k6PzGQ7kuzl4Vu7rA0NNA7HR8SUQzYFEn+xduekEsrNttmOjhJ\n",
       "8r58cn846fbNhMM7s8TqvAxFN+i9F1AcqI8SYV8OGh0Aid0nrkGx2F9KLICWGwfod6pr4bdAoqtv\n",
       "CCCZJfsqQLMxsy+yn4WfJeK2J4pm/sEM87vTaX8Ct1HeMfYqck2KOLm+18b96Y4RPDUrU6nkcntt\n",
       "zXFUx8nne2g4szvnOSkP04p4oViqJ6Ego2qP+9z//Wg/r+TBQEir8KzZvNAYA4YyI740Z67SxnA1\n",
       "h6I3cC1Wro3zpXBM8olCyYoH9X/ZrXQROsKNyzuB4YMwjGAAVQwiYwmVuVKwkEol0okPFU+IwDX7\n",
       "XykM7yVS+fDUsCWJOV6eODnxP5eAbXhn6HMdi6usesfnuAvg98BqSGA3oFFwsXvyuoNtOVQkGYBn\n",
       "oATX0i4MZQoej25jYNZC0e8423Cah9t8zdp9I52q789tv6jCMcBh2lzcOAET38U5rlmfIvrg8DxC\n",
       "ZChFWDtjNMTgf75yy7tlHvbKP6qMBS2BuJV8qxKDylNAmAx7MuOYWdsUyn6q8ShiiwsjfOmSn8Ff\n",
       "/dwtfQw43AzgYd0Cb4IQ1pu8SjYVkQJRVQuN8b522+z3MUPjvX3VfoHNBr8049aYcrJIFQ384AUp\n",
       "zYpBlOS4ATS8oXSrFmmefisZiGFL5T21qTEPQrQ90sFkuKpAyPFs6RLzK8KglzRj+GpMKCS8hPzq\n",
       "1EP079NfHf6NS2X4jBIkXAmwi5HZTjCiftB2ZXcdwsmut1lyJdI/do6fDTUXPtvve+nr51CySocY\n",
       "nN6wzk7bLfss/DPpUubN03fm86vQJa+5vS1Lfk2LknNpLieieYX2U9C/09l8e4JGhS93Pq1AQTmL\n",
       "ebx8aonutNr93X4DMjKUgyW9eKWmUSfLYjwuKR3ha8QiuIWGlnWQZDIuvITHdUMXNxW9azU0YI5u\n",
       "bSt5rYxxnJI/pzHIgBAHpCIp3Te/YsRFhggXCWnnd91vOC7PlCB70fLAAAALmA3/H2Tv5+oqa3Bc\n",
       "NnPhRtHNEVq19H2apI/wi9JYD++mt6CAd8v86cAW/VyZe5SoA8D/82NVj78hMfsIHR4ubFq8MFt2\n",
       "jDTf8XRymB9u6zjVqwvpE6IepTu5MZkZhweQG5TyLgZYiwnFelkkdfjUXybJgmGTwIXY5eUi6nQD\n",
       "Trcw6We3VogsCkjLADBX3pZ3povFXcU7TJmjgiOYVN7zpAs1OwUg6R9RZdW0NHx7VT0uH7kX3Z2W\n",
       "rAjDV+AP7/sm/FIT9EiX235Q0oyzfN/jrPWGBK2ZZQViD2g2RH7uamyPozCYj3NP2PuyqvytSN7S\n",
       "hHDDyhIPTUeAZWgYYGj8SFDYJvHjDSdvMs3eOtux0r5cWmp0RsOSeTy9hPoxMqdg5geL4q/tFqDR\n",
       "5bk0aPe9IhP9RcT1jagspokdmvEka0fEqNhJUTR2knO5+La+tlYVj6X/WvNdQqkBi3cUhtyZiuSr\n",
       "FLdwsN0WwkUCzuLH56JNCwi2wiEZSkBLD5cFCn8l8tP0d+t+5DEMwjjc2g7N1hFP09CoZNPpfnp8\n",
       "UqjS8kGxRfaEGwFJQe3yNq3cT2cVS791OzYqD8M1URKjrCx6tRpEFwaM+QYlrjH9jjpFashHXdr6\n",
       "4+cFqOj7i/shonufJ0FcIdPaPwcsYTKmtcuJBpHagKjA67NhAaRbfjRHQQqhq9wcM1a/2D3xg+1g\n",
       "AwCdoo+nkSPreEOPZ5gY7zuPKjZRE2EP4wADI3ygWXpBdluCbNVYWd4Y3QK1mj2C4TmkfQE2Hqjy\n",
       "hOVGzWvSxK4zE9hE6ToCUOXgJPnMouKS1fkIDa6NZgF0zxyUX7VqYNvY4g6fT9LC+BMnxowBHg+A\n",
       "BSHvjk4cI5Eaa+sWp++OjsqhEZcjUNaI9Gp/PN/JdXU35VkGr2fGyCU8fmdqPKzzL+goFdLVQIiu\n",
       "fmgRUAcyN5vwiUKGNSLWBqWP3s3qU9en87Efa7aBhgytuBMR7HaTjY/lyf3IyJ3YhN0mb3hv3Qlq\n",
       "QglFan/0wFyyUs3P03rrSyZSmo1cY+oJNvI/O8TjrnI1SA0TwWDF7ZFzcjgL93RT24WHZOKs2Tep\n",
       "kQoPG0zOEBgvjV+EARRmXZzhFiM382zwlh4UmFRc0b7dSPFNYJx5GOPMMZhmdnXZL0Kf5pi44ny+\n",
       "BF7ugq4JVkpZQWr09GJjNPr1DnVABgJuH+NkfYcMhpbOx6PfY41S4pnBmPCKjwIbDbhfRNoIUOm2\n",
       "9Q9I4l4/z8CCJ2r/NFmlLXtSJofrztvbPdfPY1UZZJ0lVuU4K0lJkspJ6Q3xmF7WKiCTJUxAsor7\n",
       "f2Hzz7RqdvaBZ1BekSOUTKrYij/Cujfq0VESFMhZiy9GQbDjKDyl+fNTqaZ2Sv9ZYqk9TYjvyLA7\n",
       "G0jguQwuhTSdV1UCaVF6BOSDN9josEUh7w+IWw3r+2yBERjtgzsrCK34v4qP9AsY965dIuvyHVM1\n",
       "GD71Lwdeoi52RQpOQ+6/l/BGWdkoC8vgADGMxHz3gdNxuiCWDB3RmcORxW/wevOgvPIT1QCoeUqS\n",
       "3aR+rBI8GYXzwrXKKNIXxqraNuIMshTb9dWINg25oxpT7aY5ypx55TVaphU4ued3uWmQ6ATh0Hsb\n",
       "RUlgsDPCSDH+ZZ16WbpH6Ft2r/G2ICStWk46vxLPbq0QWBSyBV8mwAHmVUufXBDVN49dWR3urQcA\n",
       "eErPy2e/vf//bWSoUsBSE0TAPm3VeP6h5WG1X/BKZTAxXF552vocdUEOSNfyidBCObdkEAIpM52x\n",
       "4cxNunwtQbM7y1ymCqmo0AVkyXiHNGtcDcECi6UM6O3B5F+nov5uI9OlRujoFn3c7mougLeEipN4\n",
       "Q0H+HlP+d2QlAt/4WKhO6jpbAHIlRRQTnUOMTeJN4ZMvJmSmZphBjvyZ8Jr9MaFV3tD7aa31HI+E\n",
       "CZDUldEOVGSm5xFF6aGN4JiqXO9UQvqh0au3btBh0NQHrxNobI06s6KQSZyPIQ2ziF2Nz+I8pncY\n",
       "OsmcX/EoCzNJhZTyrny5ldEEkqdZZ3GZjpRqjreIj36fX1rDGWG5xh26dPj1mNLxE/5H+wwr72Z7\n",
       "As1dX4ozgoVigvgRYSAclpBQebC1u7/32d1itnrcUDGkJMtOGF3uF5wOMwUcGJ5GaJrt1M1e0cZV\n",
       "clD8ZsPRJXhtjW6ekfiq0rNzXzjoLObwe8p2SUxnUY/4VzCQfWfAAH0SPFwXhuvPSE594H0MF8kg\n",
       "cnvzu9YUq6kXTaU3NDDM9P4bZg4OlUmpWuw8Cm+HrsK3JbnvLy0RKWJIgsJnOHUXmekEzjGwhxEM\n",
       "bQ+OCi8heUySzIh9IBJlcCCYTjzi8MRnuMrNf0gFIOw++ao2cdgcWZh5jFd9qkR62c1lTuXWRJXE\n",
       "FoM6iD/3jdKdYvIEhB95tzCu9Sv6w+hTu3H5mXRpyiTExskAFiIr+vq9pmBnDTMptfATFbSCBP+X\n",
       "xpAaEvltJpvGLe9JskCDD0NVqERQ7eKyAdNTYqueVZsIOANS5xxWYoLy/cVuWz4gYXwSE+gtkeq5\n",
       "Ct3X14lE2JY8eQyNNWy3vp1X9LgIUaTqeqRZLHXok4F5oLgKWblFCMN5S2XxebBgb3pdkCo5O+SS\n",
       "EkA5IRns8weJzR1bwqjdhge7i8q47rSih88x8tLcjM2p5ukSJp6XXXx1MHAeTgCl12UOBvqVXA0m\n",
       "rncnUF+cIob0ZBYpIn03OknAFP1YlqJa1xObspgiw1YhNffZcd7d223nCAj8yXwV462FfeOebeai\n",
       "L18wzTBrYVaAv3YRF09UH+KiVUH0ZC3iirFAQCeSlwndsQXWb0QfpdRvKP9t9nWUy9zbWiwVIJbQ\n",
       "wyYNL+sCW0xLfN5RGrrOPzZbU1fYC8ZMxm1L0PiIktyHtfcAm2VyevdWdx10dSh6hZiyVa5bKohF\n",
       "Qlx8/JvDCVyH902Xez8aKeUW2+B9ljQFGwAckiU6W0zFOZSudNdMn/0ZCa4qJJ08rBk+8bVuajg0\n",
       "cmQO1UWvSeMVvjfU1YxXn5DOHfISnejrc56BD3Pfk09pHkqHFzuaYigZOVUVDPnWtpyVf/dQu9/6\n",
       "edxbFT9KcwZ9P6Hs8WRFNsvIx1ihcPiIqFIWpHGfNMrMDDBMsFDEv3WdT980/DWyhjOLAcsaqIem\n",
       "NJZ7LBIJBhafRBbWtiCCPDO89nu9tKR07qPlbX1OXnsy3FRYs6QTDs6MfOkjH8nUcp0pc1zMaWMP\n",
       "RWd0bWs7FGvyb1rpWhEffEY46iWanvgRhPWivoRfTEUrNtGDS6MiIYhUVEQosIT+vf2TAfDv+KgU\n",
       "gm4v6wmuVBeW3aQO3b/nNG4HaJJM0aWXFyrfHAhKqChhtjIAAAMAB/kAAAGuQZokbEF//tqmWDQf\n",
       "CpAJlLJkpLcmONx9j7BA4DSJPtJCbPZ5w4EpQDdif/lku1TuExcv5f3UsvCwU9RgfBT1aVEKJRgX\n",
       "tXc9DtYZaMIgDbz1AovcMKhha+dm0Rk9wx4BQ8aZ66ed1/ZS+bRKi3Jvdyzfl+f27BKABo2LE0lz\n",
       "HRRTt6qfQi5hIw4bMAq2ReSvxDQXbT5qSaLHBUMgc2508EivL7Lki4xyRJQLtaDH0KMdp8/7cyuc\n",
       "z0IyOwkI/7ktq54u4L7U1omhiz2c82APZKT7YnA0C9kAf6j2gBLQMm4heS3Lx4l1PNdndngavfsv\n",
       "Tl2whCX5VvQvAWkWtSi/gBFdxvMSXg9JCaYXaOSYmlcntC3iwH3Hs4SGwH7rEairrXwVTzUESxmH\n",
       "1S2v7vYsaKI6wHT49nzlbN5MzlD/3hZeRNUqXoB8FqzUewU+VQgjObAq+RYD3U3aHOeDHH2oZQ01\n",
       "Wlg/Bn9cNO6SG0wsWIwPiV6qPZGrU+8JmXJIg22yMQB3F0knrkFCHwJ2TkLbgTIqHjDZQsKp3ho0\n",
       "ff+Rzz4dkwctCRGDxWhPanGqgwAAARlBnkJ4gt8ABeVgAA/rd6UZh78jNcpi1HG33JMiGNM5HAKV\n",
       "mNWvXoD9uW+za5qAazUcXQ3I94meGwZdcfyTpsnwC/S6ueGOoE5MtTKWt+H8sbWhTdqz+7/YmXLh\n",
       "Ln9KUg7oIHgyXuQS2GR60bA3CQiSo3xUu/feYIV3r1147vHWfhuyfC8P5mSg4dEsVhrSWSuLSd8h\n",
       "kUQvV4rEzaWoQXuQ6vUO8l49zq0ey7GLjqvVFdi1vKRKDs9XwEtv3S2K5jqWuv0Gx9kODXUabF0o\n",
       "INPxJvJIj1IUHSOk2Lx1DThaHvKbg/TJIyjzUEy7lMhx2Q6zF42x3zc4QQGWacKLam4xbzy+Ba2G\n",
       "e/4gBAzF3y4skjjSH1J5HDTOQQAAAPoBnmF0QV8ACDXK9oAF1bbTXdm3d3VSE36/NoUNPsZSHX0U\n",
       "cGg6b0Sg2vZfNyMba1GwBfp99y1OlmsJAFmbo0//TkI74PI1+J5yAfR/EtjclvAY5OPT7TsG8KXK\n",
       "p2aS8sK0lPXJoZ80ZhJBeHHnD4m8g3UN86iTeKijpv50d24CcnKpVrXrezRMSWRd14evAgmVECzR\n",
       "///+pIemHCNTl/9iJCwI3uv3wDSCJApb1z/3lVeHEvahzW0Jm/Do3z8Lo4mRW8zxxecXhOu40SqT\n",
       "uPkpM98fvYfMracg+e8BNc0iVqi+F8PoYLgtJAh7sakWYKfd2X4abzyArOugAAAA7wGeY2pBXwAI\n",
       "NivDCCAD+t4O+sjZxsU/wlTQKpk8Qnd2Nk/k/DjeyAStm2OQ/BcEd/9r98cmfE+bvChTTiDaeW3c\n",
       "bIN3oFRUtVLsp+BDktkj+pkogEexWrMdEcnrRfT0WBQWPrTFq/D8KcxVDx99L0/FJab5IGhhCIN7\n",
       "TIROGZhW4bMmNRsTupmPHcL7HOjaNgKrJJsXvO/J2HLPg3t8Gj89LZGGZ1peDi/JogVUa8knyukc\n",
       "wJ82CvFIf2ZFGIcQr/hGqIR96WpqMkLBCeAujNS/1Uc3SGO3dVS/0fZ7MD145Lz52TyCWm4Dm8vh\n",
       "AQtJAAAA8UGaaEmoQWiZTAgv//7aplg0AGk0ATqkAWblJcpc4W0An60+BJzl+t5HsM/ybnoddOD7\n",
       "usT8L2X9KmRAVl0jjMCbBFnZbLgeLRiLi3pFVxH1bSW0jPB8cY8FINuz58fbrDqy/MXT1wyvJ0Y7\n",
       "z3AqeqkrCV91ItGD/ZP7PgTZSMYg0qzoC1qWNhQsYO74pcYkmYLRIIEUXR84z5bSAO8Ui+SRivS7\n",
       "Kpjjvx1XCwuo3khUjKmDj0QwJJMDc8VeoVO5xjwtCZ1W0pkXaeMT2f+M+/m+0mM42WW9Xs1f2siu\n",
       "eTD0qevU3kCda10wX+o0XfB4/zkAAAEZQZ6GRREsFv8ABeVgABbW8jsgG4BxzvuktYNCfy5Dfh2j\n",
       "GnDaRJ+MnL14Vz7ProG4X1EOBwxjb7ygc/q/aVxZqIiRjtFVdcMfV6bpFcLZfPDPipMVq2dmUREv\n",
       "xE7iq5vHgaEMtZP/bnB4DJ60CCn7EQzhOysuspxxO2HbbIQl1RRt/H/0UXafX6F19nOCk4Sj3oxC\n",
       "yXdR5Fa6Xb2PmPlvIrAICeNCdTlc+OSFiiIr3VcM1yGKsKOqUctijO2NX3DRVIiFr8tqWwrnqzKh\n",
       "Z0f4crlOyC+bjDp/8USFAwS7ZaFcvkV0u9hu0zncArhzgPJxFouXyfulJZb7IydCR3+ruYINltS0\n",
       "zECAQGP4XNRHZ1UeukFvUKXkYjkAAADlAZ6ldEFfAAg3oqRKBrFKMAJrU20AekjJO3P6SQYTmOU7\n",
       "94e5uZBufvy3wdROLiPednH17tbRHYJ+orOlu20WKqKpEI43FnDqDqnuEo/QZFmrhnTX4Sfy8FSe\n",
       "BikP2scQJwEteekMBkE5p+gIHvh5ok2As0NhI8m0qxKmFIzuDxuLwyWRjWwlryw0FzjQKJbEuZG2\n",
       "k7DncVVY0v3hLJA5ckeWo7oyq1tDC4nog9wowY/d43D/oEPDlJj7Bi3TgTBfXw4u+mmR3wrJF9YB\n",
       "ILB+zbMBU4EvajXbsjiKQxTdIlKmgpeBlwAAALwBnqdqQV8ACu0Q50uPPp53Ky9jDyn+BMB4AW66\n",
       "DvtuhfSTAPIX0Nn8fdQyAfPCqilSnDis8ok+w+kkv0HTUGHNl/DPr2C8TtRzpNleC3Rnu3ZYo39Z\n",
       "lKmQ0PFP6KVhtu8uDAgt7rDs+TdiC36B+tqg5GskB+zgx3FLwdn4PIa1w7nbO7yO3ZYFplF56//n\n",
       "Iun9gKvWPbVSKhnb4h/KCjAvHZqI4n0JJNR7bK2loJMIyrpQPXOvUTTY3N8ZQwAAAXFBmqxJqEFs\n",
       "mUwIL//+2qZYXoNNCD1Y5p19hLVRpmgBVapQtdzq6ll6twfF9lbNmyPymTJgOjbdQk8ogVfbfgNL\n",
       "Wfzq7NMKfVNB+1P5n4v6//qH0DkwLiIHlhtiH5IKZbV5nmqXVXEHZuFSZNfvkLgDiEKl6m43DYG8\n",
       "maSz5TwEwynuYaZRSCBgngYbxFtA8ayeblg1yGt2XZXiLIgsN7rQACycuHuiG97QjhMkSFdA6CRj\n",
       "fz2K/1m3ZwBqAUhnTbDEXuV1pO1bL7OSif1nhE+gtHXkADUxnNwkCn+Q1NnIZJjJu3OgqoX6589Z\n",
       "88rx+FqMrnnM3WfIWljxSxLXSokyubLJ/bH8aSgQpZ86wWYTMswJEW7niE2ve7F2WlsiNWX8kpEu\n",
       "+FgXZLpBIphmPxau42ns41GAnJEZEeaztF7ia2rIOc93v1QA53LFF1BIB+xEYF6XIjej3WfTrvfC\n",
       "DjCCgznG940V0gam6OZ5xXs5jRgAAAEhQZ7KRRUsFv8AB6fB66VbAJzp/mwATUd/HJB6AEy9eUbZ\n",
       "ar/T1zwvwtX+Nltxtgdq6sVaXq5rfzIYRKO6YOLvVDpZM84giAkjyG3i04QosxWAPovnyXoFgecx\n",
       "vq4frtNUyilH5CcEWlAQrmey+z7qFvj5YXSlu0EYH5tRo3iWL4y9/kjvA6HF5cY4jTOhWefTI64Y\n",
       "I4U+zudufsy24Y3IZArCQznMNLD9mUIUEPk1Py8gI4WVMod1ffXjtWJrvmyOXJICbv+EyPQS6/5V\n",
       "cc2uQFLfKs1pYGhr7o2+613bxKe3kufbidSiRFAl5NwTJ8AbTodULWwHSp4K2Yl2ceelx//jrlBO\n",
       "JYZ4sL/PHTqbfEjpGtD2aekWd22P3780OukfgQAAAT8Bnul0QV8ACu/8apfeCv+egBLVXt9qdRrB\n",
       "u4T9G0dgW+Tt6kYLTqU7FNtmM73un+UiUJhf2JkpD+SzvdlrsCwoVtY/RBFzFapzKeQxzwy7aQlr\n",
       "asnQ/XMkEOlDJ4Cl0rhdQMl3Q5iuU1UWxhkZZfO2JQNu2RpARGdcas3M+JGMz6shy5vAXexbWaY9\n",
       "viJ2+Nl8hAQI8MV7cBvbsC6JeQoUvNMpwHdMhCPr8GeqQklW9eazMV3e5pyTXxGSxjitooWYUxbI\n",
       "id0EQy+CwH5+oASc3SY2P4RAuk6ieKRM57YQX+ZCDDthxZswqF4BZ5Cj6fpLtACYbAom0T3BUV9f\n",
       "Qxd3jHVal3hrenhGXAoh2M37B6brtrYpPLigf50fjnkVn/a+xvYCifaRn912xtEX3qLoQqCeiFOA\n",
       "fe+aee0mPrUgAAABHAGe62pBXwAHsikAH8htKSa96sTa/xSzGvVuJSpRhwrbJjy5fGfWnRUXZNPa\n",
       "rvtxp6G4JWetzpKaBywvjYxJ5v6rw/hX5fK39rSmIfm9atq7KjMux+LYY0ZkeylLX8iJI8UKcimE\n",
       "nMeXdWKvi3kEbz5vhXqEFjTXkXGC97NT6M31hXLmksPt1zFl6Ll6oBYHD1IuAcW4yOyv8t71lHS6\n",
       "6ISTsqqxHy/7YsPSBDXXPGHtHUa8dkEYGkHHo268JVP+QJsTG8GLFuq998y9jP3p+RkPBwPJg11b\n",
       "+EnfmyS9IKsykWeB1IEERNzEg0hqVawLth/sZfaCCIwJm1gaKlEQVs1MKRxTtHOhZcCTpdltM6Zy\n",
       "RgjDNajaHeXu1q6VAAABrUGa8EmoQWyZTAgv//7aplheUH6DSd3BaRuIAVxQ/waX/+Tnk5LArJ3y\n",
       "kfp//ySFaSc5JPZjxK/xyIT6wuyqA02goDIjiZDfRUBfArEsi90n00EGB5tVHzx5R5SqjwHSwluV\n",
       "ZO45hRFfJ3tvhTlXblHlDnbEVg1ZQ1KrQosWq9r8l33Jxa1eGx/F1oi4YanTREyYsG6d/CetzWsv\n",
       "X7eyTFsYGSAxo//3n+56MjZbNPgRXIbyaqY90FDMn42N/SmkOngUuY27RMHrHxC0exJ+CvADwdd9\n",
       "CR0Nk0Z4ruwsRd19VJbn0Z0CW19BYCBXVHQfdmYqszQuT1XWB+xZEnTM2wGKhQPxdBfPbgMpdWjt\n",
       "ORQ3gee6Q9BvQaresIc1TO+rLoi1NcbsVU8FAVpG2X4gmFdnkqRaUDhDgu6uKQ2jQxfjhlSByv9D\n",
       "gUFI/rH837oVqTa3EvNWiuSLXXSPzP07fB1jV+zs9wqWIhoYm+uj8Ht63wP5fkjACKzl4TeHK8xL\n",
       "4Dbok6zMrLfagxDpir6bCbX6c0rVRSp9KBzBF5+mdv47yaEfAvpHsUF0ElbyIQAAAUBBnw5FFSwW\n",
       "/wAHp8HrpVsun5mCO1kAD+t6XwUrv8dhezw1fbLbCiYtiRuRBdZBsZwNNp0bA9OufvFkIUDI5ngv\n",
       "FHHtx0Bzgbmeubm5wHA6ndNMy+KuYtdqxMDA0HBpxSUNDquMOY0IO2RZZp6mK+ubcfisVExUuXKy\n",
       "dis1VdhhOnp8dGqY0mzgpnvR+VKd3A+DE17G1vcrgcMV3hzwwAxAkNh/nhpT354cExpJv6vwBkH2\n",
       "velgaeW6JiAEGmJZTBldSXxmskdVIKOjl3ubEPp5g0JuQAM/UWHcH0JtxNZRURKO8Y5lqPLHw5pO\n",
       "8n5oCz8KcXikadc64iHWkCXHOGTnaFBXeVhd5OR86ExqVJ/ip4RT2MGXBf/4Ut9gVhqBnSl6Wwie\n",
       "njrln3bkW67A/d0XAMLMwqoX2M/8vw189CVAfQAAAPoBny10QV8ACu5JZ+WcPb9KLRLwAATuptoC\n",
       "mjGANmFCm6XptwCFFbVWGt42rgQhChEd0ZTLsQnzf/kI6345ZBKFgbdeHseK8+rWD/LQI+70ae+k\n",
       "tdtcf0Au8P+vOrGAAi6d9Ybm72FAy5R8Zt9CN83DHFk28H8IOPdHvG59/+V/aGKAgNG7Doern6dE\n",
       "vkq965zh/ezqOVmnl3aaGWGb11fMM9DWrQo6oszZp2xiVca51LjSUCUCodV8n3TKynJ5Rw3IY3f8\n",
       "JHZkNAuHycRgOuFWAFkTbfhsfxPnGbx/xk6q02wEoZaU8cXj1PhrxGnY1p7Mtf3iclhrsTZhAAAB\n",
       "ZgGfL2pBXwAIX8oAF1b9zdtykotoM0+yoRfjEq5/fvjwBJqHt0U9rdTwbR8C9ARWpv3T+roVsiYX\n",
       "JxBaahSizPf3LyhvfQIrBg05tC3K2n4LYluT4cNF4jrHHHzaH+X0QvOnjjdDt1ueIJ66WqfgFQ4C\n",
       "G4Rm8GiI7nihVTLL9MD6jI1kchOQdUtO1NHZzjKUGsiAyl/UDmkho3g8VS5Oa4C43pQCjFx0KCtL\n",
       "2IJNAAAwiqjnP57TG4VwbaoG7BLXD3GFY81qB96QpX/oAGv1BR924Axf3t81LJToJei1INVssddd\n",
       "mdzahRimjOVJBFcCICdXhZF01VkBcHhHdvfL4ocjM9/J9wtfI1NPVQpMMUmyIeCAjCtcrGps1VxV\n",
       "4Fm9V+4Fb0rK7xVvAfOw8f8skWm/UR/NS98gE+1NyX48MyWqU/LDHasTmf3xsCy7cNZKoIFuDxN4\n",
       "1iYsXWCzIJGvChNbjGnTQRgAAAE8QZs0SahBbJlMCC///tqmWDQAaTQAjMU88tIYuD9lUks6LHBP\n",
       "6vpWiSv/lsg66CoOcWaGp2ouzqT4jOWeNYPiOFgy1A+kcxjDmRdp9YUf7fF4raU1titJJE1igXFd\n",
       "yf4XTHKR105Di8PBoqNoZ3GVfUu+Xg6+/80sDVEYHja07PE2vomKW5xvTkdNnUd2dIuekmqONNua\n",
       "GWjqyvxz8kEjP7klzG+haGxMH6/QeugzNroXSpQ178SiqgVXdSJ7xyFLTmCzUhaN3Rs9QBoe1fXW\n",
       "Fr6fx0d8/AZTZrOAIiUBB6gvAgnAdibq8vBuGP5dDL4m6htTKXuv2jRbDNOaIVwWcz821uF22EOZ\n",
       "04ZQ+k4W0uQo35fgD1KMTPynp0IybZMf/OhZD+oWzsyswfLFNYeHUeI4AT//Lh6U05AOQAAAAQJB\n",
       "n1JFFSwW/wAFuzFZRu7oAJ3U7Ri5HHrVIlxr9gtz5Sijl4GOXL54P5UVQGAg8uWCmgTlVZ2tec4k\n",
       "8nR5GzYtfuEfs/BhmEb7F7O29YhhJVscyT/SiphujTruK68qHAPj5Y8cZrl0vR93eRSeM9zeSxKl\n",
       "iHErFn1UPzHdy2X0aLsuNOiD129jnHNtU+nm8tH9Uyx7XjIMZdETecudUSKPfs/RK30NVIGbrFUc\n",
       "ULH61u45RuwToT8PkssjNyzWvRxl+cbzqOgwj0HiuQ+kXLDOubseZFa2QpCwLFKDeWfC1Vd9XOMR\n",
       "Hff/TEZ1Kle1HV/i97/z+J7a3dVuoYU7s0al0akAAAENAZ9xdEFfAArvaYDqD0GRVcvJdH5m9ACS\n",
       "2DvpiFC/Sf5n/B5Po9OhaPBfR8emHwHTKdiQPTNo4duAE5Dd65U1ONPDvqP5lWl4dW10ykYNP267\n",
       "MsSMSE8F4Bi230NF2WGtF6T3nRwCYupp6Rb7NfhF+SBo+7h6AcgyCouSNo5rltNtMpaSXtQYq0JX\n",
       "4t76a+RM2HWggYxJkbH5CMf6Hb0Xgzhabo48QUIHXI7qPYloyM/8wsXjiDQpKqViOHDcV+H6wBPM\n",
       "YMvPGIH7Q0Pi2tvwydZ9WOYfBvdFIJcZmjTQDyJInBqGdtCk76jIulnX2/QMIg+LmzHkF6NhP0Qt\n",
       "L9tojlq+ihptP5r8h5kmBdwAAAEEAZ9zakFfAAg33MUAC6t+ZcLzAmiAHocdlkTc4k6XcAlAiu29\n",
       "wsd9w9i4/0WWr0fZaiaAg4HC80YXNnHnfc4HBVN3h8NhqOEVpNdUYtkY7ZFum6uOdorUEpIYd/mq\n",
       "rRMgLbzDGTDcwePCiLLxFwYd71s5HpGsVplSphkUZwyBNeQzCdvw5UZfFEDy1RigAUEvO05Ro/gF\n",
       "v9GMHqJxydApDvHePqcvK/RLFIbdDpdtj9Ii70pHDgaBk+YwEuz0DNvhfCvGtXkrIIIx8pBK55KO\n",
       "jA4JqBIJOZ665uD0VYhL3Gz/zNoB8zyMA+e3Lrw1U5CYR+rg/0noSQiXe1GtQrb+foDRVZwAAADi\n",
       "QZt4SahBbJlMCC///tqmWCv9hQACW1RSfs9/1Nq562PI20JOL24DLXzD3pK5HYi9sgpX9zfd0Ybg\n",
       "Qr8NDIQ7NryH99WNhEYpUx80Z7DfHwTn6i1BWxDzpY6Lkv6jSn22/y+9vsiDakJdO1NA/EEOzKTc\n",
       "17GdBYlo1rUuMLGNPt22yKtgc9NhT6d30+TmFq2Im0aKNxVdRCa/ouI0SVTbv94I+xV78Go+3GRJ\n",
       "wiZDAb2XN2v531iv2Lyg6LmryN9x8MfxT6JbA/vZ/3YQvbUdZ7txT+IUraCZjiou+W4394uKwQAA\n",
       "ARdBn5ZFFSwW/wAF5WAAG7mGpVjzrgGPtytjYhn2VWit8wFtYoZJLboPqCOyiyBGVo8ekgRoONr8\n",
       "DQL+sQC+7eDJ2AKeo2yor1qmQmb7s8NaAXMWWvqQ6H6/cpbxBt2cRxN2mhgmA8RQUJ9UNDMJnYIe\n",
       "IGgXJ9bF5oCoU5qDomrUwYi/xuwCxQy475UjhvWFhgqYbVbNgyz9JLLQh1lTYm15johJbpHDFvT/\n",
       "xmgGhP2gz2y+TbU5xVPvzbwqs+1FjLJcT6zaFr1SBOeEJDODG8tXOmO1//JR9XAjBWNlx7hFzdre\n",
       "ryrgCSLIRq8tCMAIVl51LHfrdX7iQAo/2V7PwJbYOLw+EqFCUDyxg06r4CJrGCCXDzn8gKgAAACm\n",
       "AZ+1dEFfAAg2b+0AC6t+5rn9CDyaZ3fESdLcLwv1h6olhiRPARqV8OZc89HlOqwzI8AqJyJgCfui\n",
       "BCGObBiVM/rrRCuzUT0C8FIQw2AgP9gjV8kIPki+fQ9arTf564q1pLBmfCGk02j0mxRGM4IF8EtE\n",
       "OUpTKKmOpgokJsfC3ueh68jtSadsQPfcMt+PiDYpVhXuQb49U7mYmhlTmMpzu5nnSSeDgQAAATQB\n",
       "n7dqQV8ACF/KABdW/nK1NPwBEb08fSd6wn9qu5aiiLRcXbDE7WrrPurC0Rr49vjNoY61XrHfqWcP\n",
       "tp1/vo4UlHXVd+XqUlKSpx++h10PLg89K7aoPmEr0VqYFyQF/aOEn1xEcXPv8M76Aoj7cSi15OWX\n",
       "Wlnet0CJAbVDi59DjfvfKnA9Z11rj9ShoDZT/lw+SR67PiOdVkd8tRcXiVfkGeBWlsz+bgNVMz9t\n",
       "1ld+fVp7S1/t53HuuoaVMFUIdfg7uAiHbJhrZQ+SNucYo49hE7R0M/ThZ4FxpZK25cIuo2UZBMI2\n",
       "IELP1Cg7NYIZKVK771L9DD2Hadjf/xY8f/Dad9r25ICgODmdPVNO9VHmvZ06RSwopOCREAs3tsHy\n",
       "CMN5Q2haUwNpW8CL40wvQl3NAY7TsQAAARRBm7xJqEFsmUwILf/+1qVQM/WKAAEtcAlAoBoNjL9g\n",
       "gPLJM+BKWa6fwm1SuAgL2hSu+8s800JchJrfNEzlv5Gg4kNrBHHz1/15j8v0G8/mg2MjIjWoWM7L\n",
       "U6+Z2XiZKObsAQ+LyPD+/yOIV6HPpU/Mg71Jm5tvWCWSmTHUYHluZvurnharxnRjsbAxrSWYZMDt\n",
       "IWCV3+GWIZGGmCgTG0TlTNs/0SKwp5t8q7jXHQZBNyh8nVkHcPBS2pdExnMcKzTyzY2wXmwKaHly\n",
       "zqiqdvWj0cMpJLPIwlX5ju724HUTcXD9WX0S7opz/aPYPy375PitYcBKSNioeMP7c6KJlCYmvEVg\n",
       "CD9itqotfgyM/y0YBVcJ1EkAAAFAQZ/aRRUsFv8ABbr6CyADdppUTkYlmtO6XpTdfwtF4xL8D36E\n",
       "bnBtQo77GsTBL7U5jeMwcGbmnQXXDVTWgNNMinDED0n/V3CvxqoPAc4On4kLnl3HTEE3SEwCZeHr\n",
       "/vU/s4u2JPBrYWiZT3c5/zYL5A+pUTOlX7n04gt50kC49zj2tPaVPGYQHk5Y7c9LkELOpFPsbmaC\n",
       "FqCC05MwF6wv2VN0ZwM4ZEH2BYXAoG0cFLzZvJjk3ta1xVnVg21oTAKHd27ttge0Io7x3oaVvA3K\n",
       "utLhAH2eCeQmgOqCu9X62YL/ZjSUTtc2gRzoPLDq0HMP0jdCWkLJ8STcqf+Bp+fuGDlO8ibjsoQf\n",
       "/EQKPX2EQnrFmyM5jD1yDE2Cas8bBGU3tIishc2ElzIb+BKAy35XDuu/aL+VRUDa+G7k+ZteRoEA\n",
       "AAEGAZ/5dEFfAAg2bURF50AAndTbQArXgahJWzslzaonx8G+i5uiDSR66cNhVaqoY3tp1+DUQ7mB\n",
       "VYhlw5xjj0ynMkybOVxFQR//3wOmhyRafiLV2IKrF5/25O66cgRdqWbCsIgtWW4qXD2p/EbTLgx/\n",
       "uuuieH4q3u0nj+c7xjMgjy2rHKLSRaP5SE2zKTDYXofosiWMbmY0ydKxNGoTMxk950jUi5d4CK6e\n",
       "zLXFMAEu3/Pq/WnemmgNTObyvgGGhdWtYIrw4SawZTYqyI9QU7VWBTITSGXC7hrBkOYEngVDb2/v\n",
       "+TrXQO2klk7qjqSP5E3uSGho1DcDDNfwnT/fJHLDViAn9P0UeAAAAMwBn/tqQV8ACDYq2orlAAnd\n",
       "STzjOrrNxOf5Max47fvlXdLOlGThUFlnTV3RjkvvOdDby0P/zXQb7FJEVw7j2tnGgfW6gqQWkKoy\n",
       "anzp9lLmDfhtenZl9uAZ4TSFrGDrgYGOpxZSxV2NiF/vGt3VG3c5lJFIa8EKy9aqfPMmx4iJ/zr8\n",
       "vMNZaksP5qEl5TPgsdmEytqr3mSjqiA0JOqt8/J2r7UIK53At0i7VUNBimYsJA1zbGMO+YEzaR3/\n",
       "I6E1s+12NZUs5gB/Hn7BQoMAAADjQZv9SahBbJlMCCv//talUDP3seaB5gBNam2gKPvRcBrnr1C8\n",
       "dpm3NOj6sck9r9CuIVIy+di618wqc2EoMhvcxe2Fu/9j39G6z/arTqUhZ4Dq5F8H6N3YNhszpOsg\n",
       "BlPV5ft5WjvYR61b33qxBywfq9HJpxDKYfHU6i8FSuDkVNKo1AeQRQt5Zuyhmdo4YhtUBp9lQS/Z\n",
       "r7TZsENS5sJ//04dBDvQfvDaXC/tw9J4gq+gSgdEjLZtkAtU5VparObvFLt71/udZFCMXWEEYtXy\n",
       "P1/TdVPqSqlrwQ0yg9OB6w650c0AAASYbW9vdgAAAGxtdmhkAAAAAAAAAAAAAAAAAAAD6AACSfAA\n",
       "AQAAAQAAAAAAAAAAAAAAAAEAAAAAAAAAAAAAAAAAAAABAAAAAAAAAAAAAAAAAABAAAAAAAAAAAAA\n",
       "AAAAAAAAAAAAAAAAAAAAAAAAAAAAAgAAA8J0cmFrAAAAXHRraGQAAAADAAAAAAAAAAAAAAABAAAA\n",
       "AAACSfAAAAAAAAAAAAAAAAAAAAAAAAEAAAAAAAAAAAAAAAAAAAABAAAAAAAAAAAAAAAAAABAAAAA\n",
       "AWgAAAFoAAAAAAAkZWR0cwAAABxlbHN0AAAAAAAAAAEAAknwAAKAAAABAAAAAAM6bWRpYQAAACBt\n",
       "ZGhkAAAAAAAAAAAAAAAAAABAAAAlgABVxAAAAAAALWhkbHIAAAAAAAAAAHZpZGUAAAAAAAAAAAAA\n",
       "AABWaWRlb0hhbmRsZXIAAAAC5W1pbmYAAAAUdm1oZAAAAAEAAAAAAAAAAAAAACRkaW5mAAAAHGRy\n",
       "ZWYAAAAAAAAAAQAAAAx1cmwgAAAAAQAAAqVzdGJsAAAAtXN0c2QAAAAAAAAAAQAAAKVhdmMxAAAA\n",
       "AAAAAAEAAAAAAAAAAAAAAAAAAAAAAWgBaABIAAAASAAAAAAAAAABAAAAAAAAAAAAAAAAAAAAAAAA\n",
       "AAAAAAAAAAAAAAAAAAAAGP//AAAAM2F2Y0MBZAAV/+EAGmdkABWs2UFwv5ZYQAAAAwFAAAADAIPF\n",
       "i2WAAQAGaOvjyyLAAAAAHHV1aWRraEDyXyRPxbo5pRvPAyPzAAAAAAAAABhzdHRzAAAAAAAAAAEA\n",
       "AAAeAAFAAAAAABRzdHNzAAAAAAAAAAEAAAABAAABAGN0dHMAAAAAAAAAHgAAAAEAAoAAAAAAAQAG\n",
       "QAAAAAABAAKAAAAAAAEAAAAAAAAAAQABQAAAAAABAAZAAAAAAAEAAoAAAAAAAQAAAAAAAAABAAFA\n",
       "AAAAAAEABkAAAAAAAQACgAAAAAABAAAAAAAAAAEAAUAAAAAAAQAGQAAAAAABAAKAAAAAAAEAAAAA\n",
       "AAAAAQABQAAAAAABAAZAAAAAAAEAAoAAAAAAAQAAAAAAAAABAAFAAAAAAAEABkAAAAAAAQACgAAA\n",
       "AAABAAAAAAAAAAEAAUAAAAAAAQAGQAAAAAABAAKAAAAAAAEAAAAAAAAAAQABQAAAAAABAAKAAAAA\n",
       "ABxzdHNjAAAAAAAAAAEAAAABAAAAHgAAAAEAAACMc3RzegAAAAAAAAAAAAAAHgAAEOkAAAGyAAAB\n",
       "HQAAAP4AAADzAAAA9QAAAR0AAADpAAAAwAAAAXUAAAElAAABQwAAASAAAAGxAAABRAAAAP4AAAFq\n",
       "AAABQAAAAQYAAAERAAABCAAAAOYAAAEbAAAAqgAAATgAAAEYAAABRAAAAQoAAADQAAAA5wAAABRz\n",
       "dGNvAAAAAAAAAAEAAAAsAAAAYnVkdGEAAABabWV0YQAAAAAAAAAhaGRscgAAAAAAAAAAbWRpcmFw\n",
       "cGwAAAAAAAAAAAAAAAAtaWxzdAAAACWpdG9vAAAAHWRhdGEAAAABAAAAAExhdmY1Ni40MC4xMDE=\n",
       "\">\n",
       "  Your browser does not support the video tag.\n",
       "</video>"
      ],
      "text/plain": [
       "<matplotlib.animation.FuncAnimation at 0x7ff4e1709208>"
      ]
     },
     "execution_count": 6,
     "metadata": {},
     "output_type": "execute_result"
    }
   ],
   "source": [
    "fig, ax = plt.subplots(figsize=(5,5))\n",
    "plt.close()\n",
    "def animate(i):\n",
    "    ax.imshow(data[i])\n",
    "    ax.title.set_text('coords: {0}'.format(get_row_col(i)))\n",
    "#     if dind_to_ij[i] == (0,0):\n",
    "#         print(i)\n",
    "# show first 30 frames of data    \n",
    "ani = animation.FuncAnimation(fig, animate, frames = np.arange(0,30), interval = 5000)\n",
    "ani"
   ]
  },
  {
   "cell_type": "markdown",
   "metadata": {},
   "source": [
    "# make uniform set and quandrant set"
   ]
  },
  {
   "cell_type": "code",
   "execution_count": 7,
   "metadata": {
    "ExecuteTime": {
     "end_time": "2018-07-26T05:18:15.095628Z",
     "start_time": "2018-07-26T05:18:15.074661Z"
    }
   },
   "outputs": [],
   "source": [
    "def get_trn_val_idx(data, dtype='uniform'):\n",
    "    if dtype=='uniform':\n",
    "        trn_idx = np.random.choice(np.arange(data.shape[1]**2), size = int(data.shape[0]*.75),replace=False)\n",
    "        val_idx = np.array([idx for idx in np.arange(data.shape[0]) if idx not in trn_idx])\n",
    "    elif dtype=='quadrant':\n",
    "        trn_idx = []\n",
    "        val_idx = []\n",
    "        h = data[0].shape[0]\n",
    "        w = data[0].shape[1]\n",
    "        # first quadrant is val, rest is trn\n",
    "        for i in np.arange(data.shape[0]):\n",
    "            if data[i][:int(h/2), :int(w/2), :].sum() > 0:\n",
    "                val_idx.append(i)\n",
    "            else:\n",
    "                trn_idx.append(i)\n",
    "        trn_idx = np.array(trn_idx)\n",
    "        val_idx = np.array(val_idx)\n",
    "    else:\n",
    "        raise ValueError('dtype must be \"uniform\" or \"quadrant\"')\n",
    "    return trn_idx, val_idx"
   ]
  },
  {
   "cell_type": "code",
   "execution_count": 8,
   "metadata": {
    "ExecuteTime": {
     "end_time": "2018-07-26T05:18:15.171424Z",
     "start_time": "2018-07-26T05:18:15.096853Z"
    }
   },
   "outputs": [],
   "source": [
    "uni_idxs = get_trn_val_idx(data)\n",
    "quad_idxs = get_trn_val_idx(data, dtype='quadrant')"
   ]
  },
  {
   "cell_type": "code",
   "execution_count": 9,
   "metadata": {
    "ExecuteTime": {
     "end_time": "2018-07-26T05:18:15.958334Z",
     "start_time": "2018-07-26T05:18:15.172780Z"
    },
    "scrolled": true
   },
   "outputs": [
    {
     "data": {
      "image/png": "[encoded data removed]",
      "text/plain": [
       "<Figure size 720x720 with 4 Axes>"
      ]
     },
     "execution_count": 9,
     "metadata": {},
     "output_type": "execute_result"
    }
   ],
   "source": [
    "fig, ax = plt.subplots(2, 2, figsize=(10,10))\n",
    "fig.suptitle('Uniform on Left, Quadrant on Right')\n",
    "plt.close()\n",
    "ax[0,0].imshow(data[uni_idxs[0]].sum(axis=0))\n",
    "ax[0,0].title.set_text('Train')\n",
    "ax[1,0].imshow(data[uni_idxs[1]].sum(axis=0))\n",
    "ax[1,0].title.set_text('Test')\n",
    "ax[0,1].imshow(data[quad_idxs[0]].sum(axis=0))\n",
    "ax[0,1].title.set_text('Train')\n",
    "ax[1,1].imshow(data[quad_idxs[1]].sum(axis=0))\n",
    "ax[1,1].title.set_text('Test')\n",
    "fig"
   ]
  },
  {
   "cell_type": "markdown",
   "metadata": {},
   "source": [
    "# make model classes for fastai training"
   ]
  },
  {
   "cell_type": "code",
   "execution_count": 10,
   "metadata": {
    "ExecuteTime": {
     "end_time": "2018-07-26T05:18:15.976340Z",
     "start_time": "2018-07-26T05:18:15.959622Z"
    }
   },
   "outputs": [],
   "source": [
    "class Conv(nn.Module):\n",
    "    def __init__(self, ic, oc, ks=3, drop=0.0, bn=True, act=None):\n",
    "        super().__init__()\n",
    "        self.conv = nn.Conv2d(ic, oc, ks, padding=(ks-1)//2)\n",
    "        self.bn = nn.BatchNorm2d(oc, momentum=0.05) if bn else None\n",
    "        self.drop = nn.Dropout(drop)\n",
    "        self.act = nn.ReLU(True)\n",
    "        kaiming_normal(self.conv.weight.data)\n",
    "        \n",
    "    def forward(self, x):\n",
    "        x = self.conv(x)\n",
    "        if self.bn: x = self.bn(x)\n",
    "        if not self.act:\n",
    "            return self.drop(x)\n",
    "        else:\n",
    "            return self.drop(self.act(x))"
   ]
  },
  {
   "cell_type": "code",
   "execution_count": 11,
   "metadata": {
    "ExecuteTime": {
     "end_time": "2018-07-26T05:18:15.991843Z",
     "start_time": "2018-07-26T05:18:15.977570Z"
    }
   },
   "outputs": [],
   "source": [
    "# swap axes for pytorch as they need (bs, C, H, W)\n",
    "data = np.transpose(data,axes=(0,3,1,2))"
   ]
  },
  {
   "cell_type": "code",
   "execution_count": 15,
   "metadata": {
    "ExecuteTime": {
     "end_time": "2018-07-26T05:18:38.362081Z",
     "start_time": "2018-07-26T05:18:38.176197Z"
    }
   },
   "outputs": [],
   "source": [
    "ttype = quad_idxs\n",
    "X_train = data[ttype[0]]\n",
    "y_train = y[ttype[0]]\n",
    "X_val = data[ttype[1]]\n",
    "y_val = y[ttype[1]]"
   ]
  },
  {
   "cell_type": "code",
   "execution_count": 16,
   "metadata": {
    "ExecuteTime": {
     "end_time": "2018-07-26T05:18:39.373939Z",
     "start_time": "2018-07-26T05:18:39.336655Z"
    }
   },
   "outputs": [],
   "source": [
    "trn = tuple([X_train, y_train])\n",
    "val = tuple([X_val, y_val])\n",
    "path='data/'\n",
    "imdata = ImageClassifierData.from_arrays(path, trn, val, bs=8, classes = y, test = trn)"
   ]
  },
  {
   "cell_type": "markdown",
   "metadata": {
    "heading_collapsed": true
   },
   "source": [
    "# regular conv"
   ]
  },
  {
   "cell_type": "code",
   "execution_count": 14,
   "metadata": {
    "ExecuteTime": {
     "end_time": "2018-07-26T05:18:16.225345Z",
     "start_time": "2018-07-26T05:18:16.176799Z"
    },
    "hidden": true
   },
   "outputs": [],
   "source": [
    "net = nn.Sequential(\n",
    "    Conv(3, 64),\n",
    "    Conv(64, 64, drop=.1),\n",
    "    Conv(64, 64, drop=.05),\n",
    "    nn.MaxPool2d(2),\n",
    "#     Conv(128, 128),\n",
    "    Conv(64, 64, drop=.05),\n",
    "    nn.MaxPool2d(2),\n",
    "#     Conv(64, 64, ks=1),\n",
    "#     Conv(128, 64, ks=1),\n",
    "    nn.MaxPool2d(2),\n",
    "    Flatten(),\n",
    "    nn.Linear(1024, len(y))\n",
    ")"
   ]
  },
  {
   "cell_type": "code",
   "execution_count": 15,
   "metadata": {
    "ExecuteTime": {
     "end_time": "2018-07-26T05:17:06.625562Z",
     "start_time": "2018-07-26T05:17:04.519540Z"
    },
    "hidden": true
   },
   "outputs": [],
   "source": [
    "bm = BasicModel(net.cuda(), name='convnet')\n",
    "learn = ConvLearner(imdata, bm)\n",
    "learn.crit = nn.CrossEntropyLoss()\n",
    "# learn.opt_fn = optim.Adam(learn.model.parameters())\n",
    "learn.unfreeze()\n",
    "learn.metrics=[accuracy]"
   ]
  },
  {
   "cell_type": "code",
   "execution_count": 55,
   "metadata": {
    "ExecuteTime": {
     "end_time": "2018-07-25T19:31:29.013962Z",
     "start_time": "2018-07-25T19:31:25.589214Z"
    },
    "hidden": true,
    "scrolled": true
   },
   "outputs": [
    {
     "data": {
      "application/vnd.jupyter.widget-view+json": {
       "model_id": "2b23cb094d4345c1b30b0f45b1da232b",
       "version_major": 2,
       "version_minor": 0
      },
      "text/plain": [
       "HBox(children=(IntProgress(value=0, description='Epoch', max=1), HTML(value='')))"
      ]
     },
     "metadata": {},
     "output_type": "display_data"
    },
    {
     "name": "stdout",
     "output_type": "stream",
     "text": [
      "epoch      trn_loss   val_loss   accuracy                    \n",
      "    0      8.707044   10.149744  0.0       \n",
      "\n"
     ]
    },
    {
     "data": {
      "image/png": "[encoded data removed]",
      "text/plain": [
       "<Figure size 216x216 with 1 Axes>"
      ]
     },
     "metadata": {},
     "output_type": "display_data"
    }
   ],
   "source": [
    "start_lr = 1e-7\n",
    "wds = 1e-5\n",
    "learn.lr_find(start_lr = start_lr, wds = wds)\n",
    "learn.sched.plot(n_skip=0)"
   ]
  },
  {
   "cell_type": "code",
   "execution_count": 56,
   "metadata": {
    "ExecuteTime": {
     "end_time": "2018-07-25T19:32:53.313822Z",
     "start_time": "2018-07-25T19:31:31.128348Z"
    },
    "hidden": true,
    "scrolled": true
   },
   "outputs": [
    {
     "data": {
      "application/vnd.jupyter.widget-view+json": {
       "model_id": "8b27da34f5da43dcb18e86e1b4049479",
       "version_major": 2,
       "version_minor": 0
      },
      "text/plain": [
       "HBox(children=(IntProgress(value=0, description='Epoch', max=25), HTML(value='')))"
      ]
     },
     "metadata": {},
     "output_type": "display_data"
    },
    {
     "name": "stdout",
     "output_type": "stream",
     "text": [
      "epoch      trn_loss   val_loss   accuracy                    \n",
      "    0      8.331408   8.324324   0.0       \n",
      "    1      8.173329   8.40664    0.0                         \n",
      "    2      6.982401   8.614412   0.0                         \n",
      "  3%|▎         | 13/384 [00:00<00:04, 85.34it/s, loss=6.16] "
     ]
    },
    {
     "name": "stderr",
     "output_type": "stream",
     "text": [
      "/home/justin/anaconda3/envs/fastai/lib/python3.6/site-packages/tqdm/_monitor.py:89: TqdmSynchronisationWarning: Set changed size during iteration (see https://github.com/tqdm/tqdm/issues/481)\n",
      "  TqdmSynchronisationWarning)\n"
     ]
    },
    {
     "name": "stdout",
     "output_type": "stream",
     "text": [
      "    3      4.958818   9.297387   0.0                         \n",
      "    4      3.158472   10.27405   0.0                         \n",
      "    5      6.048515   8.725919   0.000977                    \n",
      "    6      4.141955   9.219611   0.0                         \n",
      "    7      2.362541   10.566793  0.0                         \n",
      "    8      0.819157   13.144396  0.0                          \n",
      "    9      0.244428   14.042649  0.0                          \n",
      "    10     2.85182    9.49828    0.0                         \n",
      "    11     1.814062   10.570581  0.0                         \n",
      "    12     0.669473   12.754532  0.0                          \n",
      "    13     0.187498   14.216559  0.0                          \n",
      "    14     0.09348    14.357657  0.0                           \n",
      "    15     0.93871    11.567408  0.0                          \n",
      "    16     0.81594    11.989625  0.0                          \n",
      "    17     0.329176   13.171421  0.0                          \n",
      "    18     0.104832   14.280336  0.0                           \n",
      "    19     0.050446   14.427551  0.0                           \n",
      "    20     0.479571   12.411617  0.0                          \n",
      "    21     0.407656   12.976174  0.0                          \n",
      "    22     0.167566   13.883878  0.0                          \n",
      "    23     0.057402   14.776047  0.0                           \n",
      "    24     0.036207   14.819225  0.0                           \n",
      "\n"
     ]
    },
    {
     "data": {
      "text/plain": [
       "[14.819224767386913, 0.0]"
      ]
     },
     "execution_count": 56,
     "metadata": {},
     "output_type": "execute_result"
    }
   ],
   "source": [
    "lr = 1e-2\n",
    "learn.fit(lr, 5, wds=wds, cycle_len=5, )#use_clr=(32,10)\n",
    "# learn.fit(lr, 2, wds=wds, cycle_len=10, )"
   ]
  },
  {
   "cell_type": "code",
   "execution_count": 60,
   "metadata": {
    "ExecuteTime": {
     "end_time": "2018-07-25T19:37:08.907839Z",
     "start_time": "2018-07-25T19:37:08.636123Z"
    },
    "hidden": true
   },
   "outputs": [
    {
     "name": "stdout",
     "output_type": "stream",
     "text": [
      "model predicted (32, 3)\n",
      "actual coords are (31, 3)\n"
     ]
    },
    {
     "data": {
      "image/png": "[encoded data removed]",
      "text/plain": [
       "<Figure size 720x360 with 2 Axes>"
      ]
     },
     "metadata": {},
     "output_type": "display_data"
    }
   ],
   "source": [
    "dataset, ys = X_val, y_val\n",
    "# dataset, ys = X_train, y_train\n",
    "idx = list(np.random.choice(range(len(dataset)), 10))\n",
    "preds = get_preds(dataset, idx, learn, scale=True)\n",
    "chsn = check_pred_vs_actual(ys, dataset, idx, preds)"
   ]
  },
  {
   "cell_type": "markdown",
   "metadata": {},
   "source": [
    "# CoordConv"
   ]
  },
  {
   "cell_type": "markdown",
   "metadata": {},
   "source": [
    "## making the adding of channels happen in an actual layer"
   ]
  },
  {
   "cell_type": "code",
   "execution_count": 17,
   "metadata": {
    "ExecuteTime": {
     "end_time": "2018-07-26T05:18:43.952571Z",
     "start_time": "2018-07-26T05:18:43.922200Z"
    }
   },
   "outputs": [],
   "source": [
    "class AddCoords(nn.Module):\n",
    "    def __init__(self, x_dim=64, y_dim=64, with_r=False):\n",
    "            super(AddCoords, self).__init__()\n",
    "            self.x_dim = x_dim\n",
    "            self.y_dim = y_dim\n",
    "            self.with_r = with_r\n",
    "            \n",
    "    def forward(self, input_tensor):\n",
    "        batch_size = input_tensor.size()[0]\n",
    "        x_coord = torch.range(start=0,end=self.x_dim-1).unsqueeze(-1)\n",
    "        x_coord = x_coord.repeat((1,self.y_dim)).expand(batch_size,-1,-1)\n",
    "        y_coord = torch.transpose(torch.range(start=0,end=self.y_dim-1).unsqueeze(-1), 0, 1)\n",
    "        y_coord = y_coord.repeat((self.x_dim,1)).expand(batch_size,-1,-1)\n",
    "        x_channel = (x_coord/(self.x_dim-1))*2-1\n",
    "        y_channel = (y_coord/(self.y_dim-1))*2-1\n",
    "        x_channel = x_channel.unsqueeze(1)\n",
    "        y_channel = y_channel.unsqueeze(1)\n",
    "        try:\n",
    "            ret = torch.cat([input_tensor, x_channel, y_channel], dim=1)\n",
    "        except:\n",
    "            ret = torch.cat([input_tensor, x_channel.cuda(), y_channel.cuda()], dim=1)\n",
    "        return ret\n",
    "    \n",
    "class CoordConv(nn.Module):\n",
    "    def __init__(self, ic, oc, ks=3, drop=0.0, bn=True, act=None):\n",
    "        super().__init__()\n",
    "        self.addcoords = AddCoords()\n",
    "        self.conv = nn.Conv2d(ic, oc, ks, padding=(ks-1)//2)\n",
    "        self.bn = nn.BatchNorm2d(oc, momentum=0.05) if bn else None\n",
    "        self.drop = nn.Dropout(drop)\n",
    "        self.act = nn.ReLU(True)\n",
    "        kaiming_normal(self.conv.weight.data)\n",
    "        \n",
    "    def forward(self, x):\n",
    "        x = self.addcoords(x)\n",
    "        x = self.conv(x)\n",
    "        if self.bn: x = self.bn(x)\n",
    "        if not self.act:\n",
    "            return self.drop(x)\n",
    "        else:\n",
    "            return self.drop(self.act(x))   "
   ]
  },
  {
   "cell_type": "code",
   "execution_count": 76,
   "metadata": {
    "ExecuteTime": {
     "end_time": "2018-07-27T21:15:03.154367Z",
     "start_time": "2018-07-27T21:15:02.884513Z"
    }
   },
   "outputs": [],
   "source": [
    "cnet = nn.Sequential(\n",
    "    AddCoords(),\n",
    "    nn.Conv2d(5,32,3, padding=1),\n",
    "    nn.ReLU(),\n",
    "    nn.BatchNorm2d(32),\n",
    "    nn.Conv2d(32,64,3, padding=1),\n",
    "    nn.ReLU(),\n",
    "    nn.BatchNorm2d(64),\n",
    "    nn.Conv2d(64,4,3, padding=1),\n",
    "    nn.ReLU(),\n",
    "    nn.BatchNorm2d(4),\n",
    "    nn.Conv2d(4,2,1, padding=0),\n",
    "    nn.ReLU(),\n",
    "    nn.BatchNorm2d(2),\n",
    "    Flatten(),\n",
    "    nn.Linear(8192, len(y))\n",
    ")"
   ]
  },
  {
   "cell_type": "code",
   "execution_count": 72,
   "metadata": {
    "ExecuteTime": {
     "end_time": "2018-07-26T07:09:32.597634Z",
     "start_time": "2018-07-26T07:09:32.551724Z"
    }
   },
   "outputs": [],
   "source": [
    "cbm = BasicModel(cnet.cuda(), name='cconvnet')\n",
    "clearn = ConvLearner(imdata, cbm)\n",
    "clearn.crit = nn.CrossEntropyLoss()\n",
    "# learn.opt_fn = optim.Adam(learn.model.parameters())\n",
    "clearn.unfreeze()\n",
    "clearn.metrics=[accuracy]"
   ]
  },
  {
   "cell_type": "code",
   "execution_count": 73,
   "metadata": {
    "ExecuteTime": {
     "end_time": "2018-07-26T07:09:39.698997Z",
     "start_time": "2018-07-26T07:09:35.668552Z"
    }
   },
   "outputs": [
    {
     "data": {
      "application/vnd.jupyter.widget-view+json": {
       "model_id": "c7dd18bc9e0048f8b475072687a91e27",
       "version_major": 2,
       "version_minor": 0
      },
      "text/plain": [
       "HBox(children=(IntProgress(value=0, description='Epoch', max=1), HTML(value='')))"
      ]
     },
     "metadata": {},
     "output_type": "display_data"
    },
    {
     "name": "stdout",
     "output_type": "stream",
     "text": [
      " 27%|██▋       | 103/384 [00:01<00:03, 79.57it/s, loss=8.32]"
     ]
    },
    {
     "name": "stderr",
     "output_type": "stream",
     "text": [
      "/home/justin/anaconda3/envs/fastai/lib/python3.6/site-packages/tqdm/_monitor.py:89: TqdmSynchronisationWarning: Set changed size during iteration (see https://github.com/tqdm/tqdm/issues/481)\n",
      "  TqdmSynchronisationWarning)\n"
     ]
    },
    {
     "name": "stdout",
     "output_type": "stream",
     "text": [
      "                                                            \r"
     ]
    },
    {
     "data": {
      "image/png": "[encoded data removed]",
      "text/plain": [
       "<Figure size 216x216 with 1 Axes>"
      ]
     },
     "metadata": {},
     "output_type": "display_data"
    }
   ],
   "source": [
    "start_lr = 1e-7\n",
    "wds = 1e-5\n",
    "clearn.lr_find(start_lr = start_lr, wds = wds)\n",
    "clearn.sched.plot(n_skip=0)"
   ]
  },
  {
   "cell_type": "code",
   "execution_count": 75,
   "metadata": {
    "ExecuteTime": {
     "end_time": "2018-07-26T07:12:08.056447Z",
     "start_time": "2018-07-26T07:09:51.962513Z"
    }
   },
   "outputs": [
    {
     "data": {
      "application/vnd.jupyter.widget-view+json": {
       "model_id": "76013b90f9634200ba84870722512968",
       "version_major": 2,
       "version_minor": 0
      },
      "text/plain": [
       "HBox(children=(IntProgress(value=0, description='Epoch', max=25), HTML(value='')))"
      ]
     },
     "metadata": {},
     "output_type": "display_data"
    },
    {
     "name": "stdout",
     "output_type": "stream",
     "text": [
      "                                                            \r"
     ]
    },
    {
     "name": "stderr",
     "output_type": "stream",
     "text": [
      "/home/justin/anaconda3/envs/fastai/lib/python3.6/site-packages/tqdm/_monitor.py:89: TqdmSynchronisationWarning: Set changed size during iteration (see https://github.com/tqdm/tqdm/issues/481)\n",
      "  TqdmSynchronisationWarning)\n"
     ]
    },
    {
     "name": "stdout",
     "output_type": "stream",
     "text": [
      "epoch      trn_loss   val_loss   accuracy   \n",
      "    0      8.326593   8.327491   0.0       \n",
      "    1      8.348373   8.367668   0.0                        \n",
      "    2      8.335207   8.375347   0.0                        \n",
      "    3      8.32544    8.349344   0.0                        \n",
      "    4      8.310258   8.343943   0.0                        \n",
      "    5      8.360151   8.539106   0.0                        \n",
      "    6      8.403439   8.486798   0.0                        \n",
      "    7      8.354891   8.451192   0.0                        \n",
      "    8      8.321377   8.370584   0.0                        \n",
      "    9      8.297553   8.38274    0.0                        \n",
      "    10     8.383646   8.392712   0.0                        \n",
      "    11     8.392326   8.628762   0.0                        \n",
      "    12     8.3949     8.385317   0.0                        \n",
      "    13     8.336523   8.390004   0.0                        \n",
      "    14     8.297467   8.385499   0.0                        \n",
      "    15     8.420815   8.461858   0.0                        \n",
      "    16     8.417307   8.407989   0.0                        \n",
      "    17     8.344217   8.421119   0.0                        \n",
      "    18     8.309111   8.440424   0.0                        \n",
      "    19     8.293228   8.400422   0.0                        \n",
      "    20     8.390749   8.440769   0.0                        \n",
      "    21     8.35161    8.53768    0.0                        \n",
      "    22     8.33802    8.57999    0.0                        \n",
      "    23     8.312882   8.440309   0.0                        \n",
      "    24     8.28718    8.421967   0.0                        \n"
     ]
    },
    {
     "data": {
      "text/plain": [
       "[8.421966888010502, 0.0]"
      ]
     },
     "execution_count": 75,
     "metadata": {},
     "output_type": "execute_result"
    }
   ],
   "source": [
    "lr = 1e-2\n",
    "clearn.fit(lr, 5, wds=wds, cycle_len=5, )#use_clr=(32,10)\n",
    "# learn.fit(lr, 2, wds=wds, cycle_len=10, )"
   ]
  },
  {
   "cell_type": "code",
   "execution_count": 44,
   "metadata": {
    "ExecuteTime": {
     "end_time": "2018-07-26T05:29:21.396889Z",
     "start_time": "2018-07-26T05:29:21.133283Z"
    }
   },
   "outputs": [
    {
     "name": "stdout",
     "output_type": "stream",
     "text": [
      "model predicted (30, 53)\n",
      "actual coords are (5, 19)\n"
     ]
    },
    {
     "data": {
      "image/png": "[encoded data removed]",
      "text/plain": [
       "<Figure size 720x360 with 2 Axes>"
      ]
     },
     "metadata": {},
     "output_type": "display_data"
    }
   ],
   "source": [
    "dataset, ys = X_val, y_val\n",
    "# dataset, ys = X_train, y_train\n",
    "idx = list(np.random.choice(range(len(dataset)), 10))\n",
    "preds = get_preds(dataset, idx, clearn, scale=True)\n",
    "chsn = check_pred_vs_actual(ys, dataset, idx, preds)"
   ]
  },
  {
   "cell_type": "markdown",
   "metadata": {
    "heading_collapsed": true
   },
   "source": [
    "## just concating two channels two data"
   ]
  },
  {
   "cell_type": "code",
   "execution_count": 81,
   "metadata": {
    "ExecuteTime": {
     "end_time": "2018-07-22T22:53:21.267576Z",
     "start_time": "2018-07-22T22:53:20.468958Z"
    },
    "hidden": true
   },
   "outputs": [
    {
     "name": "stdout",
     "output_type": "stream",
     "text": [
      "(4096, 5, 64, 64)\n"
     ]
    }
   ],
   "source": [
    "ichan = np.array([[i]*64 for i in range(64)])\n",
    "# ichan = np.array([[i/64]*64 for i in range(64)])\n",
    "# ichan = ichan/ichan.sum()\n",
    "# ichan = np.array([[1]*64 for i in range(64)])\n",
    "# !!! paper does linear scaling to values being between [-1, 1]. All my commented stuff above didn't work so maybe linear scaling is the key\n",
    "ichan = (ichan - ichan.mean())/ichan.mean()\n",
    "jchan = ichan.T\n",
    "ichan = ichan.reshape(-1,1,64,64)\n",
    "jchan = jchan.reshape(-1,1,64,64)\n",
    "ichan = np.tile(ichan,(4096,1,1,1))\n",
    "jchan = np.tile(jchan,(4096,1,1,1))\n",
    "ccdata = np.append(data, ichan, axis=1)\n",
    "ccdata = np.append(ccdata, jchan, axis=1)\n",
    "print(ccdata.shape)"
   ]
  },
  {
   "cell_type": "code",
   "execution_count": 88,
   "metadata": {
    "ExecuteTime": {
     "end_time": "2018-07-22T22:54:45.099854Z",
     "start_time": "2018-07-22T22:54:44.809040Z"
    },
    "hidden": true
   },
   "outputs": [],
   "source": [
    "ttype = uni_idxs\n",
    "cX_train = ccdata[ttype[0]]\n",
    "cy_train = y[ttype[0]]\n",
    "cX_val = ccdata[ttype[1]]\n",
    "cy_val = y[ttype[1]]"
   ]
  },
  {
   "cell_type": "code",
   "execution_count": 89,
   "metadata": {
    "ExecuteTime": {
     "end_time": "2018-07-22T22:54:45.119876Z",
     "start_time": "2018-07-22T22:54:45.101963Z"
    },
    "hidden": true
   },
   "outputs": [],
   "source": [
    "ctrn = tuple([cX_train, cy_train])\n",
    "cval = tuple([cX_val, cy_val])\n",
    "path='data/'\n",
    "cimdata = ImageClassifierData.from_arrays(path, ctrn, cval, bs=8, classes = y, test = ctrn)"
   ]
  },
  {
   "cell_type": "code",
   "execution_count": 90,
   "metadata": {
    "ExecuteTime": {
     "end_time": "2018-07-22T22:54:45.474867Z",
     "start_time": "2018-07-22T22:54:45.416864Z"
    },
    "hidden": true
   },
   "outputs": [
    {
     "name": "stderr",
     "output_type": "stream",
     "text": [
      "/home/justin/anaconda3/envs/fastai/lib/python3.6/site-packages/tqdm/_monitor.py:89: TqdmSynchronisationWarning: Set changed size during iteration (see https://github.com/tqdm/tqdm/issues/481)\n",
      "  TqdmSynchronisationWarning)\n"
     ]
    }
   ],
   "source": [
    "# cnet = nn.Sequential(\n",
    "#     CoordConvTh(x_dim=64, y_dim=64,in_channels=5, out_channels=64, kernel_size=3,with_r =False),\n",
    "#     Conv(64, 128,),\n",
    "#     Conv(128, 128),\n",
    "#     nn.MaxPool2d(2),\n",
    "#     Conv(128, 128),\n",
    "#     Conv(128, 128),\n",
    "#     nn.MaxPool2d(2),\n",
    "#     Conv(128, 128),\n",
    "#     Conv(128, 128),\n",
    "#     nn.MaxPool2d(2),\n",
    "#     Conv(128, 128, ks=1),\n",
    "#     Conv(128, 128, ks=1),\n",
    "#     nn.MaxPool2d(2),\n",
    "#     Flatten(),\n",
    "#     nn.Linear(1152, len(y))\n",
    "# )\n",
    "cnet = nn.Sequential(\n",
    "    Conv(5, 64),\n",
    "    Conv(64, 64),\n",
    "#     Conv(64, 64),\n",
    "    nn.MaxPool2d(2),\n",
    "    Conv(64, 64),\n",
    "    nn.MaxPool2d(2),\n",
    "#     Conv(128, 128),\n",
    "    Conv(64, 64),\n",
    "    nn.MaxPool2d(2),\n",
    "#     Conv(64, 64, ks=1),\n",
    "#     Conv(128, 64, ks=1),\n",
    "    nn.MaxPool2d(2),\n",
    "    Flatten(),\n",
    "    nn.Linear(1024, len(y))\n",
    ")"
   ]
  },
  {
   "cell_type": "markdown",
   "metadata": {},
   "source": [
    "# manual train version, not using fastai learn"
   ]
  },
  {
   "cell_type": "code",
   "execution_count": 77,
   "metadata": {
    "ExecuteTime": {
     "end_time": "2018-07-27T21:20:05.676441Z",
     "start_time": "2018-07-27T21:15:09.575508Z"
    },
    "scrolled": true
   },
   "outputs": [
    {
     "name": "stdout",
     "output_type": "stream",
     "text": [
      "\r",
      "  0%|          | 0/100 [00:00<?, ?it/s]"
     ]
    },
    {
     "name": "stderr",
     "output_type": "stream",
     "text": [
      "/home/justin/anaconda3/envs/fastai/lib/python3.6/site-packages/tqdm/_monitor.py:89: TqdmSynchronisationWarning: Set changed size during iteration (see https://github.com/tqdm/tqdm/issues/481)\n",
      "  TqdmSynchronisationWarning)\n"
     ]
    },
    {
     "name": "stdout",
     "output_type": "stream",
     "text": [
      "100%|██████████| 100/100 [04:56<00:00,  2.96s/it]\n"
     ]
    }
   ],
   "source": [
    "epochs = 100\n",
    "cnet.cuda()\n",
    "loss = nn.CrossEntropyLoss()\n",
    "tot_losses = []\n",
    "optimizer = optim.SGD(cnet.parameters(), lr=0.01)\n",
    "for i in tqdm(range(epochs)):\n",
    "    tot_loss = 0\n",
    "    for mb in iter(imdata.trn_dl):\n",
    "        inputs, targets = mb\n",
    "        preds = cnet(inputs)\n",
    "        optimizer.zero_grad()\n",
    "        current_loss = loss(preds, targets)\n",
    "#         print(current_loss)\n",
    "        tot_loss += to_np(current_loss)\n",
    "        current_loss.backward()\n",
    "        optimizer.step()\n",
    "    tot_losses.append(tot_loss)"
   ]
  },
  {
   "cell_type": "code",
   "execution_count": 78,
   "metadata": {
    "ExecuteTime": {
     "end_time": "2018-07-27T21:20:05.698748Z",
     "start_time": "2018-07-27T21:20:05.678543Z"
    },
    "scrolled": true
   },
   "outputs": [
    {
     "data": {
      "text/plain": [
       "[3194.591185569763,\n",
       " 3194.2317209243774,\n",
       " 3194.254101753235,\n",
       " 3193.858090400696,\n",
       " 3193.48561668396,\n",
       " 3193.709979057312,\n",
       " 3193.05530834198,\n",
       " 3192.63148021698,\n",
       " 3191.1970071792603,\n",
       " 3188.612668991089,\n",
       " 3186.4704265594482,\n",
       " 3183.708444595337,\n",
       " 3180.0879430770874,\n",
       " 3176.709038734436,\n",
       " 3173.206708908081,\n",
       " 3169.832341194153,\n",
       " 3166.7717666625977,\n",
       " 3163.8229007720947,\n",
       " 3161.1887702941895,\n",
       " 3158.6182222366333,\n",
       " 3156.61571598053,\n",
       " 3154.598550796509,\n",
       " 3152.872685432434,\n",
       " 3150.9936838150024,\n",
       " 3149.335696220398,\n",
       " 3148.0233640670776,\n",
       " 3146.7245473861694,\n",
       " 3145.343321800232,\n",
       " 3143.9438304901123,\n",
       " 3143.028172492981,\n",
       " 3142.017604827881,\n",
       " 3141.0318126678467,\n",
       " 3139.953450202942,\n",
       " 3138.963936805725,\n",
       " 3138.4289331436157,\n",
       " 3137.494222640991,\n",
       " 3136.5351028442383,\n",
       " 3135.8701553344727,\n",
       " 3124.998035430908,\n",
       " 2656.6076040267944,\n",
       " 216.02396273612976,\n",
       " 5.757376134395599,\n",
       " 0.3584163188934326,\n",
       " 0.17906033992767334,\n",
       " 0.15114235877990723,\n",
       " 0.13157641887664795,\n",
       " 0.11962676048278809,\n",
       " 0.10877716541290283,\n",
       " 0.10025238990783691,\n",
       " 0.09200060367584229,\n",
       " 0.08652305603027344,\n",
       " 0.08051919937133789,\n",
       " 0.07718980312347412,\n",
       " 0.07188630104064941,\n",
       " 0.06901192665100098,\n",
       " 0.0654137134552002,\n",
       " 0.06312072277069092,\n",
       " 0.05930161476135254,\n",
       " 0.05746054649353027,\n",
       " 0.05585300922393799,\n",
       " 0.05337226390838623,\n",
       " 0.05127525329589844,\n",
       " 0.049243927001953125,\n",
       " 0.047393083572387695,\n",
       " 0.04670834541320801,\n",
       " 0.04485201835632324,\n",
       " 0.04390406608581543,\n",
       " 0.04250907897949219,\n",
       " 0.04096031188964844,\n",
       " 0.040189266204833984,\n",
       " 0.03914499282836914,\n",
       " 0.038253068923950195,\n",
       " 0.0368955135345459,\n",
       " 0.03634023666381836,\n",
       " 0.03541851043701172,\n",
       " 0.03469729423522949,\n",
       " 0.03361654281616211,\n",
       " 0.03287935256958008,\n",
       " 0.03227090835571289,\n",
       " 0.031670570373535156,\n",
       " 0.031037092208862305,\n",
       " 0.03032708168029785,\n",
       " 0.02988576889038086,\n",
       " 0.02945876121520996,\n",
       " 0.028607606887817383,\n",
       " 0.02829742431640625,\n",
       " 0.027767419815063477,\n",
       " 0.027003765106201172,\n",
       " 0.02677130699157715,\n",
       " 0.02632427215576172,\n",
       " 0.025717735290527344,\n",
       " 0.02550649642944336,\n",
       " 0.02491927146911621,\n",
       " 0.024565458297729492,\n",
       " 0.024329423904418945,\n",
       " 0.024137258529663086,\n",
       " 0.02350306510925293,\n",
       " 0.023113012313842773,\n",
       " 0.022759199142456055,\n",
       " 0.022487163543701172]"
      ]
     },
     "execution_count": 78,
     "metadata": {},
     "output_type": "execute_result"
    },
    {
     "name": "stderr",
     "output_type": "stream",
     "text": [
      "/home/justin/anaconda3/envs/fastai/lib/python3.6/site-packages/tqdm/_monitor.py:89: TqdmSynchronisationWarning: Set changed size during iteration (see https://github.com/tqdm/tqdm/issues/481)\n",
      "  TqdmSynchronisationWarning)\n"
     ]
    }
   ],
   "source": [
    "tot_losses"
   ]
  },
  {
   "cell_type": "markdown",
   "metadata": {},
   "source": [
    "# fastai train"
   ]
  },
  {
   "cell_type": "code",
   "execution_count": 91,
   "metadata": {
    "ExecuteTime": {
     "end_time": "2018-07-22T22:54:48.045754Z",
     "start_time": "2018-07-22T22:54:48.016204Z"
    }
   },
   "outputs": [],
   "source": [
    "# bm = BasicModel(cnet.cuda(), name='cconvnet')\n",
    "# learn = ConvLearner(cimdata, bm)\n",
    "# learn.crit = nn.CrossEntropyLoss()\n",
    "# # learn.opt_fn = optim.Adam\n",
    "# learn.unfreeze()\n",
    "# learn.metrics=[accuracy]\n",
    "# lr = 1e-3\n",
    "# wds = 1e-5\n",
    "cbm = BasicModel(cnet.cuda(), name='cconvnet')\n",
    "clearn = ConvLearner(cimdata, cbm)\n",
    "clearn.crit = nn.CrossEntropyLoss()\n",
    "# learn.opt_fn = optim.Adam(learn.model.parameters())\n",
    "clearn.unfreeze()\n",
    "clearn.metrics=[accuracy]"
   ]
  },
  {
   "cell_type": "code",
   "execution_count": 92,
   "metadata": {
    "ExecuteTime": {
     "end_time": "2018-07-22T22:54:51.441733Z",
     "start_time": "2018-07-22T22:54:48.370495Z"
    }
   },
   "outputs": [
    {
     "data": {
      "application/vnd.jupyter.widget-view+json": {
       "model_id": "67e2b5492dec43658aeb01c777abaaee",
       "version_major": 2,
       "version_minor": 0
      },
      "text/plain": [
       "HBox(children=(IntProgress(value=0, description='Epoch', max=1), HTML(value='')))"
      ]
     },
     "metadata": {},
     "output_type": "display_data"
    },
    {
     "name": "stdout",
     "output_type": "stream",
     "text": [
      "                                                             \r"
     ]
    },
    {
     "data": {
      "image/png": "[encoded data removed]",
      "text/plain": [
       "<Figure size 216x216 with 1 Axes>"
      ]
     },
     "metadata": {},
     "output_type": "display_data"
    }
   ],
   "source": [
    "start_lr = 1e-7\n",
    "wds = 1e-3\n",
    "clearn.lr_find(start_lr = start_lr, wds = wds)\n",
    "clearn.sched.plot(n_skip=0)"
   ]
  },
  {
   "cell_type": "code",
   "execution_count": 93,
   "metadata": {
    "ExecuteTime": {
     "end_time": "2018-07-22T22:56:10.713806Z",
     "start_time": "2018-07-22T22:54:51.446297Z"
    },
    "scrolled": true
   },
   "outputs": [
    {
     "data": {
      "application/vnd.jupyter.widget-view+json": {
       "model_id": "a92486bc752d4167842980ef378a0c1c",
       "version_major": 2,
       "version_minor": 0
      },
      "text/plain": [
       "HBox(children=(IntProgress(value=0, description='Epoch', max=25), HTML(value='')))"
      ]
     },
     "metadata": {},
     "output_type": "display_data"
    },
    {
     "name": "stdout",
     "output_type": "stream",
     "text": [
      "epoch      trn_loss   val_loss   accuracy                    \n",
      "    0      8.529655   8.545803   0.0       \n",
      " 65%|██████▌   | 251/384 [00:01<00:01, 130.81it/s, loss=8.41]"
     ]
    },
    {
     "name": "stderr",
     "output_type": "stream",
     "text": [
      "/home/justin/anaconda3/envs/fastai/lib/python3.6/site-packages/tqdm/_monitor.py:89: TqdmSynchronisationWarning: Set changed size during iteration (see https://github.com/tqdm/tqdm/issues/481)\n",
      "  TqdmSynchronisationWarning)\n"
     ]
    },
    {
     "name": "stdout",
     "output_type": "stream",
     "text": [
      "    1      8.439579   8.657943   0.0                         \n",
      "    2      8.343199   8.728895   0.0                         \n",
      "    3      8.269825   8.775618   0.0                         \n",
      "    4      8.219871   8.785853   0.0                         \n",
      "    5      8.401781   8.865913   0.0                         \n",
      "    6      8.29965    9.033655   0.0                         \n",
      "    7      8.018324   9.240879   0.0                         \n",
      "    8      7.478297   9.376225   0.0                         \n",
      "    9      7.150596   9.403051   0.0                         \n",
      "    10     7.549452   9.703269   0.0                         \n",
      "    11     6.315166   10.471535  0.0                         \n",
      "    12     5.227128   11.229546  0.0                         \n",
      "    13     4.26264    11.725202  0.0                         \n",
      "    14     3.665722   11.962707  0.0                         \n",
      "    15     5.092035   11.630415  0.0                         \n",
      "    16     4.051677   12.511661  0.0                         \n",
      "    17     2.829918   13.689875  0.0                         \n",
      "    18     1.789785   14.572761  0.0                         \n",
      "    19     1.231221   14.784518  0.0                         \n",
      "    20     3.002197   13.397316  0.0                         \n",
      "    21     2.106974   14.790227  0.0                         \n",
      "    22     1.151912   15.964183  0.0                         \n",
      "    23     0.595933   16.879172  0.0                          \n",
      "    24     0.352685   17.225726  0.0                          \n"
     ]
    },
    {
     "data": {
      "text/plain": [
       "[17.225726075470448, 0.0]"
      ]
     },
     "execution_count": 93,
     "metadata": {},
     "output_type": "execute_result"
    }
   ],
   "source": [
    "lr = 1e-3\n",
    "clearn.fit(lr, 5, wds=wds, cycle_len=5, )"
   ]
  },
  {
   "cell_type": "code",
   "execution_count": 80,
   "metadata": {
    "ExecuteTime": {
     "end_time": "2018-07-27T21:20:48.473137Z",
     "start_time": "2018-07-27T21:20:48.444217Z"
    }
   },
   "outputs": [],
   "source": [
    "# for manual\n",
    "cbm = BasicModel(cnet, name='cconvnet')\n",
    "clearn = ConvLearner(imdata, cbm)"
   ]
  },
  {
   "cell_type": "code",
   "execution_count": 95,
   "metadata": {
    "ExecuteTime": {
     "end_time": "2018-07-27T21:21:25.346497Z",
     "start_time": "2018-07-27T21:21:25.080754Z"
    }
   },
   "outputs": [
    {
     "name": "stdout",
     "output_type": "stream",
     "text": [
      "model predicted (23, 63)\n",
      "actual coords are (21, 22)\n"
     ]
    },
    {
     "data": {
      "image/png": "[encoded data removed]",
      "text/plain": [
       "<Figure size 720x360 with 2 Axes>"
      ]
     },
     "metadata": {},
     "output_type": "display_data"
    },
    {
     "name": "stderr",
     "output_type": "stream",
     "text": [
      "/home/justin/anaconda3/envs/fastai/lib/python3.6/site-packages/tqdm/_monitor.py:89: TqdmSynchronisationWarning: Set changed size during iteration (see https://github.com/tqdm/tqdm/issues/481)\n",
      "  TqdmSynchronisationWarning)\n"
     ]
    }
   ],
   "source": [
    "dataset, ys = X_val, y_val\n",
    "# dataset, ys = X_train, y_train\n",
    "idx = list(np.random.choice(range(len(dataset)), 10))\n",
    "preds = get_preds(dataset, idx, clearn, scale=True)\n",
    "chsn = check_pred_vs_actual(ys, dataset, idx, preds)"
   ]
  },
  {
   "cell_type": "markdown",
   "metadata": {},
   "source": [
    "# stuff from \n",
    "https://github.com/mkocabas/CoordConv-pytorch/blob/master/CoordConv-numpy.py"
   ]
  },
  {
   "cell_type": "code",
   "execution_count": 98,
   "metadata": {
    "ExecuteTime": {
     "end_time": "2018-07-22T22:58:19.130329Z",
     "start_time": "2018-07-22T22:58:19.092128Z"
    }
   },
   "outputs": [],
   "source": [
    "class AddCoordsNp():\n",
    "    \"\"\"Add coords to a tensor\"\"\"\n",
    "    def __init__(self, x_dim=64, y_dim=64, with_r=False):\n",
    "        self.x_dim = x_dim\n",
    "        self.y_dim = y_dim\n",
    "        self.with_r = with_r\n",
    "\n",
    "    def call(self, input_tensor):\n",
    "        \"\"\"\n",
    "        input_tensor: (batch, x_dim, y_dim, c)\n",
    "        \"\"\"\n",
    "        batch_size_tensor = np.shape(input_tensor)[0]\n",
    "\n",
    "        xx_ones = np.ones([1, self.x_dim], dtype=np.int32)\n",
    "        xx_ones = np.expand_dims(xx_ones, -1)\n",
    "\n",
    "        print(xx_ones.shape)\n",
    "\n",
    "        xx_range = np.expand_dims(np.arange(self.x_dim), 0)\n",
    "        xx_range = np.expand_dims(xx_range, 1)\n",
    "\n",
    "        print(xx_range.shape)\n",
    "\n",
    "        xx_channel = np.matmul(xx_ones, xx_range)\n",
    "        xx_channel = np.expand_dims(xx_channel, -1)\n",
    "\n",
    "        yy_ones = np.ones([1, self.y_dim], dtype=np.int32)\n",
    "        yy_ones = np.expand_dims(yy_ones, 1)\n",
    "\n",
    "        print(yy_ones.shape)\n",
    "\n",
    "        yy_range = np.expand_dims(np.arange(self.y_dim), 0)\n",
    "        yy_range = np.expand_dims(yy_range, -1)\n",
    "\n",
    "        print(yy_range.shape)\n",
    "\n",
    "        yy_channel = np.matmul(yy_range, yy_ones)\n",
    "        yy_channel = np.expand_dims(yy_channel, -1)\n",
    "\n",
    "        xx_channel = xx_channel.astype('float32') / (self.x_dim - 1)\n",
    "        yy_channel = yy_channel.astype('float32') / (self.y_dim - 1)\n",
    "\n",
    "        xx_channel = xx_channel*2 - 1\n",
    "        yy_channel = yy_channel*2 - 1\n",
    "\n",
    "        xx_channel = xx_channel.repeat(batch_size_tensor, axis=0)\n",
    "        yy_channel = yy_channel.repeat(batch_size_tensor, axis=0)\n",
    "\n",
    "        ret = np.concatenate([input_tensor, xx_channel, yy_channel], axis=-1)\n",
    "\n",
    "        if self.with_r:\n",
    "            rr = np.sqrt( np.square(xx_channel-0.5) + np.square(yy_channel-0.5))\n",
    "            ret = np.concatenate([ret, rr], axis=-1)\n",
    "\n",
    "        return ret\n",
    "    \n",
    "class AddCoordsTh(nn.Module):\n",
    "    def __init__(self, x_dim=64, y_dim=64, with_r=False):\n",
    "        super(AddCoordsTh, self).__init__()\n",
    "        self.x_dim = x_dim\n",
    "        self.y_dim = y_dim\n",
    "        self.with_r = with_r\n",
    "\n",
    "    def forward(self, input_tensor):\n",
    "        \"\"\"\n",
    "        input_tensor: (batch, c, x_dim, y_dim)\n",
    "        \"\"\"\n",
    "        batch_size_tensor = input_tensor.shape[0]\n",
    "\n",
    "        xx_ones = torch.ones([1, self.y_dim], dtype=torch.int32)\n",
    "        xx_ones = xx_ones.unsqueeze(-1)\n",
    "\n",
    "        xx_range = torch.arange(self.x_dim, dtype=torch.int32).unsqueeze(0)\n",
    "        xx_range = xx_range.unsqueeze(1)\n",
    "\n",
    "        xx_channel = torch.matmul(xx_ones, xx_range)\n",
    "        xx_channel = xx_channel.unsqueeze(-1)\n",
    "\n",
    "        yy_ones = torch.ones([1, self.x_dim], dtype=torch.int32)\n",
    "        yy_ones = yy_ones.unsqueeze(1)\n",
    "\n",
    "        yy_range = torch.arange(self.y_dim, dtype=torch.int32).unsqueeze(0)\n",
    "        yy_range = yy_range.unsqueeze(-1)\n",
    "\n",
    "        yy_channel = torch.matmul(yy_range, yy_ones)\n",
    "        yy_channel = yy_channel.unsqueeze(-1)\n",
    "\n",
    "        xx_channel = xx_channel.permute(0, 3, 2, 1)\n",
    "        yy_channel = yy_channel.permute(0, 3, 2, 1)\n",
    "\n",
    "        xx_channel = xx_channel.float() / (self.x_dim - 1)\n",
    "        yy_channel = yy_channel.float() / (self.y_dim - 1)\n",
    "\n",
    "        xx_channel = xx_channel * 2 - 1\n",
    "        yy_channel = yy_channel * 2 - 1\n",
    "\n",
    "        xx_channel = xx_channel.repeat(batch_size_tensor, 1, 1, 1)\n",
    "        yy_channel = yy_channel.repeat(batch_size_tensor, 1, 1, 1)\n",
    "\n",
    "        try:\n",
    "            ret = torch.cat([input_tensor, xx_channel, yy_channel], dim=1)\n",
    "        except:\n",
    "            ret = torch.cat([input_tensor, xx_channel.cuda(), yy_channel.cuda()], dim=1)\n",
    "\n",
    "        if self.with_r:\n",
    "            rr = torch.sqrt(torch.pow(xx_channel - 0.5, 2) + torch.pow(yy_channel - 0.5, 2))\n",
    "            ret = torch.cat([ret, rr], dim=1)\n",
    "\n",
    "        return ret\n",
    "\n",
    "\n",
    "class CoordConvTh(nn.Module):\n",
    "    \"\"\"CoordConv layer as in the paper.\"\"\"\n",
    "    def __init__(self, x_dim, y_dim, with_r, *args, **kwargs):\n",
    "        super(CoordConvTh, self).__init__()\n",
    "        self.addcoords = AddCoordsTh(x_dim=x_dim, y_dim=y_dim, with_r=with_r)\n",
    "        self.conv = nn.Conv2d(*args, **kwargs)\n",
    "\n",
    "    def forward(self, input_tensor):\n",
    "        ret = self.addcoords(input_tensor)\n",
    "        ret = self.conv(ret)\n",
    "        return ret    "
   ]
  },
  {
   "cell_type": "code",
   "execution_count": 99,
   "metadata": {
    "ExecuteTime": {
     "end_time": "2018-07-22T22:58:19.814495Z",
     "start_time": "2018-07-22T22:58:19.746410Z"
    }
   },
   "outputs": [
    {
     "data": {
      "text/plain": [
       "Sequential(\n",
       "  (0): CoordConvTh(\n",
       "    (addcoords): AddCoordsTh()\n",
       "    (conv): Conv2d(5, 64, kernel_size=(3, 3), stride=(1, 1), padding=(1, 1))\n",
       "  )\n",
       "  (1): Conv(\n",
       "    (conv): Conv2d(64, 64, kernel_size=(3, 3), stride=(1, 1), padding=(1, 1))\n",
       "    (bn): BatchNorm2d(64, eps=1e-05, momentum=0.05, affine=True, track_running_stats=True)\n",
       "    (drop): Dropout(p=0.0)\n",
       "    (act): ReLU(inplace)\n",
       "  )\n",
       "  (2): MaxPool2d(kernel_size=2, stride=2, padding=0, dilation=1, ceil_mode=False)\n",
       "  (3): Conv(\n",
       "    (conv): Conv2d(64, 64, kernel_size=(3, 3), stride=(1, 1), padding=(1, 1))\n",
       "    (bn): BatchNorm2d(64, eps=1e-05, momentum=0.05, affine=True, track_running_stats=True)\n",
       "    (drop): Dropout(p=0.0)\n",
       "    (act): ReLU(inplace)\n",
       "  )\n",
       "  (4): MaxPool2d(kernel_size=2, stride=2, padding=0, dilation=1, ceil_mode=False)\n",
       "  (5): Conv(\n",
       "    (conv): Conv2d(64, 64, kernel_size=(3, 3), stride=(1, 1), padding=(1, 1))\n",
       "    (bn): BatchNorm2d(64, eps=1e-05, momentum=0.05, affine=True, track_running_stats=True)\n",
       "    (drop): Dropout(p=0.0)\n",
       "    (act): ReLU(inplace)\n",
       "  )\n",
       "  (6): MaxPool2d(kernel_size=2, stride=2, padding=0, dilation=1, ceil_mode=False)\n",
       "  (7): MaxPool2d(kernel_size=2, stride=2, padding=0, dilation=1, ceil_mode=False)\n",
       "  (8): Flatten()\n",
       "  (9): Linear(in_features=1024, out_features=4096, bias=True)\n",
       ")"
      ]
     },
     "execution_count": 99,
     "metadata": {},
     "output_type": "execute_result"
    }
   ],
   "source": [
    "tnet = nn.Sequential(\n",
    "    CoordConvTh(64,64,False, 5, 64,3, padding=1),\n",
    "    Conv(64, 64),\n",
    "#     Conv(64, 64),\n",
    "    nn.MaxPool2d(2),\n",
    "    Conv(64, 64),\n",
    "    nn.MaxPool2d(2),\n",
    "#     Conv(128, 128),\n",
    "    Conv(64, 64),\n",
    "    nn.MaxPool2d(2),\n",
    "#     Conv(64, 64, ks=1),\n",
    "#     Conv(128, 64, ks=1),\n",
    "    nn.MaxPool2d(2),\n",
    "    Flatten(),\n",
    "    nn.Linear(1024, len(y))\n",
    ")\n",
    "tnet.cuda()"
   ]
  },
  {
   "cell_type": "code",
   "execution_count": 100,
   "metadata": {
    "ExecuteTime": {
     "end_time": "2018-07-22T22:58:20.644020Z",
     "start_time": "2018-07-22T22:58:20.617551Z"
    }
   },
   "outputs": [],
   "source": [
    "ttrn = tuple([X_train, y_train])\n",
    "tval = tuple([X_val, y_val])\n",
    "path='data/'\n",
    "timdata = ImageClassifierData.from_arrays(path, ttrn, tval, bs=8, classes = y, test = ttrn)"
   ]
  },
  {
   "cell_type": "code",
   "execution_count": 101,
   "metadata": {
    "ExecuteTime": {
     "end_time": "2018-07-22T22:58:21.954301Z",
     "start_time": "2018-07-22T22:58:21.915101Z"
    }
   },
   "outputs": [],
   "source": [
    "tbm = BasicModel(tnet.cuda(), name='cconvnet')\n",
    "tlearn = ConvLearner(timdata, tbm)\n",
    "tlearn.crit = nn.CrossEntropyLoss()\n",
    "# learn.opt_fn = optim.Adam(learn.model.parameters())\n",
    "tlearn.unfreeze()\n",
    "tlearn.metrics=[accuracy]"
   ]
  },
  {
   "cell_type": "code",
   "execution_count": 102,
   "metadata": {
    "ExecuteTime": {
     "end_time": "2018-07-22T22:58:26.801597Z",
     "start_time": "2018-07-22T22:58:22.410593Z"
    }
   },
   "outputs": [
    {
     "data": {
      "application/vnd.jupyter.widget-view+json": {
       "model_id": "9e4bc72348544132a812c752265e48d2",
       "version_major": 2,
       "version_minor": 0
      },
      "text/plain": [
       "HBox(children=(IntProgress(value=0, description='Epoch', max=1), HTML(value='')))"
      ]
     },
     "metadata": {},
     "output_type": "display_data"
    },
    {
     "name": "stdout",
     "output_type": "stream",
     "text": [
      "                                                             \r"
     ]
    },
    {
     "name": "stderr",
     "output_type": "stream",
     "text": [
      "/home/justin/anaconda3/envs/fastai/lib/python3.6/site-packages/tqdm/_monitor.py:89: TqdmSynchronisationWarning: Set changed size during iteration (see https://github.com/tqdm/tqdm/issues/481)\n",
      "  TqdmSynchronisationWarning)\n"
     ]
    },
    {
     "name": "stdout",
     "output_type": "stream",
     "text": [
      "epoch      trn_loss   val_loss   accuracy   \n",
      "    0      17.867516  4430333396.0 0.0       \n"
     ]
    },
    {
     "data": {
      "image/png": "[encoded data removed]",
      "text/plain": [
       "<Figure size 216x216 with 1 Axes>"
      ]
     },
     "metadata": {},
     "output_type": "display_data"
    }
   ],
   "source": [
    "start_lr = 1e-7\n",
    "wds = 1e-3\n",
    "tlearn.lr_find(start_lr = start_lr, wds = wds)\n",
    "tlearn.sched.plot(n_skip=0)"
   ]
  },
  {
   "cell_type": "code",
   "execution_count": 103,
   "metadata": {
    "ExecuteTime": {
     "end_time": "2018-07-22T23:00:10.221640Z",
     "start_time": "2018-07-22T22:58:29.156640Z"
    }
   },
   "outputs": [
    {
     "data": {
      "application/vnd.jupyter.widget-view+json": {
       "model_id": "a57666e0114649688af1e7ea346fb011",
       "version_major": 2,
       "version_minor": 0
      },
      "text/plain": [
       "HBox(children=(IntProgress(value=0, description='Epoch', max=25), HTML(value='')))"
      ]
     },
     "metadata": {},
     "output_type": "display_data"
    },
    {
     "name": "stdout",
     "output_type": "stream",
     "text": [
      "epoch      trn_loss   val_loss   accuracy                    \n",
      "    0      8.49467    8.509831   0.0       \n",
      " 90%|████████▉ | 345/384 [00:03<00:00, 105.36it/s, loss=8.42]"
     ]
    },
    {
     "name": "stderr",
     "output_type": "stream",
     "text": [
      "/home/justin/anaconda3/envs/fastai/lib/python3.6/site-packages/tqdm/_monitor.py:89: TqdmSynchronisationWarning: Set changed size during iteration (see https://github.com/tqdm/tqdm/issues/481)\n",
      "  TqdmSynchronisationWarning)\n"
     ]
    },
    {
     "name": "stdout",
     "output_type": "stream",
     "text": [
      "    1      8.425457   8.616431   0.0                         \n",
      "    2      8.34841    8.68122    0.0                         \n",
      "    3      8.280203   8.717347   0.0                         \n",
      "    4      8.235326   8.724276   0.0                         \n",
      "    5      8.392513   8.804944   0.0                         \n",
      "    6      8.34277    8.909337   0.0                         \n",
      "    7      8.280219   8.985424   0.0                         \n",
      "    8      8.222332   9.033882   0.0                         \n",
      "    9      8.17476    9.044699   0.0                         \n",
      "    10     8.358302   9.058197   0.0                         \n",
      "    11     8.304188   9.15201    0.0                         \n",
      "    12     8.246058   9.31115    0.0                         \n",
      "    13     8.159673   9.395216   0.0                         \n",
      "    14     8.064775   9.452968   0.0                         \n",
      "    15     8.31437    9.386372   0.0                         \n",
      "    16     7.959654   9.611783   0.0                         \n",
      "    17     6.948628   9.97544    0.0                         \n",
      "    18     5.913529   10.50787   0.0                         \n",
      "    19     5.268531   10.6236    0.0                         \n",
      "    20     6.457773   10.533757  0.0                         \n",
      "    21     5.416529   11.038301  0.0                         \n",
      "    22     4.42333    11.92487   0.0                         \n",
      "    23     3.52872    12.792321  0.0                         \n",
      "    24     2.821952   12.988775  0.0                         \n"
     ]
    },
    {
     "data": {
      "text/plain": [
       "[12.988775178790092, 0.0]"
      ]
     },
     "execution_count": 103,
     "metadata": {},
     "output_type": "execute_result"
    }
   ],
   "source": [
    "lr = 1e-3\n",
    "tlearn.fit(lr, 5, wds=wds, cycle_len=5, )"
   ]
  },
  {
   "cell_type": "code",
   "execution_count": 104,
   "metadata": {
    "ExecuteTime": {
     "end_time": "2018-07-22T23:12:30.104421Z",
     "start_time": "2018-07-22T23:10:47.860004Z"
    }
   },
   "outputs": [
    {
     "data": {
      "application/vnd.jupyter.widget-view+json": {
       "model_id": "fa64ed50bc4c4d23bd4125511b8ff26e",
       "version_major": 2,
       "version_minor": 0
      },
      "text/plain": [
       "HBox(children=(IntProgress(value=0, description='Epoch', max=25), HTML(value='')))"
      ]
     },
     "metadata": {},
     "output_type": "display_data"
    },
    {
     "name": "stdout",
     "output_type": "stream",
     "text": [
      "epoch      trn_loss   val_loss   accuracy                    \n",
      "    0      4.491286   11.656829  0.0       \n",
      "    1      4.082848   11.925264  0.0                         \n",
      " 12%|█▎        | 48/384 [00:00<00:03, 105.69it/s, loss=3.05]"
     ]
    },
    {
     "name": "stderr",
     "output_type": "stream",
     "text": [
      "/home/justin/anaconda3/envs/fastai/lib/python3.6/site-packages/tqdm/_monitor.py:89: TqdmSynchronisationWarning: Set changed size during iteration (see https://github.com/tqdm/tqdm/issues/481)\n",
      "  TqdmSynchronisationWarning)\n"
     ]
    },
    {
     "name": "stdout",
     "output_type": "stream",
     "text": [
      "    2      3.129779   13.238707  0.0                         \n",
      "    3      2.213499   14.354283  0.0                         \n",
      "    4      1.619522   14.606708  0.0                         \n",
      "    5      3.433766   12.626601  0.0                         \n",
      "    6      2.61071    13.816467  0.0                         \n",
      "    7      1.657536   15.405205  0.0                         \n",
      "    8      0.871992   16.405121  0.0                          \n",
      "    9      0.577089   16.82894   0.0                          \n",
      "    10     2.0073     15.336714  0.0                          \n",
      "    11     1.53825    16.050221  0.0                         \n",
      "    12     0.732954   17.494535  0.0                          \n",
      "    13     0.331792   18.351046  0.0                          \n",
      "    14     0.214814   18.475483  0.0                          \n",
      "    15     0.776019   18.087893  0.0                          \n",
      "    16     0.71109    18.656214  0.0                          \n",
      "    17     0.359982   18.9532    0.0                          \n",
      "    18     0.161107   19.84397   0.0                          \n",
      "    19     0.103773   20.027395  0.0                           \n",
      "    20     0.313111   19.750602  0.0                          \n",
      "    21     0.325354   19.564481  0.0                          \n",
      "    22     0.171266   20.223066  0.0                          \n",
      "    23     0.075314   20.882348  0.0                           \n",
      "    24     0.052192   20.72071   0.0                           \n"
     ]
    },
    {
     "data": {
      "text/plain": [
       "[20.720709547400475, 0.0]"
      ]
     },
     "execution_count": 104,
     "metadata": {},
     "output_type": "execute_result"
    }
   ],
   "source": [
    "tlearn.fit(lr, 5, wds=wds, cycle_len=5, )"
   ]
  },
  {
   "cell_type": "code",
   "execution_count": 110,
   "metadata": {
    "ExecuteTime": {
     "end_time": "2018-07-22T23:12:43.410455Z",
     "start_time": "2018-07-22T23:12:43.151584Z"
    }
   },
   "outputs": [
    {
     "name": "stdout",
     "output_type": "stream",
     "text": [
      "model predicted (3, 46)\n",
      "actual coords are (2, 46)\n"
     ]
    },
    {
     "data": {
      "image/png": "[encoded data removed]",
      "text/plain": [
       "<Figure size 720x360 with 2 Axes>"
      ]
     },
     "metadata": {},
     "output_type": "display_data"
    },
    {
     "name": "stderr",
     "output_type": "stream",
     "text": [
      "/home/justin/anaconda3/envs/fastai/lib/python3.6/site-packages/tqdm/_monitor.py:89: TqdmSynchronisationWarning: Set changed size during iteration (see https://github.com/tqdm/tqdm/issues/481)\n",
      "  TqdmSynchronisationWarning)\n"
     ]
    }
   ],
   "source": [
    "dataset, ys = X_val, y_val\n",
    "# dataset, ys = X_train, y_train\n",
    "idx = list(np.random.choice(range(len(dataset)), 10))\n",
    "preds = get_preds(dataset, idx, tlearn, scale=True)\n",
    "chsn = check_pred_vs_actual(ys, dataset, idx, preds)"
   ]
  },
  {
   "cell_type": "markdown",
   "metadata": {},
   "source": [
    "# https://blog.piekniewski.info/2018/07/14/autopsy-dl-paper/"
   ]
  },
  {
   "cell_type": "code",
   "execution_count": 239,
   "metadata": {
    "ExecuteTime": {
     "end_time": "2018-07-24T19:04:11.021552Z",
     "start_time": "2018-07-24T19:04:10.953179Z"
    }
   },
   "outputs": [],
   "source": [
    "import scipy.signal as sp\n",
    "import numpy as np\n",
    "# Fix some image dimensions\n",
    "I_width = 100\n",
    "I_height = 70"
   ]
  },
  {
   "cell_type": "code",
   "execution_count": 245,
   "metadata": {
    "ExecuteTime": {
     "end_time": "2018-07-24T19:04:44.710429Z",
     "start_time": "2018-07-24T19:04:44.679778Z"
    }
   },
   "outputs": [],
   "source": [
    "# Generate input image\n",
    "A=np.zeros((I_height,I_width))\n",
    "# Generate random test position\n",
    "pos_x = np.random.randint(0, I_width-1)\n",
    "pos_y = np.random.randint(0, I_height-1)\n",
    "# Put a pixel in a random test position\n",
    "A[pos_y, pos_x]=1"
   ]
  },
  {
   "cell_type": "code",
   "execution_count": 248,
   "metadata": {
    "ExecuteTime": {
     "end_time": "2018-07-24T19:05:11.787549Z",
     "start_time": "2018-07-24T19:05:11.615545Z"
    }
   },
   "outputs": [
    {
     "data": {
      "text/plain": [
       "<matplotlib.image.AxesImage at 0x7f883851ea58>"
      ]
     },
     "execution_count": 248,
     "metadata": {},
     "output_type": "execute_result"
    },
    {
     "data": {
      "image/png": "[encoded data removed]",
      "text/plain": [
       "<Figure size 432x576 with 1 Axes>"
      ]
     },
     "metadata": {},
     "output_type": "display_data"
    }
   ],
   "source": [
    "plt.figure(figsize=(6,8))\n",
    "plt.imshow(A)"
   ]
  },
  {
   "cell_type": "code",
   "execution_count": 278,
   "metadata": {
    "ExecuteTime": {
     "end_time": "2018-07-24T19:14:12.752774Z",
     "start_time": "2018-07-24T19:14:12.712749Z"
    }
   },
   "outputs": [
    {
     "name": "stdout",
     "output_type": "stream",
     "text": [
      "point(is at (9, 5)\n",
      "9.0\n",
      "5.0\n"
     ]
    }
   ],
   "source": [
    "print('point(is at ({0}, {1})'.format(pos_x, pos_y))\n",
    "\n",
    "# Create what will be the coordinate features\n",
    "X=np.zeros_like(A)\n",
    "Y=np.zeros_like(A)\n",
    "# Fill the X-coordinate value\n",
    "for x in range(I_width):\n",
    "    X[:,x] = x\n",
    "# Fill the Y-coordinate value\n",
    "for y in range(I_height):\n",
    "    Y[y,:] = y\n",
    "# Define the convolutional operators\n",
    "op1 = np.array([[0, 0, 0],\n",
    "                [0, -1, 0],\n",
    "                [0, 0, 0]])\n",
    "\n",
    "opx = np.array([[0, 0, 0],\n",
    "                [0, I_width, 0],\n",
    "                [0, 0, 0]])\n",
    "\n",
    "opy = np.array([[0, 0, 0],\n",
    "                [0, I_height, 0],\n",
    "                [0, 0, 0]])    \n",
    "# Convolve to get the first feature map DY\n",
    "CA0 = sp.convolve2d(A, opy, mode='same')\n",
    "CY0 = sp.convolve2d(Y, op1, mode='same')\n",
    "DY=CA0+CY0\n",
    "# Convolve to get the second feature map DX\n",
    "CA1 = sp.convolve2d(A, opx, mode='same')\n",
    "CX0 = sp.convolve2d(X, op1, mode='same')\n",
    "DX=CA1+CX0\n",
    "# Apply half rectifying nonlinearity\n",
    "DX[np.where(DX<0)]=0\n",
    "DY[np.where(DY<0)]=0\n",
    "# Subtract from a constant (extra layer with a bias unit)\n",
    "result_y=I_height-DY.sum()\n",
    "result_x=I_width-DX.sum()\n",
    "# Check the result\n",
    "assert(pos_x == int(result_x))\n",
    "assert(pos_y == int(result_y))\n",
    "print(result_x)\n",
    "print(result_y)"
   ]
  },
  {
   "cell_type": "code",
   "execution_count": 280,
   "metadata": {
    "ExecuteTime": {
     "end_time": "2018-07-24T19:14:39.350170Z",
     "start_time": "2018-07-24T19:14:39.319127Z"
    }
   },
   "outputs": [
    {
     "data": {
      "text/plain": [
       "array([[0., 0., 0., ..., 0., 0., 0.],\n",
       "       [0., 0., 0., ..., 0., 0., 0.],\n",
       "       [0., 0., 0., ..., 0., 0., 0.],\n",
       "       ...,\n",
       "       [0., 0., 0., ..., 0., 0., 0.],\n",
       "       [0., 0., 0., ..., 0., 0., 0.],\n",
       "       [0., 0., 0., ..., 0., 0., 0.]])"
      ]
     },
     "execution_count": 280,
     "metadata": {},
     "output_type": "execute_result"
    }
   ],
   "source": [
    "CA1"
   ]
  },
  {
   "cell_type": "markdown",
   "metadata": {},
   "source": [
    "# stuff to delete?"
   ]
  },
  {
   "cell_type": "code",
   "execution_count": null,
   "metadata": {
    "ExecuteTime": {
     "end_time": "2018-07-18T19:37:14.085388Z",
     "start_time": "2018-07-18T19:34:07.998Z"
    }
   },
   "outputs": [],
   "source": [
    "# class TrainAccuracy(Callback):\n",
    "#     def __init__(self):\n",
    "#         pass\n",
    "#     def on_epoch_end(self, metrics):\n",
    "#         import ipdb; ipdb.set_trace()\n",
    "\n",
    "# callbacks=[TrainAccuracy()]"
   ]
  },
  {
   "cell_type": "code",
   "execution_count": null,
   "metadata": {},
   "outputs": [],
   "source": []
  }
 ],
 "metadata": {
  "kernelspec": {
   "display_name": "Python 3",
   "language": "python",
   "name": "python3"
  },
  "language_info": {
   "codemirror_mode": {
    "name": "ipython",
    "version": 3
   },
   "file_extension": ".py",
   "mimetype": "text/x-python",
   "name": "python",
   "nbconvert_exporter": "python",
   "pygments_lexer": "ipython3",
   "version": "3.6.5"
  },
  "notify_time": "5"
 },
 "nbformat": 4,
 "nbformat_minor": 2
}
