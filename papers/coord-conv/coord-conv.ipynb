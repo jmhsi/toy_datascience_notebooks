{
 "cells": [
  {
   "cell_type": "markdown",
   "metadata": {},
   "source": [
    "blog post: https://eng.uber.com/coordconv/\n",
    "paper: https://arxiv.org/abs/1807.03247"
   ]
  },
  {
   "cell_type": "code",
   "execution_count": 1,
   "metadata": {
    "ExecuteTime": {
     "end_time": "2018-08-07T18:27:36.995241Z",
     "start_time": "2018-08-07T18:27:36.032204Z"
    }
   },
   "outputs": [],
   "source": [
    "from matplotlib import rcParams, animation, rc\n",
    "from ipywidgets import interact, interactive, fixed\n",
    "from ipywidgets.widgets import *\n",
    "from torch import nn\n",
    "from torch.nn.init import kaiming_normal_ as kaimining_normal\n",
    "from fastai.conv_learner import *\n",
    "rc('animation', html='html5')\n",
    "rcParams['figure.figsize'] = 3, 3"
   ]
  },
  {
   "cell_type": "markdown",
   "metadata": {},
   "source": [
    "# Functions"
   ]
  },
  {
   "cell_type": "code",
   "execution_count": 2,
   "metadata": {
    "ExecuteTime": {
     "end_time": "2018-08-07T18:27:37.024292Z",
     "start_time": "2018-08-07T18:27:36.996984Z"
    }
   },
   "outputs": [],
   "source": [
    "def get_preds(dataset, idx, learn, scale=False):\n",
    "#     import ipdb; ipdb.set_trace()\n",
    "    if type(idx) == int:\n",
    "        inputs = np.expand_dims(dataset[idx],0)\n",
    "        model_output = np.exp(learn.predict_array(inputs))\n",
    "        model_output = model_output/model_output.sum()\n",
    "        model_output = model_output.reshape(-1,64,64)\n",
    "        model_output = np.tile(model_output, (3,1,1))\n",
    "        model_output = np.transpose(model_output, [1,2,0])\n",
    "        if scale:\n",
    "            model_output = (model_output-model_output.min())/(model_output.max() - model_output.min())\n",
    "            \n",
    "    elif type(idx) == list:\n",
    "        inputs = dataset[idx]\n",
    "        model_output = np.exp(learn.predict_array(inputs))\n",
    "        model_output = model_output.T/model_output.sum(axis=1)\n",
    "        model_output = model_output.T\n",
    "        model_output = model_output.reshape(len(idx),-1,64,64)\n",
    "        model_output = np.tile(model_output, (1,3,1,1))\n",
    "#         print(model_output.shape)\n",
    "        model_output = np.transpose(model_output, [2,3,1,0])\n",
    "#         print(model_output.shape)\n",
    "        if scale:\n",
    "            model_output = (model_output - model_output.min(axis=(0,1,2,)))/(model_output.max(axis=(0,1,2,)) - model_output.min(axis=(0,1,2,)))\n",
    "        model_output = np.transpose(model_output, [3,0,1,2])\n",
    "#         print(model_output.shape)\n",
    "    return model_output\n",
    "\n",
    "def check_pred_vs_actual(ys, dataset, idx, preds, chsn=None):\n",
    "    if not chsn:\n",
    "        if type(idx) == list:\n",
    "            chsn = np.random.choice(np.arange(len(idx)))\n",
    "            \n",
    "        elif type(idx) == int:\n",
    "            chsn = idx\n",
    "#             preds = preds[None]\n",
    "    actual = dataset[idx][chsn]\n",
    "#     print(idx, chsn)\n",
    "    if actual.shape[0] > 3:\n",
    "        actual = actual[:3]\n",
    "    print('model predicted {0}'.format(dind_to_ij[np.argmax(preds[chsn][:,:,0])]))\n",
    "    print('actual coords are {0}'.format(dind_to_ij[ys[idx][chsn]]))\n",
    "    fig, ax = plt.subplots(nrows=1, ncols=2,figsize=(10,5))\n",
    "    ax[0].imshow(preds[chsn])\n",
    "    ax[0].title.set_text('Predicted')\n",
    "    ax[1].imshow(np.transpose(actual, (1,2,0)))\n",
    "    ax[1].title.set_text('Actual')\n",
    "    return chsn#, actual"
   ]
  },
  {
   "cell_type": "markdown",
   "metadata": {},
   "source": [
    "# make dataset"
   ]
  },
  {
   "cell_type": "code",
   "execution_count": 3,
   "metadata": {
    "ExecuteTime": {
     "end_time": "2018-08-07T18:27:37.916965Z",
     "start_time": "2018-08-07T18:27:37.668642Z"
    }
   },
   "outputs": [],
   "source": [
    "# dims are batch_size, height, width\n",
    "data = np.zeros(((64)**2, 64, 64, 3))\n",
    "y = []\n",
    "dind_to_ij = {}\n",
    "for b in np.arange(data.shape[0]):\n",
    "    i = b//64\n",
    "    j = b%64\n",
    "    data[b,i,j,:] = 1\n",
    "    y.append(b)\n",
    "    dind_to_ij[b] = (j, i)\n",
    "y = np.array(y)\n",
    "shuffle_idx = np.arange(len(data))\n",
    "np.random.shuffle(shuffle_idx)\n",
    "\n",
    "# reindex data and y\n",
    "data = data[shuffle_idx]\n",
    "y = y[shuffle_idx]"
   ]
  },
  {
   "cell_type": "code",
   "execution_count": 4,
   "metadata": {
    "ExecuteTime": {
     "end_time": "2018-08-07T18:27:38.091039Z",
     "start_time": "2018-08-07T18:27:38.062812Z"
    }
   },
   "outputs": [
    {
     "data": {
      "text/plain": [
       "(21, 13)"
      ]
     },
     "execution_count": 4,
     "metadata": {},
     "output_type": "execute_result"
    }
   ],
   "source": [
    "# the y-class should be filled rows first and incrementing columns after e.g. class 0 = (0,1), 1 = (0,2), 64 = (1,1) etc.\n",
    "def get_row_col(idx):\n",
    "    return dind_to_ij[y[idx]]\n",
    "get_row_col(0)"
   ]
  },
  {
   "cell_type": "code",
   "execution_count": 5,
   "metadata": {
    "ExecuteTime": {
     "end_time": "2018-08-07T18:27:38.567954Z",
     "start_time": "2018-08-07T18:27:38.415555Z"
    }
   },
   "outputs": [
    {
     "name": "stdout",
     "output_type": "stream",
     "text": [
      "(5, 52)\n"
     ]
    },
    {
     "data": {
      "text/plain": [
       "<matplotlib.image.AxesImage at 0x7fe86613fb70>"
      ]
     },
     "execution_count": 5,
     "metadata": {},
     "output_type": "execute_result"
    },
    {
     "data": {
      "image/png": "[encoded data removed]",
      "text/plain": [
       "<Figure size 216x216 with 1 Axes>"
      ]
     },
     "metadata": {},
     "output_type": "display_data"
    }
   ],
   "source": [
    "idx = 1\n",
    "print(get_row_col(idx))\n",
    "plt.imshow(data[idx])"
   ]
  },
  {
   "cell_type": "code",
   "execution_count": 6,
   "metadata": {
    "ExecuteTime": {
     "end_time": "2018-08-07T18:27:43.003952Z",
     "start_time": "2018-08-07T18:27:38.827385Z"
    }
   },
   "outputs": [
    {
     "data": {
      "text/html": [
       "<video width=\"360\" height=\"360\" controls autoplay loop>\n",
       "  <source type=\"video/mp4\" src=\"data:video/mp4;base64,AAAAHGZ0eXBNNFYgAAACAGlzb21pc28yYXZjMQAAAAhmcmVlAAAxB21kYXQAAAKsBgX//6jcRem9\n",
       "5tlIt5Ys2CDZI+7veDI2NCAtIGNvcmUgMTM4IHIyMCA0MGU3MmRhIC0gSC4yNjQvTVBFRy00IEFW\n",
       "QyBjb2RlYyAtIENvcHlsZWZ0IDIwMDMtMjAxMyAtIGh0dHA6Ly93d3cudmlkZW9sYW4ub3JnL3gy\n",
       "NjQuaHRtbCAtIG9wdGlvbnM6IGNhYmFjPTEgcmVmPTMgZGVibG9jaz0xOjA6MCBhbmFseXNlPTB4\n",
       "MzoweDExMyBtZT1oZXggc3VibWU9NyBwc3k9MSBwc3lfcmQ9MS4wMDowLjAwIG1peGVkX3JlZj0x\n",
       "IG1lX3JhbmdlPTE2IGNocm9tYV9tZT0xIHRyZWxsaXM9MSA4eDhkY3Q9MSBjcW09MCBkZWFkem9u\n",
       "ZT0yMSwxMSBmYXN0X3Bza2lwPTEgY2hyb21hX3FwX29mZnNldD0tMiB0aHJlYWRzPTEyIGxvb2th\n",
       "aGVhZF90aHJlYWRzPTIgc2xpY2VkX3RocmVhZHM9MCBucj0wIGRlY2ltYXRlPTEgaW50ZXJsYWNl\n",
       "ZD0wIGJsdXJheV9jb21wYXQ9MCBjb25zdHJhaW5lZF9pbnRyYT0wIGJmcmFtZXM9MyBiX3B5cmFt\n",
       "aWQ9MiBiX2FkYXB0PTEgYl9iaWFzPTAgZGlyZWN0PTEgd2VpZ2h0Yj0xIG9wZW5fZ29wPTAgd2Vp\n",
       "Z2h0cD0yIGtleWludD0yNTAga2V5aW50X21pbj0xIHNjZW5lY3V0PTQwIGludHJhX3JlZnJlc2g9\n",
       "MCByY19sb29rYWhlYWQ9NDAgcmM9Y3JmIG1idHJlZT0xIGNyZj0yMy4wIHFjb21wPTAuNjAgcXBt\n",
       "aW49MCBxcG1heD02OSBxcHN0ZXA9NCBpcF9yYXRpbz0xLjQwIGFxPTE6MS4wMACAAAAN52WIhAAX\n",
       "//731LfMsu1Tb7YLqPeiniZfQ3UlAZuWxO06gAAAK5UrLz2D4I//h01tzAeoZsUAk4DrYG9Ru/wY\n",
       "A/6ucmOutapIY221T4m3oVykxMEDUxD/J+cr6JtQzQcchFZBkB2VIrcDt98EI7tvnfzjNNuHw8wx\n",
       "iFf4b92KWQ9krfFi9XVnXDeR1JfDI+0RS0AMBzalSzkFKQdOBe2ngL8WdgiEQ9+NV08w+t9GjK2g\n",
       "mxa4VxMxi5u80EO6ZM/j5a6pRQOzK20znDF5I74wFzZx/FUw+alNGjC4uEnBaX0Cw2O0XhIklHiy\n",
       "SMC1comx7JiC98fkG1GvbKuFXNLwKPK5dmP4WcFi9kKm1V3af1JovkGuPwbrbeBrznca3DCbpn8l\n",
       "3bqjRQCVYrYT2EG7zSYAPPdKKbVLJH1z1h5lORAwKHIhp2sBx24sNzvb477wJXNyFpTTLJVIyYlv\n",
       "jpLVoec++SFTTiGV702kDMwI/8yc3Axv1QHVdaWgm1tHkUo0HVArUkENlFeBZMsaLHMaB6HyPGRt\n",
       "pnHjhiBGEBy9ebw9/ADSgnZ1mpUB4nw74EXlO9qsQbBEBRR2qO6J/8D7YxlDqrjpMsPVz4FLFfAA\n",
       "oroF3bneIPE4Joipi2MlqPdXORlaKPXdi33zOKuaO9HpPQmtVJsD1IVFry06MD1JnzGpcs9n98Xk\n",
       "CHPgaQiWoP1ElodlP31WYlKNi72W5CsXmJ4tkXhXv/9Te+v5CZOAZOBclfOGP91u9XGq0qtZIp4n\n",
       "hrD0Ru4FqtXaPnSuCZ5RKE9bQP6v+zWugidYUblrW2NTsGIyrAKvksOnBm5vHMxFwl0okPFU+IwD\n",
       "X7XykFDW2mZvhqWBLEnK9O14G4n8vANrwzyBHuBdXWPWPz3AXwZ++e9JZukpi4WL31KLHPXnQnhY\n",
       "KLskNkxfkf/HWQIq7iRVZC0eu2ZFHVLsl8zdp9I52q789uT7BcC1dFpsWt6GRgym05rlmfIvrg8F\n",
       "HxnihFWDtjNMTgf8pOtd2yj3tlH9VGAna99wq+VYlB5SmgTAY9jXHMLO2KZT9VeJQpRYWRvnTJT+\n",
       "Cv/u4X2sCVi5STfHhY2cvzfWhKNDWMc5N+yr8SL9KC8ZppCy9MprIlR0+lCTbLb146iyPS5Uc9+t\n",
       "dw5G9T8hYYDSyre7f/lWOWcVUO/5yngCXlVPkDlGyIaHefKvg9FTX18+Ym4rE7/6iMku3Z6Xh/4J\n",
       "inm+3AhznT7mzY/oODV9OmKreKAY0vdNX/34fs181064wyXI000slQ/DKIdCbMxUFMip98+s+Jzb\n",
       "CQ9gkq52l7LA0pvum7BONt/gzGtpI6JWcKthkFkOS9+jyuGi68YShE8NmzdJWgK/7+zmu0BnC1QE\n",
       "ezDzt6bD8q/mEdgY12WPMQQy+mKjRonaX5tIe2m9mDTMgMieXWUsj/lNNPwYOj0ufF/4IgptpGbV\n",
       "AeIp7dHwg/96PlgAAAMBcwG/5DhP+hdfWFbFVX0FdDNTH5jKw1k4/QTikdTjcoLiUKV1ela50s18\n",
       "6tc3ch5fu9J28d83j78hMfsIHgZQYzDz9yt2jDTf8XRymB9u97iiiwvpE6IepTu5MZkZh5hPFJTy\n",
       "LgZYiwnFelkkdfl7dCM8KwbJ4ELscvKRdTn/8Zcw6We3VogsCkjLADBaUbkL0x6Af51/nWbaggZB\n",
       "q+gkVhIH8TK6j8DyMAEr0ect3E29EqmtR5B3fKWlb3DkTJ30kxNC+s22gIctyCqoeydu95S/pM7L\n",
       "V+HJp6SS1FVB2M6/lhs49lqNaM7Nnzf46z1hgRFxgZg17puQ46uWzHU50oIxSgGAAmhZV2jve9Of\n",
       "cYeAGWZ3+/z8SFDYJvHjDSdvMs3bA8t8UjjYw3s7IWYCjTcve+qFL1SjUgfkogg/szNUiqVJ7UE9\n",
       "lgbYk1zoDhGzF00SOzXiSNxLwu7MLKbGzSTnc/FtghbllNl+/1rzXUlRzdxku9vVsBsyiJvvg9Kv\n",
       "zbTEeVIMK9pwkq9Id74ZBP3mTzBtX2URjK31d9Uqja0L4WVffMhr8Q4zq67x4qMR0l9Kfp6FQyaf\n",
       "S/PT4pVGl5INlMfSjIH7D+8pkzjTin28QUOPti9Jg7F0kCr9cqEVSwfjVhBiXlqHwuMf2OOkVqyX\n",
       "DX7X1x84LUdH3I3oTRPc+ToK4Q6v9grON9/OiPoTaj89O9JbCtYVSRY/+NEdBCWBQAuT8j1YflMD\n",
       "CpcaoTUGa1Pz0oAKNlJ3eubxFYXBq6g+y5IuPXITPvlGW8T+MCPHgAw3GuyR6sNMlZIZIGuGACrm\n",
       "qBWIV6NpZcpV8jWhjNOx33THfouWc7eqabHUB6lFbwWwT/T+SPwtShweb2rE/uzaeao7JK1WSsdj\n",
       "uA9XtWGZUTx7G+jLKT6sA44oOfJsTPr3+x1A+4vNfXnIj8DgYPFHDVGpObYPYRj0kgwNVAiK5+aB\n",
       "FQBzQvpQcqY8zt21hBJa+AkOwLWC8MgttdgKhIC4bw7wUcTSceEMuT+5IKnkUIx2/XYG/dCWpCCU\n",
       "Vwf/UpXqkpZufpvXWlkylNKfo/rx0eRZUqGOJetIOw1UVnEGkBwAAJi7mVdYdhbNoRWbJvUyIUHj\n",
       "aZnCAwXxrs2cweCT0lWc4RYjN/Ns8JYeFJhUXUICBDR+666c2w5s62wGTTrEIjpqf5pi2ootAnsu\n",
       "CMetVh2SpxdqqtYpZL1z+XPB4YoYC3bfskxTjqIFjN/1vRgVvq+jd8K9/IKnIjSh023qHpHE5QC3\n",
       "hQd++p9yF/NiNlGcvq4q68yJ8b4I9WUq0fbUmWbl/p/ULMfVKidtKZrFITG+wzn16s8JljxgILh8\n",
       "l4FnUF6Uo5k0qtiKP8K6DQwjfOFrBBl3zxDtkhZIz2CGqARiGLK8QtOoPFokNkk4f5+GGMI9SdJ6\n",
       "X7sO7nbNyFIUE3htOUTYNSsxUq4tDN8x2ndGZw5HFb/B65cp63SfXvVDylSW7SP1YJHgzDDD688W\n",
       "miNFDyHCKwOHeaM47bPxBRfJrjCbxYbbU9gKnaag/dTi553e5aZDn6PSFC+jZ5Ilmjn4OcfjcfUk\n",
       "CCb7RCGqw8j5XdTzqKuoEa+JwY5AyRm5IEQHJZnLzhyQle22k7K6qp4RvUKVprt//9V0koBJeyCM\n",
       "t5pE0KLJKiPpOR7d64lLh/3KN9DjqghzcbuUToIRzbsggBFJnO2PDmUhKfC2ZtvyprVHzcw1oArJ\n",
       "kvEOaNa4G4IFF0og5arUHCanov5uI9ThRujoFn3c7mougLeEipN48UX/DzoxO7ISgW/9D1ecHtwd\n",
       "oRJoq1jVbj3YoYDkKcu0RRkpmaYQY78mfCa/TGhVaL6Y2a30yo+ECZDP2x360/JWW4W0gjetjkkV\n",
       "zu3sjsYUdR5a8qSfztAevE2h1rTqzopBJnI8hDbOIXY3P6PMyey4BNlZbNWyjOVCAB/t8fUW5iw5\n",
       "RoQ3fTRVsUpBsjHYBuO645lK4qQ3lRc6vyy9Kkrp/j58L5fyQ8v1ac4/JKnU2oehN+WZgDA476G+\n",
       "jSIHx4BCCWn6/FIxZl6Tly/vNy+3itrX/pC8WyyS7uv0SDAJDNvAJY8VjFXBRyerN9WBtDr5ZgxC\n",
       "kZIn0ZRz4uxVQ3lYv86eKetVnEMC1SOY8cXBLizr64dCb9UAG9SQesgqhXOVR9oxcVjLcrnW5BMv\n",
       "NZSqTUrXYeBTfD12FvaFTydNi4ODCegZzlj2a5GvSCZxjYQ4hXYHHHBReQvMMQLs1ukAkyuBBMJx\n",
       "5xZGIz3GVmv6QCkHYffNUbOOt/Gsw8xiu+1SI9bOayp3Lq9EriC0GdRB/7xulOsXkCQg8j25hXep\n",
       "X9YfQqcDja1qtsbtdgMPqHVfLmPwYVqGI9OXQobdgJitpBAn/L40gNCXyWc03jFvek2SBBh6Gq1C\n",
       "IqNvFZAOmpsVXPKs2EHAGpg44kb2X3mKK3LZ+uCzwR3Ybtkeq5Ct3X14lE2JY8eQyNNQn3/p1X9L\n",
       "gIUaTqeqRZQnXok4F5oLgKWblFCMN5S2XxmzBgb3t1NLIaQZ6QS3RHT/wanAA96j9ffmdkoz+AZO\n",
       "YZxvdL4xpOC57mloGdZIo30/4Lrr92l7gPJwBS67KHA4hLAoxJ4iSiqXJaCgr6WdMzCCe30p80z9\n",
       "a1HW72tcTnMgYIsNWH6ODyuIePK0EmzGcxGfdP5tbCvvHPNvNRF6+YZpg1sKtAX7sIi6eqD/FRKq\n",
       "T6MhbxRVigIBPJS4Tu2ILrJ6IP0uo3lH+2+zrKZe5qrRYKkEtoYZMGl/WBLaUlvm8ojV1nH5stqa\n",
       "vsBeNhM+gQJyz9wiD5LETeisA+wXrTAfwJSHhXiS1vzJWdlUQioS4+fk3iBe1D+6bLvZ+rtfPpgd\n",
       "c+yxoCjYAOSRKdLaZinMpXOmumT/6MhNcVEk7eVgyfeNq3NRwaOTIHaprXpPGK3xvqasYrz8hnDn\n",
       "2liPV1UopPfaPx0U8KL1KQ8vyzoIID5xacG9trETuXBUcLjMgiYurHrABwG1V6zT1hqS9LKNQlUr\n",
       "5iVVDFDyxLUjjPmmVmBhgmWChiX7rOp++afhrZQxnFgOWJ42nTGks9lgkD/UTnfu4TAtqGVuLZMx\n",
       "XsKAV5C1Hu6PDLBj93Xa/eaQRV5bk93FSRj+TqOU6Uua5mNLGHpNm6NrWeShX5N610rQiPviMcdR\n",
       "LNT4IIwnrRX0IvpiKVm2jBndGREMQqKiIUWEJ/Xv7JgPhX/FQKQTcX9YDXKgvLbtIHbt/zmjcDtE\n",
       "YmaNLLi5VvjgQlVE8AiuAAADAdMAAAFYQZokbEF//tqmWF5c2QmQbrw0XOJ5y0qABwK2sJtgSLcS\n",
       "WMxRW/grwbl3BPr0VXHTBY+GWwTEq2BGnOv6+DCVH2m/jwt4eRC5uDThcwg+vxEwNwOdIn2F1zRQ\n",
       "nk25xe10pEJF/V3vUXSHy4FKcyr3I520o2SLoojq5fFJJrY/ModfJja+PSz9UVsYZdGR5nDagxRl\n",
       "rRs4jqKWjAP+ypbZxGX5e8cm8VwvAFh7mYTIYDZc8rGOyCsImgZkch6/lPOAny5F7D+7ziBsnq1m\n",
       "ZKwpqyw3c8x7sdxYjX5kiQilIeyJkC0fBLxbLUg8Wj4cW7YaBp5moet3OiSa1Z5PUsjqk3/svBA7\n",
       "RUWWJfVsfGPHqc6N+v0NjoCYORk8jZHYe4w8CplU/LiFmiLBjSSiTMtADWcuZRAdoPTmKkehOVjZ\n",
       "X9GAM0vGehymUutMrtEgz65kuluAR3oJVp8AAAESQZ5CeILfAAeozLcfA8S/xaAC6uASaZAxWqlb\n",
       "AnPudCqn/pUW1IT5lhf7FJSHsqaCQLfz3dVO+cefW/mUkeCaS3pwNwAlYS/v3NTeo3EF/7ay/PDR\n",
       "xmIMhX72CbT29eoT436mvW/3ZmClkFGgTTdwPzBwJ/C/dac9RnOnEobTaFcWXOqksZp630v/WtMH\n",
       "cIKVPGa8V3DWtalHTml1CIH+q3U1TAL270trtLIZyiCrQ2AA8tXDK2UwOubdQDYt7A2S2fabl40O\n",
       "/dwOPTVLwCSLTxjU/diTJjFvpW/OMgfe8vSFifWsO8pNh1kv/GgWU8wm9O6iTy+8/COVsaj7c4zz\n",
       "gPGT+sbe2oJXyes9eU1pDCSOiQAAAMYBnmF0QV8ACu03FwFd3o2EsVvTAQMDcAH8htoAyOdobCfB\n",
       "pCKW2TT3ComNQLRVM19hCqv+0vGK2I05aXZ3eMPQmNIo2eMVItJlJGmA855iX+6C1ut3OBap1CaW\n",
       "SsPK6KG3aQRQzjTClZoK+NGIuta6gune7pjUcGiRIFSVPwr/A/jEj6YIHI3uPfLJxs2tb1qtj0kx\n",
       "7UJ9xGminKTLLFSTYtW+X7JqeAzgmT7JHxKRQnsCZ//ApLjrV5p4sidGGjHIeNoHBqQAAAE6AZ5j\n",
       "akFfAArt2TN5WBXfoyK3soAFqPPEYymzXNwKUsHz7/Tuvrbdm4C3RBhoDwUXm5Vh9PnZQnZKa2MB\n",
       "OI+BMl0qyuj84LMig7w8nezmZF+ZqvCheO5eN4A6xQ8zKtgcDDcgUpn21lGZ4hhwX0zPillJUV2U\n",
       "UqE0S3UBEdqSxt84Kt2tuF4kZ7k4ktT8P21+PqaNWUIuB06BWbLWjhdVt93JsQj82scR8hZNF7DG\n",
       "M3hJP0FhjGlOLK2o3L2bV0qDhOJ40j3kJ2+Szwj6piIqZvgzKLl4aXsmd835+VMH/ZhUkPUy3MPK\n",
       "UvAtnorA8djNYFZuxdbbBieds8D5pQya2aUsMtI5xV4E5+eMkNUIy9jPlaEM/bTX+9WG0pCKVQwz\n",
       "+ubvE+++1CWaflXGisWabQQUihTUAW6miEEAAAEtQZpoSahBaJlMCC///tqmWF5D45qNKy0gwP9U\n",
       "AEKqf0ZSa9qQMPkPCljJWitbnx9UWfNjhwT8HpHRwlxWtucgakRUIhHbrRbbWhKEd7X8P9t+kDhk\n",
       "W54jf3ElUms0c3PKuxuMcAuDqAV8IPKKQMOheDQ8n5H41XniY/nWYAU1fX4eoDVpqOgtDv5dmkVp\n",
       "n6dzA4ctPSneSv9YvKKv9CfLgd/JCyZzi1X/+EOO5j7efgaq6Pi9pnHp5biJeEmpxtVZUx9C3ZEq\n",
       "bPLTg7uoeHoiiBGU4oDmL3dcNEeFvFD+7d3fBIKRXKBP4P/A/X0MT5I8OziACIiwIVIwJRaLuICU\n",
       "87NZTBVotjG44OE4aYhjTSg1gc8BU8S50MAu9mFwnoZsgymgzwMueQWQGG+gMQAAASdBnoZFESwW\n",
       "/wAHp8HrpVsw3illUjAATup2jBWJYlVPftEkb4V0WAWNEvwZvkqHILCqIR7cb/kk13SVeAgbfQYi\n",
       "1CDHSHa4f1YJg783RiQ1jtpbKiVJaYhZjUpUmaL/VKzhdEeah9h1AWqK7LxEhMlcsvx91uXlXYFz\n",
       "KOL32KbZAbkcbgPSt/5ANQLugRAAH5mpC4iF6nBY9kxGnslvrwSVNmIMOaqVpnxJT04bmwEvqpSi\n",
       "aGFnoHBV8Z0vLuJ17bnst6/sOXE7aTqL0dIYesl45d8bvhQrpWTJPuCjzSBZReYodhWs6AdHAPNN\n",
       "2YAc9Hac+ME8fxDubS/RXbn47b8sExFsbGlp+OoIESTRlKja1hFejzryiC2LKix9gzaCVZeFhy7i\n",
       "jYnZAAABDgGepXRBXwAKiblXYc7DZez4dNq3JACa1Ns+PFgHPwJRDtUeNQ7J/Vt45H2GLwSZkxMF\n",
       "gCtNLVA3UYmt05EC1+tGdUrL3H6hDTLEGtO1VhsNaaWsl9lZ04KTHzCNAUsMkAn2grc+rQyXfM4u\n",
       "UvsbCNsHZtM2sNs51CqaXqNBAHoQieqL0J1i/gNr+Zz15mBgzwy4oWhgIQAUbnBuOZNC8l/1ijql\n",
       "ChJTOB+Bkq0cE/icrVj6TtTQ5q8hDnBzATC3RSswgN95YiCNissH4v1DgkNcFi5fm8Wu58WJqA/f\n",
       "iRKXyqAm5JcXWiUQnGeq6USm3CS4BtvSJ4CL3MsZv+n0ton9RquX1vA4pKnlqS7CtwAAAPcBnqdq\n",
       "QV8ACDYreOj1EBAB/W70H3s9AjrPwW4yDlu8Ie5W/5PIJgJDj7M4t0W6U0nP8FIqCGVH0tZL3BT6\n",
       "95WF1j1WqqVt5/aA+5mG0OHP9xKYsWeRoPZbGv0T9k9IVm/1nyZdqHJcLWbishcljG2IYePF2IvE\n",
       "M+khfHRU8suTDws8tD8GEuTQUP0MBhfYHRnzjzP/kShuybv1SO/fztvb2JMBNlqa4JqM/4co/6a2\n",
       "qILVt+9tZdxhXw5WAbVo/G1sH6gLIu3cvkkMSfrztF5CWCH5xef3sTf+qRxo96+Mm7sUibLLxgBL\n",
       "Abm9+/h0I9pr1rBWgcFnAAABbkGaqUmoQWyZTAgv//7aplg0JFJoA3G+9Hs3z6L9k8l18xjH0GCz\n",
       "zq+gllnVHz6xJrvDT6gIddq8EcRnLNl8DUzjYauvkU8JxRS9tryrcDDpXdm/1ZiYg7w3viIBZV9o\n",
       "tXotI6N+b+VlYMy77R1a786k3XV1C7G5KEsPf9FDPhDsb2JFYAGyRTbP5xRchpNoYJ/CQjE4JN4a\n",
       "l+ZPoWnKWRtq7nqTPWYX5tEJQxJtGoXHJyU4kIo5u/eqbpSSWRqdWBV1EIKcMQPAkb0ZNM0EPoik\n",
       "VaLD/zqMvHHXzXXUnoVeBdMsuwHsIB7vSLiWeFiRQewyK0KGSztAt24HqKGmcMaAzbQ9hhT4DbXi\n",
       "fGPZulnBmsEF7KbVOQutBIxuXFwoGsIzHTdLBlZAJ7aRT4Ssl6Y2ohGHdqlnkX/hBq+9X1n2yX/v\n",
       "Hq/iYxs96zFdz/oyz8QX7gPrXDUhrhKiQdUQgqj17oHNzJVXoHbvq6PXBwAAANBBms1J4QpSZTAg\n",
       "v//+2qZYXoNNCD1Y5p19hLVdv0AE7KlZBGRDAhE++iMDhMPhpeju3IeFxKvgWXiFHAVS0/70FnYV\n",
       "hNYefvkvqAKNvBhiUgGd+fmMywt0NounRFJ28+af7fFlrzWfkJkrswITeu/A2tRs98yogCp2n2O+\n",
       "gFJpxOU0CNP+F7DHxL7egkypjPnCYLmxWZ1qwl+HG5izwRtkcAWiNT3x0a2UTh+0nkScXJ41egif\n",
       "+Pn65HlPLbmHm00RIzEt/X6CRxxGjnQrDeB/AAABIkGe60U0TBb/AAeo6jzHxntftABdXAG8dned\n",
       "SdFCgaNvK/Xv5LHwsq9itgSMffRcrQ4AjSRkotw+f4LAasffJdyzxW92gUk2ThNlRdbtqnAF3qcV\n",
       "vFjD8qeU291xYqpYWt7T/RrtJdANd1MSM+jh1j2BbkHSNcRcnxRW4nlPRy2AY/+I/h47sjiXY61A\n",
       "eMBxF2lObGEitqFg//mjM1H0sKyxWGP//9AJSrzBO34hOk4cERRNKB7dof1q2OAOua2EUPvBsgvo\n",
       "I8zmdDQge2CtXBB1R3ndO9ovhdcumMxe1jM8iM3ZPqmF6eaiQCcHGJqZgvfoRYxm2EH2GeAq23wP\n",
       "IHG3+UGfFq15+wcFfkEE088D4XpDL335Dh/JvDyfxnKy/G9AAAABGQGfCnRBXwAK7TcXAV3eiRWa\n",
       "hmAFuug77d6qcHNC6aXBqV7EpqleugR0Jj7dM4b140Z/tai1At7Uyd6wMmvf4GFc19COZEkUcIri\n",
       "zMywQz28Wbuesma79pEe2Cx7C96Tj1NvwM9KfIyjpuQwEtvs8Mb8eZaSXhvJCPDeem02VDcBqmSU\n",
       "fnNOW3qt8TjfEXJ3KpDYWW6skE2TYrOWhGwY5+Csem+Ya4zBIwJ7YyLVlr0dbDtcCAQNNJkudY5K\n",
       "INCh1i9LBMqFNotfS8F1Rm9aQToto41qBguW35f2z13gAHiJpnr4DEhriXL4stru3XOj2F8cRyAl\n",
       "JvNRaOo/3HvFf3QxoUBlshBOJVyQo9sXzREa77L0mdftTpZwAAABFQGfDGpBXwAK7dkzeVgUYH9/\n",
       "ail4ABbFzvMsMX4uUn8j1memeP73VzGNfuj2H6hlnC7BdSDSk6AN40i+AW8uqsrTZVZXu/nQivBp\n",
       "trdCP1HOURPz3llSsVAYhLxkKTR5HdK+2LJyoz1d/hij1n+jO/J9YU43kZL23dT5U+ogDkbJB/dP\n",
       "/sqJ+cojZ0AjSvh6Fk7BUcmuvr7p46LiTzoIUXvNMlFRlVlWeQ57CUU3qvCVmoXaLiUu6cAAxCJk\n",
       "ZoZT0EDT6vR1GLsynFfk+NYgcNWx/NDXhw9X/gV2Ht+EVe82VMol/5PMCcUvUgFdq77x0ZwvZ3l0\n",
       "eGuuKVAUaGwUErCCNX2LZFlZws2bJxwaryH+e2H5FNEAAAEyQZsRSahBaJlMCC///tqmWGN7J62k\n",
       "PNeM6L9h+g7ggAW1eJQt/xfAvFRmJdHbebfgTjq6J1BUbO4SN1EUf/Dq2i7jA6H7/YBOwRdK+Bth\n",
       "7hVQ6URiF2wqPEeL2QYurjgV4rx/7Uj2FUhHXKOB9xm2/w7R9AKfZ6uPfC1bNvkojTBH5ZnGnram\n",
       "bkUwygX3Vmsj/6+91S3wY+HV9VN098qGR/H4TfZMRY6x6HSvmIMT3aF6qO/+rV2Xd9IstNFKTI86\n",
       "oDAQd+I0YPkkBLo5fQDLLMMYlKPrXk3GcffygwNhKUcE+54Wt/P5ux69p/1H0QcxHsqbgNGSp/8t\n",
       "gynCRwbSIbYZIOuc6YrkDFxhF0FlOQhEshgvc8Xe79VcOnO+B1HBx3dBRCDTrtWmnKMYH/6BcAwp\n",
       "AAABC0GfL0URLBb/AAeo6jzHxntORD+wu7m7AAmnpe+FJjFslooNn2ZKbgRiGrRRrYEGAf9aTJXM\n",
       "UleHCUSJzS+g69zwH8qqvy9j/mBY6XMcamDn7dRqZmub+162dijcb+2kef74RsLOehrGSoUZ7a9y\n",
       "0rvqTdmxp7lgIONO06ovzRIzMEdOyA4Hydc11fDCu+TlZIrxQHuUcWeGtBqj6zBchuAMZu0BURWy\n",
       "NSHjINiVztknonHgNAu4oCahmOZKiaYCuVJhoZtUZyieI2ygBqwtwh/zYbhopzGe3snzCaQBrWJi\n",
       "g7uQ2Vz+Wa8v9OCyTUp74weZDoN5S8M2WIqriOFLA83J/aDFaUdoidwA/wAAAVYBn050QV8ACu9o\n",
       "wWoDoY7dyZQgAXVv5Se9e1TZnctzKlrG37KUlTZM7SzRsXQOlIB4nMQ10OLeTfawMDQlBtrwtIH+\n",
       "g1hj3NF5r8oJ/VGaSeKR0KI4T9/jOXYSStm4AXKVOHbj1wwYs3Ie5u3f3n02nMWDz8mVWhlVhLB/\n",
       "fEKt2FzrynOn9EhnpZgwsGfUM3S5kyvkx1ssQCEWicnqJMXabBQo/kunPxn59lORB0vOZnKe29Jk\n",
       "s1F40Ub9nk4UPgeau6FP3/SXt6jO80Pynokz41mqess6NNDRfE8NSUiHqKkBD0HpiDwKEU4/cEoO\n",
       "GnGBZhVuIBAVtRfgVs7lDXHz4pLj+iOU9sxHUP3rqmOls2i3DHOn+190Y2dEvDDHDvgdovzoqxef\n",
       "yb49ibc19G6rofULDzfnDKyJJvQQUCh5vNICifhrzieqRDojN/91EpTkuu/v4BwAAADPAZ9QakFf\n",
       "AArwR+jfCoHhwht8AJoqX5i0PHtDu3ymgk9Pd73UD5mtl4TQPzkm8WFkMHIpYxrmQvUQfjQDy2tR\n",
       "MF4wW9Hucsx/6J2om4DxNsNt5byV9w1513qd3LM1dNbBT+TsYevdtBFWZb5T4NlurdUurDGgw4mc\n",
       "Ef2Ds36i3ZLQblKwtpMr8UmBzCfAOvxxBSE33zWNPZRc0JVgk8m+ZCsL+3K+kBKeKE5vjek91/lg\n",
       "kqMWuGlzAEBv7rEUp6ifu4bJNhKA4eqSxyZxgA2YAAAAz0GbUkmoQWyZTAgv//7aplheQ+OajSo6\n",
       "uM5QAE6ufRt8Xb3HBbMAemDiacsd7V0wKpfuFEf7G/w12vwDgIrOVdAxq342MzWF+EbFLNjGzBN4\n",
       "tYPh60GcA1BqLSJIV+RgOcWy5Fqm3a6X4HhPlurU+doNLYE73wXd7wn1dIGifhDO4alYs4z2hraO\n",
       "gaRemSb3DkX9TCZVQDHpb7hDYNoiUaF/9BgnbU2egkQIrKZKgGoSJstKlWL+tc7aOrZ82JzrpP12\n",
       "zT4PEWo4J11YemQBqQAAAS5Bm3ZJ4QpSZTAgv//+2qZYLah/3nZnM64ACIcrISAxQxgujPeM3Q4N\n",
       "L856l4vMXBHDBYHLSPft85AAM8LFF6QdF2rO5bEAGm6IOo5Xzh7YKWP6e1+BZ9fPrTSNBjS1iBga\n",
       "9yQJHNaJ8uKBaNn+BuSITw4U6Aipwp+PKZBFYBXk1fE7xZ7q6oZf06ItW+PVGl2ZFJIJEFoVIED/\n",
       "HR/StYpCVqHu54Q8oQ+HO7f2NEcw9DSwonWRr86gnjKwRgidYYx5AwgpkwFuFFaDx/FCHFUzPAHL\n",
       "xgKJeq+EU1UjfBjGCDS9W+F0XXjURT2xW1pjpOk9F6a0P3vZOj+l5PY9eAqzj5A+deM+AsKQnY6u\n",
       "b+nC0ily2Ycs0/7pdymk2L5Dn4AFvNxp1ZZDtOSmPSQFTAAAAVhBn5RFNEwW/wAHp0gYMgnIg5Gg\n",
       "sEgAmsoKicNIe+DuJVzvz3yWmqREFbUgiYTADCk7A1C869JaAcA+awUWh84ej0r7hMuzuu57CpE9\n",
       "9hIqlls7GVelHXJgQ6pDjfVBMHKGbx/gHY5566AfFCyYaz5HuFveCzE87Or4kL0Yna//uqHM/V00\n",
       "0bdvYTUFtf0oBi6Lju7MBhPT9O8FpTHsB1fs0hLlUULSdi+1rNuWb0AFSLotFEDKjiiVy371mixG\n",
       "7ZEQHO4epwYeTr+EGG+w6+4Vv5PegFF9vBWqUC1oYguxBDMWE5E/BP+cxsI4vtD643bVUvLtzIeP\n",
       "DZikeubqBxi+PAqK/npheKPp6P6TR9Tto1rNCcRRgRKFtPe1UjQCCagmrFos2gM6EiGSpUfF+jOd\n",
       "5Z3jpItg0/IWKRQJ3/90/3Pf6bUF/SIdv6mvO5pbIY2OBGoEzfAEHAAAAVMBn7N0QV8ACu5JZ+Wc\n",
       "Pb9a3pQAAndTbP/+KxLan+BUySkePIW/f7sn8n4cgZNQVs2xyPpzNEBvEAdvcbjPGNrxhtcI8kMT\n",
       "349PksEqjyy+NDj28FQg0oyRPqTrE2c0z0METHS+sn25emD0XVCnv6DfQqqMqk7Ek7/906xjMcKx\n",
       "DXCrwW+n0CS7lncDodIRxDjG6ODKMG69+ITP4XrLAG51/l6ZrL2RrZQESXAp8qSUNsF01ZhnNdj7\n",
       "ecksf9rMnp0FH//7GEA/4Uf6nR7W1s1kTTZ6OcD1B8DgnHqpgXNPPS7LD7pp52ePZ/HcJVIt+xcA\n",
       "x7HeM6MSNPqyAusvs8/ErJstqJCfAQFYXF5mgr/KxUUxa24a3mmxtQfTf55oBujUDJJbp0Eecmfr\n",
       "qHXP7MqzggEvDxIvdwE7MBrn089oMZZN3Pzfeb6FFbuD1bB1q6IfFMEAAADoAZ+1akFfAArwR+jf\n",
       "CnPOyWkbEAAE7qZ+cQ0Cpf82r+kKeiEseanVaeYr0hb0B3PCuc4KmUbH/doCh3ITIJj2UILkeo5I\n",
       "nKxY1fkvP9LUaSD+mwz+WrXhUfnc88o4S6V8Lxtcvxv0l0h9cDkIYYEDbfhbJ6epX8FIp+5Igfct\n",
       "6AgQaq7oS4KGENl29lT7nQXSVbKeccujvxGJoCRQsaNpG/sh0WCfJ0YWFBsSsTZWYp1kMLpV5Tx4\n",
       "iiCUl3nA6wB7/yFb+pD5ye491SEA1Q73rZyTKqRWpOVCAu5TnkY0JhkWF70FjyACmgAAAWZBm7pJ\n",
       "qEFomUwIL//+2qZYXkPjmo0qPj0AF1innnv4ZHlQ50ttAyRDuqXMwlQdqJ+iSdBNYiHcDZuScjRQ\n",
       "D+7TSLJmiYOp/FxymG1Dji2RgcMRfQm2QkXlkBZeYaraY0cJrStehvMeRJnGR95tKpmQJg1W7/j/\n",
       "rp4Ya/NwCw+JJ8kTulc0CG6K1vPkq6IDRwGu12jrbNTBBdvInPnn2X2RUojot4gOcoImfeJWM7pn\n",
       "YF030P5LzwrXRPVJxV1RhxeT33zTZVIibldRNooo5cRC1kAj3sQHTKiiJFIAwhlwhWgMq+dV+REt\n",
       "dBeCsKz7bHVEYxCc3gqxlNTFUgHVuSJOELoAZ+sMRdjrO1sFMJjL6ttbSR+bCjYB/oajUo9emnMA\n",
       "xFKG0gfrwWXtVF4RyaNWJoGe8CniX+wtAcbKuFkhJe897Xuu4P/y2M2N9gWgxYH3wOPsBThr/Awu\n",
       "1hWHzyfPhxPY/EHxAAAA10Gf2EURLBb/AAenweulWzy/AxhRV2AAiFTtGEaDUk4m/fnQNdVPRDX0\n",
       "R1OrwAUWg7ruRNxZ0e2qOXunNr/HGWN2O6lCuS3CkhYkfZUi6N7IoK9YRDmPuPAG8K1FLDlWeCN+\n",
       "mIYkhC3CX645NEZUFKv+Jcfr91bv0wS7MgBRkpxL8I/4BXhwyfhBv/+d/F2+RJUSXygcUeXf+ZQp\n",
       "qBfz02dFnmlB75AiAS7Wb4BWDZtFyWv0XQihVlC7lI9atcBu+Ba2Ge/4gBAzF3y4skjjSH1J5Gu/\n",
       "HAalAAAAtAGf93RBXwAK7/xql96ywswAl3g74c0Zr5LfFwC2GEL9edARO3qxM6fOwPTDjtYsI74e\n",
       "cKK/11WHqjxSXqRJatQ+RaJtNRZTFqFYtGxlr+vSG+xww7j6IPPelMy9FIn4L//BOi+xyv8vkbai\n",
       "B/XYFkP+xV0DI+DAZBgL/yqf0RvH+kxARUnKbvwluLCDgB+v1QcE8jVfzNYe0890iPs2RgqTF8oD\n",
       "SYj3XFBjDOa7iaqO7bMEXAAAAUkBn/lqQV8ACF/KABdW/nc3OauwR6Qv9To59k9oUaKLwllglT1E\n",
       "5ueODcFTfZEIwCrZZdvoDDyohT3zVjXndqa+LN/0T/g/nQo45MU4fYjfjcqjy6noGH4YVniGKmdw\n",
       "i3ITqANt9h7QY6lqH6qsP615rhzLB6fPKPnxJykbWeVbFvC6I9FZC8N6jIm3LMZwN0PBH7k7MI8F\n",
       "sXR76ffNJXCUrjFtXpgE2Bv+L4ZDNC28p/SdNe3QOX8wE31Yc4ZL+LX/OVPdVVCg1UUnPdTMRat/\n",
       "JWGJyYgaBv0i2kS3sO0t5tdFwL/7os+afWngN8wvatKbWl9uz5LD11GcRM0AFM+BWO3wn4W8Ld15\n",
       "D8QKgFnQsUs8p4v2wVF2a7bgk+anH/vZRtQnGthjsik1ystLFhSnsP7HYQBXgHmSXR9qU0e5iIVD\n",
       "WNUbviJTYQAAAUpBm/1JqEFsmUwIK//+1qVQXjSCjY9mCFMPXK70AJLYO+m/5WSaSRYgHBn1UQdG\n",
       "BsJRJ6juIJLcZie4Q1WE0YfsF53xM/4hEdn+xzeN31JE9+CvlnEoBZgV0040GtswqzvsFBvdhr3D\n",
       "UlWe+GwYdKkHxIvGCdBeB06yDj+lIh6tdG52sZ8ZX7nzZKK+WjkLA9N6Wu4nSuL7eFYSf/YzDomy\n",
       "LL14F2vWumlyg53wGI2BEhPTyBKEbKBP/+xhMMLBBn1mTDjXCMyv/mQFEUHu4wcevPQaRyz8LeX/\n",
       "v2u6NAvYYJ+yhSnz/BVIQK6YVZuvW4W+yHvelUlHVr+TApqVGWcnimFxiIDT8JOnx+ZeMvsAkRO8\n",
       "YH1W1Ywtlm1leK6gWN/+rxwBusfrBiohBHkoSLNCNVjOy/xAgJFAlxfaCDlEp0msHiMvuRHQeYAA\n",
       "AAEvQZ4cQgr/AArwR+jfCot5kAC6t/O7NRbzOBPumxvJH3fjt7fZP6trP4vpvNMsnK+Mh900AH2V\n",
       "361bN2ULmwWHqPMiurGjGdx389nro6y10ZRnM3Yzx7qtBvssipXoDm+V6zCrFzAyBoKJbPnI/8wx\n",
       "R8NZWIwZ+882A15rAiYuOuM7YPL65Fj/gdw0CHutYyEvW/laGSvoz/zlfWS4w0Q1fPcybed/toTE\n",
       "EMHsA1ekX/nK7sldRxCpttnIvgy3NlpxcY05ADnyb8bo5QefvJCvmRkR+qWVa8m55IP6GImAVVyK\n",
       "BWXwR/GSEewfuhNnbcf9ytjChvCdmC+1YuxV9AWg0/71u/qt/xrBm5LsLDUgwZ3lkaauGX/nFlwX\n",
       "1/b/jfMUViZ3MzbJPhXW2uHAeFLxAAAA+gGeO2kQV/8ACDZs7j04ABO6m2gD/z+dedrdn7pmB/ge\n",
       "BksKBk+wR0r1uYlVdlIdlvG1mcwxGGP0iwClLBUQjzjvPwrVzlMiLJrQ0IAXx2jWNnk79leTI9w7\n",
       "cGrjCYGWVcXENX90NbGZp8FSeGwoOTJOajY2IER8OlzM24OJVrLh7K1PUJIPa1I87y/WFUKjVxcu\n",
       "/iPb/wgyKzq6g8k4YlqySSwNVKfh1FK+Fslz1eAqmDIY48qmGSjBklSPouR9zrYdjkSyNhgLDc+B\n",
       "SzBNgF7XGK1f3bYMopTJSC712DO+DQlT8VgDNef/i9THdlll46Rup32flBfOcY8AAASYbW9vdgAA\n",
       "AGxtdmhkAAAAAAAAAAAAAAAAAAAD6AACSfAAAQAAAQAAAAAAAAAAAAAAAAEAAAAAAAAAAAAAAAAA\n",
       "AAABAAAAAAAAAAAAAAAAAABAAAAAAAAAAAAAAAAAAAAAAAAAAAAAAAAAAAAAAAAAAgAAA8J0cmFr\n",
       "AAAAXHRraGQAAAADAAAAAAAAAAAAAAABAAAAAAACSfAAAAAAAAAAAAAAAAAAAAAAAAEAAAAAAAAA\n",
       "AAAAAAAAAAABAAAAAAAAAAAAAAAAAABAAAAAAWgAAAFoAAAAAAAkZWR0cwAAABxlbHN0AAAAAAAA\n",
       "AAEAAknwAAKAAAABAAAAAAM6bWRpYQAAACBtZGhkAAAAAAAAAAAAAAAAAABAAAAlgABVxAAAAAAA\n",
       "LWhkbHIAAAAAAAAAAHZpZGUAAAAAAAAAAAAAAABWaWRlb0hhbmRsZXIAAAAC5W1pbmYAAAAUdm1o\n",
       "ZAAAAAEAAAAAAAAAAAAAACRkaW5mAAAAHGRyZWYAAAAAAAAAAQAAAAx1cmwgAAAAAQAAAqVzdGJs\n",
       "AAAAtXN0c2QAAAAAAAAAAQAAAKVhdmMxAAAAAAAAAAEAAAAAAAAAAAAAAAAAAAAAAWgBaABIAAAA\n",
       "SAAAAAAAAAABAAAAAAAAAAAAAAAAAAAAAAAAAAAAAAAAAAAAAAAAAAAAGP//AAAAM2F2Y0MBZAAV\n",
       "/+EAGmdkABWs2UFwv5ZYQAAAAwFAAAADAIPFi2WAAQAGaOvjyyLAAAAAHHV1aWRraEDyXyRPxbo5\n",
       "pRvPAyPzAAAAAAAAABhzdHRzAAAAAAAAAAEAAAAeAAFAAAAAABRzdHNzAAAAAAAAAAEAAAABAAAB\n",
       "AGN0dHMAAAAAAAAAHgAAAAEAAoAAAAAAAQAGQAAAAAABAAKAAAAAAAEAAAAAAAAAAQABQAAAAAAB\n",
       "AAZAAAAAAAEAAoAAAAAAAQAAAAAAAAABAAFAAAAAAAEAAoAAAAAAAQAGQAAAAAABAAKAAAAAAAEA\n",
       "AAAAAAAAAQABQAAAAAABAAZAAAAAAAEAAoAAAAAAAQAAAAAAAAABAAFAAAAAAAEAAoAAAAAAAQAG\n",
       "QAAAAAABAAKAAAAAAAEAAAAAAAAAAQABQAAAAAABAAZAAAAAAAEAAoAAAAAAAQAAAAAAAAABAAFA\n",
       "AAAAAAEABQAAAAAAAQACgAAAAAABAAAAAAAAABxzdHNjAAAAAAAAAAEAAAABAAAAHgAAAAEAAACM\n",
       "c3RzegAAAAAAAAAAAAAAHgAAEJsAAAFcAAABFgAAAMoAAAE+AAABMQAAASsAAAESAAAA+wAAAXIA\n",
       "AADUAAABJgAAAR0AAAEZAAABNgAAAQ8AAAFaAAAA0wAAANMAAAEyAAABXAAAAVcAAADsAAABagAA\n",
       "ANsAAAC4AAABTQAAAU4AAAEzAAAA/gAAABRzdGNvAAAAAAAAAAEAAAAsAAAAYnVkdGEAAABabWV0\n",
       "YQAAAAAAAAAhaGRscgAAAAAAAAAAbWRpcmFwcGwAAAAAAAAAAAAAAAAtaWxzdAAAACWpdG9vAAAA\n",
       "HWRhdGEAAAABAAAAAExhdmY1Ni40MC4xMDE=\n",
       "\">\n",
       "  Your browser does not support the video tag.\n",
       "</video>"
      ],
      "text/plain": [
       "<matplotlib.animation.FuncAnimation at 0x7fe86092b208>"
      ]
     },
     "execution_count": 6,
     "metadata": {},
     "output_type": "execute_result"
    }
   ],
   "source": [
    "fig, ax = plt.subplots(figsize=(5,5))\n",
    "plt.close()\n",
    "def animate(i):\n",
    "    ax.imshow(data[i])\n",
    "    ax.title.set_text('coords: {0}'.format(get_row_col(i)))\n",
    "#     if dind_to_ij[i] == (0,0):\n",
    "#         print(i)\n",
    "# show first 30 frames of data    \n",
    "ani = animation.FuncAnimation(fig, animate, frames = np.arange(0,30), interval = 5000)\n",
    "ani"
   ]
  },
  {
   "cell_type": "code",
   "execution_count": 7,
   "metadata": {
    "ExecuteTime": {
     "end_time": "2018-08-07T18:27:43.112398Z",
     "start_time": "2018-08-07T18:27:43.005705Z"
    }
   },
   "outputs": [
    {
     "name": "stdout",
     "output_type": "stream",
     "text": [
      "853 (21, 13)\n"
     ]
    },
    {
     "data": {
      "text/plain": [
       "<matplotlib.image.AxesImage at 0x7fe860815710>"
      ]
     },
     "execution_count": 7,
     "metadata": {},
     "output_type": "execute_result"
    },
    {
     "data": {
      "image/png": "[encoded data removed]",
      "text/plain": [
       "<Figure size 216x216 with 1 Axes>"
      ]
     },
     "metadata": {},
     "output_type": "display_data"
    }
   ],
   "source": [
    "print(y[0], dind_to_ij[y[0]])\n",
    "plt.imshow(data[0])"
   ]
  },
  {
   "cell_type": "markdown",
   "metadata": {},
   "source": [
    "# make uniform set and quandrant set"
   ]
  },
  {
   "cell_type": "code",
   "execution_count": 8,
   "metadata": {
    "ExecuteTime": {
     "end_time": "2018-08-07T18:27:43.134128Z",
     "start_time": "2018-08-07T18:27:43.114199Z"
    }
   },
   "outputs": [],
   "source": [
    "def get_trn_val_idx(data, dtype='uniform'):\n",
    "    if dtype=='uniform':\n",
    "        trn_idx = np.random.choice(np.arange(data.shape[1]**2), size = int(data.shape[0]*.75),replace=False)\n",
    "        val_idx = np.array([idx for idx in np.arange(data.shape[0]) if idx not in trn_idx])\n",
    "    elif dtype=='quadrant':\n",
    "        trn_idx = []\n",
    "        val_idx = []\n",
    "        h = data[0].shape[0]\n",
    "        w = data[0].shape[1]\n",
    "        # first quadrant is val, rest is trn\n",
    "        for i in np.arange(data.shape[0]):\n",
    "            if data[i][:int(h/2), :int(w/2), :].sum() > 0:\n",
    "                val_idx.append(i)\n",
    "            else:\n",
    "                trn_idx.append(i)\n",
    "        trn_idx = np.array(trn_idx)\n",
    "        val_idx = np.array(val_idx)\n",
    "    else:\n",
    "        raise ValueError('dtype must be \"uniform\" or \"quadrant\"')\n",
    "    return trn_idx, val_idx"
   ]
  },
  {
   "cell_type": "code",
   "execution_count": 9,
   "metadata": {
    "ExecuteTime": {
     "end_time": "2018-08-07T18:27:43.220622Z",
     "start_time": "2018-08-07T18:27:43.135710Z"
    }
   },
   "outputs": [],
   "source": [
    "uni_idxs = get_trn_val_idx(data)\n",
    "quad_idxs = get_trn_val_idx(data, dtype='quadrant')"
   ]
  },
  {
   "cell_type": "code",
   "execution_count": 10,
   "metadata": {
    "ExecuteTime": {
     "end_time": "2018-08-07T18:27:44.024253Z",
     "start_time": "2018-08-07T18:27:43.222357Z"
    },
    "scrolled": true
   },
   "outputs": [
    {
     "data": {
      "image/png": "[encoded data removed]",
      "text/plain": [
       "<Figure size 720x720 with 4 Axes>"
      ]
     },
     "execution_count": 10,
     "metadata": {},
     "output_type": "execute_result"
    }
   ],
   "source": [
    "fig, ax = plt.subplots(2, 2, figsize=(10,10))\n",
    "fig.suptitle('Uniform on Left, Quadrant on Right')\n",
    "plt.close()\n",
    "ax[0,0].imshow(data[uni_idxs[0]].sum(axis=0))\n",
    "ax[0,0].title.set_text('Train')\n",
    "ax[1,0].imshow(data[uni_idxs[1]].sum(axis=0))\n",
    "ax[1,0].title.set_text('Test')\n",
    "ax[0,1].imshow(data[quad_idxs[0]].sum(axis=0))\n",
    "ax[0,1].title.set_text('Train')\n",
    "ax[1,1].imshow(data[quad_idxs[1]].sum(axis=0))\n",
    "ax[1,1].title.set_text('Test')\n",
    "fig"
   ]
  },
  {
   "cell_type": "markdown",
   "metadata": {},
   "source": [
    "# make model classes for fastai training"
   ]
  },
  {
   "cell_type": "code",
   "execution_count": 11,
   "metadata": {
    "ExecuteTime": {
     "end_time": "2018-08-07T18:27:45.033662Z",
     "start_time": "2018-08-07T18:27:45.004585Z"
    }
   },
   "outputs": [],
   "source": [
    "class Conv(nn.Module):\n",
    "    def __init__(self, ic, oc, ks=3, drop=0.0, bn=True, act=None):\n",
    "        super().__init__()\n",
    "        self.conv = nn.Conv2d(ic, oc, ks, padding=(ks-1)//2)\n",
    "        self.bn = nn.BatchNorm2d(oc, momentum=0.05) if bn else None\n",
    "        self.drop = nn.Dropout(drop)\n",
    "        self.act = nn.ReLU(True)\n",
    "        kaiming_normal(self.conv.weight.data)\n",
    "        \n",
    "    def forward(self, x):\n",
    "        x = self.conv(x)\n",
    "        if self.bn: x = self.bn(x)\n",
    "        if not self.act:\n",
    "            return self.drop(x)\n",
    "        else:\n",
    "            return self.drop(self.act(x))"
   ]
  },
  {
   "cell_type": "code",
   "execution_count": 12,
   "metadata": {
    "ExecuteTime": {
     "end_time": "2018-08-07T18:27:45.548700Z",
     "start_time": "2018-08-07T18:27:45.526439Z"
    }
   },
   "outputs": [],
   "source": [
    "# swap axes for pytorch as they need (bs, C, H, W)\n",
    "data = np.transpose(data,axes=(0,3,1,2))"
   ]
  },
  {
   "cell_type": "code",
   "execution_count": 13,
   "metadata": {
    "ExecuteTime": {
     "end_time": "2018-08-07T18:27:46.160338Z",
     "start_time": "2018-08-07T18:27:45.963153Z"
    }
   },
   "outputs": [],
   "source": [
    "ttype = quad_idxs\n",
    "X_train = data[ttype[0]]\n",
    "y_train = y[ttype[0]]\n",
    "X_val = data[ttype[1]]\n",
    "y_val = y[ttype[1]]"
   ]
  },
  {
   "cell_type": "code",
   "execution_count": 14,
   "metadata": {
    "ExecuteTime": {
     "end_time": "2018-08-07T18:27:46.358884Z",
     "start_time": "2018-08-07T18:27:46.331119Z"
    }
   },
   "outputs": [],
   "source": [
    "trn = tuple([X_train, y_train])\n",
    "val = tuple([X_val, y_val])\n",
    "path='data/'\n",
    "imdata = ImageClassifierData.from_arrays(path, trn, val, bs=32, classes = y, test = trn)"
   ]
  },
  {
   "cell_type": "code",
   "execution_count": 15,
   "metadata": {
    "ExecuteTime": {
     "end_time": "2018-08-07T18:27:46.833653Z",
     "start_time": "2018-08-07T18:27:46.804186Z"
    }
   },
   "outputs": [],
   "source": [
    "class AddCoords(nn.Module):\n",
    "    def __init__(self, x_dim=64, y_dim=64, with_r=False):\n",
    "            super(AddCoords, self).__init__()\n",
    "            self.x_dim = x_dim\n",
    "            self.y_dim = y_dim\n",
    "            self.with_r = with_r\n",
    "            \n",
    "    def forward(self, input_tensor):\n",
    "        batch_size = input_tensor.size()[0]\n",
    "        x_coord = torch.range(start=0,end=self.x_dim-1).unsqueeze(-1)\n",
    "        x_coord = x_coord.repeat((1,self.y_dim)).expand(batch_size,-1,-1)\n",
    "        y_coord = torch.transpose(torch.range(start=0,end=self.y_dim-1).unsqueeze(-1), 0, 1)\n",
    "        y_coord = y_coord.repeat((self.x_dim,1)).expand(batch_size,-1,-1)\n",
    "        x_channel = (x_coord/(self.x_dim-1))*2-1\n",
    "        y_channel = (y_coord/(self.y_dim-1))*2-1\n",
    "        x_channel = x_channel.unsqueeze(1)\n",
    "        y_channel = y_channel.unsqueeze(1)\n",
    "        try:\n",
    "            ret = torch.cat([input_tensor, x_channel, y_channel], dim=1)\n",
    "        except:\n",
    "            ret = torch.cat([input_tensor, x_channel.cuda(), y_channel.cuda()], dim=1)\n",
    "        return ret            "
   ]
  },
  {
   "cell_type": "code",
   "execution_count": 16,
   "metadata": {
    "ExecuteTime": {
     "end_time": "2018-08-07T18:27:47.547698Z",
     "start_time": "2018-08-07T18:27:47.388033Z"
    }
   },
   "outputs": [],
   "source": [
    "cnet = nn.Sequential(\n",
    "    AddCoords(),\n",
    "    nn.Conv2d(5, 32, kernel_size=1, padding=0),\n",
    "    nn.BatchNorm2d(32),\n",
    "    nn.ReLU(),\n",
    "\n",
    "    nn.Conv2d(32, 32, kernel_size=1, padding=0),\n",
    "    nn.BatchNorm2d(32),        \n",
    "    nn.ReLU(),\n",
    "    \n",
    "    nn.Conv2d(32, 64, kernel_size=1, padding=0),\n",
    "    nn.BatchNorm2d(64),        \n",
    "    nn.ReLU(),\n",
    "    \n",
    "    nn.Conv2d(64, 64, kernel_size=1, padding=0),\n",
    "    nn.BatchNorm2d(64),        \n",
    "    nn.ReLU(),\n",
    "    \n",
    "    nn.Conv2d(64, 1, kernel_size=1, padding=0),\n",
    "    nn.BatchNorm2d(1),        \n",
    "    nn.ReLU(),\n",
    "    \n",
    "    Flatten(),\n",
    "    nn.Linear(4096, len(y))\n",
    ")"
   ]
  },
  {
   "cell_type": "code",
   "execution_count": 17,
   "metadata": {
    "ExecuteTime": {
     "end_time": "2018-08-07T18:27:47.863930Z",
     "start_time": "2018-08-07T18:27:47.838340Z"
    }
   },
   "outputs": [],
   "source": [
    "for chld in cnet.children():\n",
    "    if isinstance(chld,nn.Conv2d):\n",
    "        kaiming_normal(chld.weight.data)"
   ]
  },
  {
   "cell_type": "code",
   "execution_count": 18,
   "metadata": {
    "ExecuteTime": {
     "end_time": "2018-08-07T18:27:48.327466Z",
     "start_time": "2018-08-07T18:27:48.302193Z"
    }
   },
   "outputs": [],
   "source": [
    "# epochs = 100\n",
    "# cnet.cuda()\n",
    "# loss = nn.CrossEntropyLoss()\n",
    "# tot_losses = []\n",
    "# optimizer = optim.SGD(cnet.parameters(), lr=0.001)\n",
    "# for i in tqdm(range(epochs)):\n",
    "#     tot_loss = 0\n",
    "#     for mb in iter(imdata.trn_dl):\n",
    "#         inputs, targets = mb\n",
    "#         preds = cnet(inputs)\n",
    "#         optimizer.zero_grad()\n",
    "#         current_loss = loss(preds, targets)\n",
    "# #         print(current_loss)\n",
    "#         tot_loss += to_np(current_loss)\n",
    "#         current_loss.backward()\n",
    "#         optimizer.step()\n",
    "#     tot_losses.append(tot_loss)"
   ]
  },
  {
   "cell_type": "code",
   "execution_count": 19,
   "metadata": {
    "ExecuteTime": {
     "end_time": "2018-08-07T18:27:48.887652Z",
     "start_time": "2018-08-07T18:27:48.860152Z"
    },
    "scrolled": true
   },
   "outputs": [],
   "source": [
    "# tot_losses"
   ]
  },
  {
   "cell_type": "code",
   "execution_count": 20,
   "metadata": {
    "ExecuteTime": {
     "end_time": "2018-08-07T18:27:51.575567Z",
     "start_time": "2018-08-07T18:27:49.351351Z"
    }
   },
   "outputs": [],
   "source": [
    "cbm = BasicModel(cnet.cuda(), name='cconvnet')\n",
    "clearn = ConvLearner(imdata, cbm)\n",
    "clearn.crit = nn.CrossEntropyLoss()\n",
    "# learn.opt_fn = optim.Adam(learn.model.parameters())\n",
    "clearn.unfreeze()\n",
    "clearn.metrics=[accuracy]"
   ]
  },
  {
   "cell_type": "code",
   "execution_count": 21,
   "metadata": {
    "ExecuteTime": {
     "end_time": "2018-08-07T18:27:54.662072Z",
     "start_time": "2018-08-07T18:27:51.577536Z"
    },
    "scrolled": true
   },
   "outputs": [
    {
     "data": {
      "application/vnd.jupyter.widget-view+json": {
       "model_id": "036669ff92704ff9be228098af1c2d6b",
       "version_major": 2,
       "version_minor": 0
      },
      "text/plain": [
       "HBox(children=(IntProgress(value=0, description='Epoch', max=1), HTML(value='')))"
      ]
     },
     "metadata": {},
     "output_type": "display_data"
    },
    {
     "name": "stdout",
     "output_type": "stream",
     "text": [
      "epoch      trn_loss   val_loss   accuracy                 \n",
      "    0      8.334787   8.455269   0.0       \n",
      "\n"
     ]
    },
    {
     "data": {
      "image/png": "[encoded data removed]",
      "text/plain": [
       "<Figure size 216x216 with 1 Axes>"
      ]
     },
     "metadata": {},
     "output_type": "display_data"
    }
   ],
   "source": [
    "start_lr = 1e-7\n",
    "wds = 1e-5\n",
    "clearn.lr_find(start_lr = start_lr, wds = wds)\n",
    "clearn.sched.plot(n_skip=0)"
   ]
  },
  {
   "cell_type": "code",
   "execution_count": 27,
   "metadata": {
    "ExecuteTime": {
     "end_time": "2018-08-07T18:29:43.532888Z",
     "start_time": "2018-08-07T18:28:56.926799Z"
    }
   },
   "outputs": [
    {
     "data": {
      "application/vnd.jupyter.widget-view+json": {
       "model_id": "b08157e1badd4c8c8272efb9c5eee5fa",
       "version_major": 2,
       "version_minor": 0
      },
      "text/plain": [
       "HBox(children=(IntProgress(value=0, description='Epoch', max=24), HTML(value='')))"
      ]
     },
     "metadata": {},
     "output_type": "display_data"
    },
    {
     "name": "stdout",
     "output_type": "stream",
     "text": [
      "epoch      trn_loss   val_loss   accuracy                 \n",
      "    0      8.261424   9.319408   0.0       \n",
      "    1      8.216399   9.470264   0.0                      \n",
      "    2      8.144118   9.509211   0.0                      \n",
      "    3      8.263047   9.449538   0.0                      \n",
      "    4      8.198619   9.574042   0.0                      \n",
      " 24%|██▍       | 23/96 [00:00<00:01, 48.15it/s, loss=8.15]"
     ]
    },
    {
     "name": "stderr",
     "output_type": "stream",
     "text": [
      "/home/justin/anaconda3/envs/fastai/lib/python3.6/site-packages/tqdm/_monitor.py:89: TqdmSynchronisationWarning: Set changed size during iteration (see https://github.com/tqdm/tqdm/issues/481)\n",
      "  TqdmSynchronisationWarning)\n"
     ]
    },
    {
     "name": "stdout",
     "output_type": "stream",
     "text": [
      "    5      8.118946   9.640501   0.0                      \n",
      "    6      8.217378   9.13097    0.0                      \n",
      "    7      8.10191    9.440589   0.0                      \n",
      "    8      7.941479   9.555786   0.0                      \n",
      "    9      7.865352   9.464386   0.0                      \n",
      "    10     6.850172   9.964334   0.0                      \n",
      "    11     5.771236   10.081162  0.0                      \n",
      "    12     4.836462   10.613794  0.0                      \n",
      "    13     2.253037   10.744596  0.0                      \n",
      "    14     0.766658   10.765628  0.0                       \n",
      "    15     0.304136   10.486523  0.0                       \n",
      "    16     0.053481   10.564304  0.0                        \n",
      "    17     0.015535   10.564575  0.0                        \n",
      "    18     0.009119   10.583836  0.0                         \n",
      "    19     0.00679    10.592126  0.0                         \n",
      "    20     0.00587    10.602457  0.0                         \n",
      "    21     0.005423   10.622782  0.0                         \n",
      "    22     0.004706   10.626832  0.0                         \n",
      "    23     0.004346   10.632948  0.0                         \n",
      "\n"
     ]
    },
    {
     "data": {
      "text/plain": [
       "[10.632947862148285, 0.0]"
      ]
     },
     "execution_count": 27,
     "metadata": {},
     "output_type": "execute_result"
    }
   ],
   "source": [
    "wds = 1e-5\n",
    "lr = 1e-3\n",
    "clearn.fit(lr, 8, wds=wds, cycle_len=3 )#use_clr=(32,10)\n",
    "# learn.fit(lr, 2, wds=wds, cycle_len=10, )"
   ]
  },
  {
   "cell_type": "code",
   "execution_count": 28,
   "metadata": {
    "ExecuteTime": {
     "end_time": "2018-08-07T18:29:43.803070Z",
     "start_time": "2018-08-07T18:29:43.535373Z"
    }
   },
   "outputs": [
    {
     "name": "stdout",
     "output_type": "stream",
     "text": [
      "model predicted (56, 38)\n",
      "actual coords are (56, 38)\n"
     ]
    },
    {
     "data": {
      "image/png": "[encoded data removed]",
      "text/plain": [
       "<Figure size 720x360 with 2 Axes>"
      ]
     },
     "metadata": {},
     "output_type": "display_data"
    }
   ],
   "source": [
    "# dataset, ys = X_val, y_val\n",
    "dataset, ys = X_train, y_train\n",
    "idx = list(np.random.choice(range(len(dataset)), 10))\n",
    "preds = get_preds(dataset, idx, clearn, scale=True)\n",
    "chsn = check_pred_vs_actual(ys, dataset, idx, preds)"
   ]
  },
  {
   "cell_type": "markdown",
   "metadata": {
    "heading_collapsed": true
   },
   "source": [
    "# regular conv"
   ]
  },
  {
   "cell_type": "code",
   "execution_count": 14,
   "metadata": {
    "ExecuteTime": {
     "end_time": "2018-07-26T05:18:16.225345Z",
     "start_time": "2018-07-26T05:18:16.176799Z"
    },
    "hidden": true
   },
   "outputs": [],
   "source": [
    "net = nn.Sequential(\n",
    "    Conv(3, 64),\n",
    "    Conv(64, 64, drop=.1),\n",
    "    Conv(64, 64, drop=.05),\n",
    "    nn.MaxPool2d(2),\n",
    "#     Conv(128, 128),\n",
    "    Conv(64, 64, drop=.05),\n",
    "    nn.MaxPool2d(2),\n",
    "#     Conv(64, 64, ks=1),\n",
    "#     Conv(128, 64, ks=1),\n",
    "    nn.MaxPool2d(2),\n",
    "    Flatten(),\n",
    "    nn.Linear(1024, len(y))\n",
    ")"
   ]
  },
  {
   "cell_type": "code",
   "execution_count": 15,
   "metadata": {
    "ExecuteTime": {
     "end_time": "2018-07-26T05:17:06.625562Z",
     "start_time": "2018-07-26T05:17:04.519540Z"
    },
    "hidden": true
   },
   "outputs": [],
   "source": [
    "bm = BasicModel(net.cuda(), name='convnet')\n",
    "learn = ConvLearner(imdata, bm)\n",
    "learn.crit = nn.CrossEntropyLoss()\n",
    "# learn.opt_fn = optim.Adam(learn.model.parameters())\n",
    "learn.unfreeze()\n",
    "learn.metrics=[accuracy]"
   ]
  },
  {
   "cell_type": "code",
   "execution_count": 55,
   "metadata": {
    "ExecuteTime": {
     "end_time": "2018-07-25T19:31:29.013962Z",
     "start_time": "2018-07-25T19:31:25.589214Z"
    },
    "hidden": true,
    "scrolled": true
   },
   "outputs": [
    {
     "data": {
      "application/vnd.jupyter.widget-view+json": {
       "model_id": "2b23cb094d4345c1b30b0f45b1da232b",
       "version_major": 2,
       "version_minor": 0
      },
      "text/plain": [
       "HBox(children=(IntProgress(value=0, description='Epoch', max=1), HTML(value='')))"
      ]
     },
     "metadata": {},
     "output_type": "display_data"
    },
    {
     "name": "stdout",
     "output_type": "stream",
     "text": [
      "epoch      trn_loss   val_loss   accuracy                    \n",
      "    0      8.707044   10.149744  0.0       \n",
      "\n"
     ]
    },
    {
     "data": {
      "image/png": "[encoded data removed]",
      "text/plain": [
       "<Figure size 216x216 with 1 Axes>"
      ]
     },
     "metadata": {},
     "output_type": "display_data"
    }
   ],
   "source": [
    "start_lr = 1e-7\n",
    "wds = 1e-5\n",
    "learn.lr_find(start_lr = start_lr, wds = wds)\n",
    "learn.sched.plot(n_skip=0)"
   ]
  },
  {
   "cell_type": "code",
   "execution_count": 56,
   "metadata": {
    "ExecuteTime": {
     "end_time": "2018-07-25T19:32:53.313822Z",
     "start_time": "2018-07-25T19:31:31.128348Z"
    },
    "hidden": true,
    "scrolled": true
   },
   "outputs": [
    {
     "data": {
      "application/vnd.jupyter.widget-view+json": {
       "model_id": "8b27da34f5da43dcb18e86e1b4049479",
       "version_major": 2,
       "version_minor": 0
      },
      "text/plain": [
       "HBox(children=(IntProgress(value=0, description='Epoch', max=25), HTML(value='')))"
      ]
     },
     "metadata": {},
     "output_type": "display_data"
    },
    {
     "name": "stdout",
     "output_type": "stream",
     "text": [
      "epoch      trn_loss   val_loss   accuracy                    \n",
      "    0      8.331408   8.324324   0.0       \n",
      "    1      8.173329   8.40664    0.0                         \n",
      "    2      6.982401   8.614412   0.0                         \n",
      "  3%|▎         | 13/384 [00:00<00:04, 85.34it/s, loss=6.16] "
     ]
    },
    {
     "name": "stderr",
     "output_type": "stream",
     "text": [
      "/home/justin/anaconda3/envs/fastai/lib/python3.6/site-packages/tqdm/_monitor.py:89: TqdmSynchronisationWarning: Set changed size during iteration (see https://github.com/tqdm/tqdm/issues/481)\n",
      "  TqdmSynchronisationWarning)\n"
     ]
    },
    {
     "name": "stdout",
     "output_type": "stream",
     "text": [
      "    3      4.958818   9.297387   0.0                         \n",
      "    4      3.158472   10.27405   0.0                         \n",
      "    5      6.048515   8.725919   0.000977                    \n",
      "    6      4.141955   9.219611   0.0                         \n",
      "    7      2.362541   10.566793  0.0                         \n",
      "    8      0.819157   13.144396  0.0                          \n",
      "    9      0.244428   14.042649  0.0                          \n",
      "    10     2.85182    9.49828    0.0                         \n",
      "    11     1.814062   10.570581  0.0                         \n",
      "    12     0.669473   12.754532  0.0                          \n",
      "    13     0.187498   14.216559  0.0                          \n",
      "    14     0.09348    14.357657  0.0                           \n",
      "    15     0.93871    11.567408  0.0                          \n",
      "    16     0.81594    11.989625  0.0                          \n",
      "    17     0.329176   13.171421  0.0                          \n",
      "    18     0.104832   14.280336  0.0                           \n",
      "    19     0.050446   14.427551  0.0                           \n",
      "    20     0.479571   12.411617  0.0                          \n",
      "    21     0.407656   12.976174  0.0                          \n",
      "    22     0.167566   13.883878  0.0                          \n",
      "    23     0.057402   14.776047  0.0                           \n",
      "    24     0.036207   14.819225  0.0                           \n",
      "\n"
     ]
    },
    {
     "data": {
      "text/plain": [
       "[14.819224767386913, 0.0]"
      ]
     },
     "execution_count": 56,
     "metadata": {},
     "output_type": "execute_result"
    }
   ],
   "source": [
    "lr = 1e-2\n",
    "learn.fit(lr, 5, wds=wds, cycle_len=5, )#use_clr=(32,10)\n",
    "# learn.fit(lr, 2, wds=wds, cycle_len=10, )"
   ]
  },
  {
   "cell_type": "code",
   "execution_count": 60,
   "metadata": {
    "ExecuteTime": {
     "end_time": "2018-07-25T19:37:08.907839Z",
     "start_time": "2018-07-25T19:37:08.636123Z"
    },
    "hidden": true
   },
   "outputs": [
    {
     "name": "stdout",
     "output_type": "stream",
     "text": [
      "model predicted (32, 3)\n",
      "actual coords are (31, 3)\n"
     ]
    },
    {
     "data": {
      "image/png": "[encoded data removed]",
      "text/plain": [
       "<Figure size 720x360 with 2 Axes>"
      ]
     },
     "metadata": {},
     "output_type": "display_data"
    }
   ],
   "source": [
    "dataset, ys = X_val, y_val\n",
    "# dataset, ys = X_train, y_train\n",
    "idx = list(np.random.choice(range(len(dataset)), 10))\n",
    "preds = get_preds(dataset, idx, learn, scale=True)\n",
    "chsn = check_pred_vs_actual(ys, dataset, idx, preds)"
   ]
  },
  {
   "cell_type": "markdown",
   "metadata": {},
   "source": [
    "# CoordConv"
   ]
  },
  {
   "cell_type": "markdown",
   "metadata": {},
   "source": [
    "## making the adding of channels happen in an actual layer"
   ]
  },
  {
   "cell_type": "code",
   "execution_count": 17,
   "metadata": {
    "ExecuteTime": {
     "end_time": "2018-07-26T05:18:43.952571Z",
     "start_time": "2018-07-26T05:18:43.922200Z"
    }
   },
   "outputs": [],
   "source": [
    "class AddCoords(nn.Module):\n",
    "    def __init__(self, x_dim=64, y_dim=64, with_r=False):\n",
    "            super(AddCoords, self).__init__()\n",
    "            self.x_dim = x_dim\n",
    "            self.y_dim = y_dim\n",
    "            self.with_r = with_r\n",
    "            \n",
    "    def forward(self, input_tensor):\n",
    "        batch_size = input_tensor.size()[0]\n",
    "        x_coord = torch.range(start=0,end=self.x_dim-1).unsqueeze(-1)\n",
    "        x_coord = x_coord.repeat((1,self.y_dim)).expand(batch_size,-1,-1)\n",
    "        y_coord = torch.transpose(torch.range(start=0,end=self.y_dim-1).unsqueeze(-1), 0, 1)\n",
    "        y_coord = y_coord.repeat((self.x_dim,1)).expand(batch_size,-1,-1)\n",
    "        x_channel = (x_coord/(self.x_dim-1))*2-1\n",
    "        y_channel = (y_coord/(self.y_dim-1))*2-1\n",
    "        x_channel = x_channel.unsqueeze(1)\n",
    "        y_channel = y_channel.unsqueeze(1)\n",
    "        try:\n",
    "            ret = torch.cat([input_tensor, x_channel, y_channel], dim=1)\n",
    "        except:\n",
    "            ret = torch.cat([input_tensor, x_channel.cuda(), y_channel.cuda()], dim=1)\n",
    "        return ret\n",
    "    \n",
    "class CoordConv(nn.Module):\n",
    "    def __init__(self, ic, oc, ks=3, drop=0.0, bn=True, act=None):\n",
    "        super().__init__()\n",
    "        self.addcoords = AddCoords()\n",
    "        self.conv = nn.Conv2d(ic, oc, ks, padding=(ks-1)//2)\n",
    "        self.bn = nn.BatchNorm2d(oc, momentum=0.05) if bn else None\n",
    "        self.drop = nn.Dropout(drop)\n",
    "        self.act = nn.ReLU(True)\n",
    "        kaiming_normal(self.conv.weight.data)\n",
    "        \n",
    "    def forward(self, x):\n",
    "        x = self.addcoords(x)\n",
    "        x = self.conv(x)\n",
    "        if self.bn: x = self.bn(x)\n",
    "        if not self.act:\n",
    "            return self.drop(x)\n",
    "        else:\n",
    "            return self.drop(self.act(x))   "
   ]
  },
  {
   "cell_type": "code",
   "execution_count": 76,
   "metadata": {
    "ExecuteTime": {
     "end_time": "2018-07-27T21:15:03.154367Z",
     "start_time": "2018-07-27T21:15:02.884513Z"
    }
   },
   "outputs": [],
   "source": [
    "cnet = nn.Sequential(\n",
    "    AddCoords(),\n",
    "    nn.Conv2d(5,32,3, padding=1),\n",
    "    nn.ReLU(),\n",
    "    nn.BatchNorm2d(32),\n",
    "    nn.Conv2d(32,64,3, padding=1),\n",
    "    nn.ReLU(),\n",
    "    nn.BatchNorm2d(64),\n",
    "    nn.Conv2d(64,4,3, padding=1),\n",
    "    nn.ReLU(),\n",
    "    nn.BatchNorm2d(4),\n",
    "    nn.Conv2d(4,2,1, padding=0),\n",
    "    nn.ReLU(),\n",
    "    nn.BatchNorm2d(2),\n",
    "    Flatten(),\n",
    "    nn.Linear(8192, len(y))\n",
    ")"
   ]
  },
  {
   "cell_type": "code",
   "execution_count": 72,
   "metadata": {
    "ExecuteTime": {
     "end_time": "2018-07-26T07:09:32.597634Z",
     "start_time": "2018-07-26T07:09:32.551724Z"
    }
   },
   "outputs": [],
   "source": [
    "cbm = BasicModel(cnet.cuda(), name='cconvnet')\n",
    "clearn = ConvLearner(imdata, cbm)\n",
    "clearn.crit = nn.CrossEntropyLoss()\n",
    "# learn.opt_fn = optim.Adam(learn.model.parameters())\n",
    "clearn.unfreeze()\n",
    "clearn.metrics=[accuracy]"
   ]
  },
  {
   "cell_type": "code",
   "execution_count": 73,
   "metadata": {
    "ExecuteTime": {
     "end_time": "2018-07-26T07:09:39.698997Z",
     "start_time": "2018-07-26T07:09:35.668552Z"
    }
   },
   "outputs": [
    {
     "data": {
      "application/vnd.jupyter.widget-view+json": {
       "model_id": "c7dd18bc9e0048f8b475072687a91e27",
       "version_major": 2,
       "version_minor": 0
      },
      "text/plain": [
       "HBox(children=(IntProgress(value=0, description='Epoch', max=1), HTML(value='')))"
      ]
     },
     "metadata": {},
     "output_type": "display_data"
    },
    {
     "name": "stdout",
     "output_type": "stream",
     "text": [
      " 27%|██▋       | 103/384 [00:01<00:03, 79.57it/s, loss=8.32]"
     ]
    },
    {
     "name": "stderr",
     "output_type": "stream",
     "text": [
      "/home/justin/anaconda3/envs/fastai/lib/python3.6/site-packages/tqdm/_monitor.py:89: TqdmSynchronisationWarning: Set changed size during iteration (see https://github.com/tqdm/tqdm/issues/481)\n",
      "  TqdmSynchronisationWarning)\n"
     ]
    },
    {
     "name": "stdout",
     "output_type": "stream",
     "text": [
      "                                                            \r"
     ]
    },
    {
     "data": {
      "image/png": "[encoded data removed]",
      "text/plain": [
       "<Figure size 216x216 with 1 Axes>"
      ]
     },
     "metadata": {},
     "output_type": "display_data"
    }
   ],
   "source": [
    "start_lr = 1e-7\n",
    "wds = 1e-5\n",
    "clearn.lr_find(start_lr = start_lr, wds = wds)\n",
    "clearn.sched.plot(n_skip=0)"
   ]
  },
  {
   "cell_type": "code",
   "execution_count": 75,
   "metadata": {
    "ExecuteTime": {
     "end_time": "2018-07-26T07:12:08.056447Z",
     "start_time": "2018-07-26T07:09:51.962513Z"
    }
   },
   "outputs": [
    {
     "data": {
      "application/vnd.jupyter.widget-view+json": {
       "model_id": "76013b90f9634200ba84870722512968",
       "version_major": 2,
       "version_minor": 0
      },
      "text/plain": [
       "HBox(children=(IntProgress(value=0, description='Epoch', max=25), HTML(value='')))"
      ]
     },
     "metadata": {},
     "output_type": "display_data"
    },
    {
     "name": "stdout",
     "output_type": "stream",
     "text": [
      "                                                            \r"
     ]
    },
    {
     "name": "stderr",
     "output_type": "stream",
     "text": [
      "/home/justin/anaconda3/envs/fastai/lib/python3.6/site-packages/tqdm/_monitor.py:89: TqdmSynchronisationWarning: Set changed size during iteration (see https://github.com/tqdm/tqdm/issues/481)\n",
      "  TqdmSynchronisationWarning)\n"
     ]
    },
    {
     "name": "stdout",
     "output_type": "stream",
     "text": [
      "epoch      trn_loss   val_loss   accuracy   \n",
      "    0      8.326593   8.327491   0.0       \n",
      "    1      8.348373   8.367668   0.0                        \n",
      "    2      8.335207   8.375347   0.0                        \n",
      "    3      8.32544    8.349344   0.0                        \n",
      "    4      8.310258   8.343943   0.0                        \n",
      "    5      8.360151   8.539106   0.0                        \n",
      "    6      8.403439   8.486798   0.0                        \n",
      "    7      8.354891   8.451192   0.0                        \n",
      "    8      8.321377   8.370584   0.0                        \n",
      "    9      8.297553   8.38274    0.0                        \n",
      "    10     8.383646   8.392712   0.0                        \n",
      "    11     8.392326   8.628762   0.0                        \n",
      "    12     8.3949     8.385317   0.0                        \n",
      "    13     8.336523   8.390004   0.0                        \n",
      "    14     8.297467   8.385499   0.0                        \n",
      "    15     8.420815   8.461858   0.0                        \n",
      "    16     8.417307   8.407989   0.0                        \n",
      "    17     8.344217   8.421119   0.0                        \n",
      "    18     8.309111   8.440424   0.0                        \n",
      "    19     8.293228   8.400422   0.0                        \n",
      "    20     8.390749   8.440769   0.0                        \n",
      "    21     8.35161    8.53768    0.0                        \n",
      "    22     8.33802    8.57999    0.0                        \n",
      "    23     8.312882   8.440309   0.0                        \n",
      "    24     8.28718    8.421967   0.0                        \n"
     ]
    },
    {
     "data": {
      "text/plain": [
       "[8.421966888010502, 0.0]"
      ]
     },
     "execution_count": 75,
     "metadata": {},
     "output_type": "execute_result"
    }
   ],
   "source": [
    "lr = 1e-2\n",
    "clearn.fit(lr, 5, wds=wds, cycle_len=5, )#use_clr=(32,10)\n",
    "# learn.fit(lr, 2, wds=wds, cycle_len=10, )"
   ]
  },
  {
   "cell_type": "code",
   "execution_count": 44,
   "metadata": {
    "ExecuteTime": {
     "end_time": "2018-07-26T05:29:21.396889Z",
     "start_time": "2018-07-26T05:29:21.133283Z"
    }
   },
   "outputs": [
    {
     "name": "stdout",
     "output_type": "stream",
     "text": [
      "model predicted (30, 53)\n",
      "actual coords are (5, 19)\n"
     ]
    },
    {
     "data": {
      "image/png": "[encoded data removed]",
      "text/plain": [
       "<Figure size 720x360 with 2 Axes>"
      ]
     },
     "metadata": {},
     "output_type": "display_data"
    }
   ],
   "source": [
    "dataset, ys = X_val, y_val\n",
    "# dataset, ys = X_train, y_train\n",
    "idx = list(np.random.choice(range(len(dataset)), 10))\n",
    "preds = get_preds(dataset, idx, clearn, scale=True)\n",
    "chsn = check_pred_vs_actual(ys, dataset, idx, preds)"
   ]
  },
  {
   "cell_type": "markdown",
   "metadata": {
    "heading_collapsed": true
   },
   "source": [
    "## just concating two channels two data"
   ]
  },
  {
   "cell_type": "code",
   "execution_count": 81,
   "metadata": {
    "ExecuteTime": {
     "end_time": "2018-07-22T22:53:21.267576Z",
     "start_time": "2018-07-22T22:53:20.468958Z"
    },
    "hidden": true
   },
   "outputs": [
    {
     "name": "stdout",
     "output_type": "stream",
     "text": [
      "(4096, 5, 64, 64)\n"
     ]
    }
   ],
   "source": [
    "ichan = np.array([[i]*64 for i in range(64)])\n",
    "# ichan = np.array([[i/64]*64 for i in range(64)])\n",
    "# ichan = ichan/ichan.sum()\n",
    "# ichan = np.array([[1]*64 for i in range(64)])\n",
    "# !!! paper does linear scaling to values being between [-1, 1]. All my commented stuff above didn't work so maybe linear scaling is the key\n",
    "ichan = (ichan - ichan.mean())/ichan.mean()\n",
    "jchan = ichan.T\n",
    "ichan = ichan.reshape(-1,1,64,64)\n",
    "jchan = jchan.reshape(-1,1,64,64)\n",
    "ichan = np.tile(ichan,(4096,1,1,1))\n",
    "jchan = np.tile(jchan,(4096,1,1,1))\n",
    "ccdata = np.append(data, ichan, axis=1)\n",
    "ccdata = np.append(ccdata, jchan, axis=1)\n",
    "print(ccdata.shape)"
   ]
  },
  {
   "cell_type": "code",
   "execution_count": 88,
   "metadata": {
    "ExecuteTime": {
     "end_time": "2018-07-22T22:54:45.099854Z",
     "start_time": "2018-07-22T22:54:44.809040Z"
    },
    "hidden": true
   },
   "outputs": [],
   "source": [
    "ttype = uni_idxs\n",
    "cX_train = ccdata[ttype[0]]\n",
    "cy_train = y[ttype[0]]\n",
    "cX_val = ccdata[ttype[1]]\n",
    "cy_val = y[ttype[1]]"
   ]
  },
  {
   "cell_type": "code",
   "execution_count": 89,
   "metadata": {
    "ExecuteTime": {
     "end_time": "2018-07-22T22:54:45.119876Z",
     "start_time": "2018-07-22T22:54:45.101963Z"
    },
    "hidden": true
   },
   "outputs": [],
   "source": [
    "ctrn = tuple([cX_train, cy_train])\n",
    "cval = tuple([cX_val, cy_val])\n",
    "path='data/'\n",
    "cimdata = ImageClassifierData.from_arrays(path, ctrn, cval, bs=8, classes = y, test = ctrn)"
   ]
  },
  {
   "cell_type": "code",
   "execution_count": 90,
   "metadata": {
    "ExecuteTime": {
     "end_time": "2018-07-22T22:54:45.474867Z",
     "start_time": "2018-07-22T22:54:45.416864Z"
    },
    "hidden": true
   },
   "outputs": [
    {
     "name": "stderr",
     "output_type": "stream",
     "text": [
      "/home/justin/anaconda3/envs/fastai/lib/python3.6/site-packages/tqdm/_monitor.py:89: TqdmSynchronisationWarning: Set changed size during iteration (see https://github.com/tqdm/tqdm/issues/481)\n",
      "  TqdmSynchronisationWarning)\n"
     ]
    }
   ],
   "source": [
    "# cnet = nn.Sequential(\n",
    "#     CoordConvTh(x_dim=64, y_dim=64,in_channels=5, out_channels=64, kernel_size=3,with_r =False),\n",
    "#     Conv(64, 128,),\n",
    "#     Conv(128, 128),\n",
    "#     nn.MaxPool2d(2),\n",
    "#     Conv(128, 128),\n",
    "#     Conv(128, 128),\n",
    "#     nn.MaxPool2d(2),\n",
    "#     Conv(128, 128),\n",
    "#     Conv(128, 128),\n",
    "#     nn.MaxPool2d(2),\n",
    "#     Conv(128, 128, ks=1),\n",
    "#     Conv(128, 128, ks=1),\n",
    "#     nn.MaxPool2d(2),\n",
    "#     Flatten(),\n",
    "#     nn.Linear(1152, len(y))\n",
    "# )\n",
    "cnet = nn.Sequential(\n",
    "    Conv(5, 64),\n",
    "    Conv(64, 64),\n",
    "#     Conv(64, 64),\n",
    "    nn.MaxPool2d(2),\n",
    "    Conv(64, 64),\n",
    "    nn.MaxPool2d(2),\n",
    "#     Conv(128, 128),\n",
    "    Conv(64, 64),\n",
    "    nn.MaxPool2d(2),\n",
    "#     Conv(64, 64, ks=1),\n",
    "#     Conv(128, 64, ks=1),\n",
    "    nn.MaxPool2d(2),\n",
    "    Flatten(),\n",
    "    nn.Linear(1024, len(y))\n",
    ")"
   ]
  },
  {
   "cell_type": "markdown",
   "metadata": {
    "heading_collapsed": true
   },
   "source": [
    "# manual train version, not using fastai learn"
   ]
  },
  {
   "cell_type": "code",
   "execution_count": 77,
   "metadata": {
    "ExecuteTime": {
     "end_time": "2018-07-27T21:20:05.676441Z",
     "start_time": "2018-07-27T21:15:09.575508Z"
    },
    "hidden": true,
    "scrolled": true
   },
   "outputs": [
    {
     "name": "stdout",
     "output_type": "stream",
     "text": [
      "\r",
      "  0%|          | 0/100 [00:00<?, ?it/s]"
     ]
    },
    {
     "name": "stderr",
     "output_type": "stream",
     "text": [
      "/home/justin/anaconda3/envs/fastai/lib/python3.6/site-packages/tqdm/_monitor.py:89: TqdmSynchronisationWarning: Set changed size during iteration (see https://github.com/tqdm/tqdm/issues/481)\n",
      "  TqdmSynchronisationWarning)\n"
     ]
    },
    {
     "name": "stdout",
     "output_type": "stream",
     "text": [
      "100%|██████████| 100/100 [04:56<00:00,  2.96s/it]\n"
     ]
    }
   ],
   "source": [
    "epochs = 100\n",
    "cnet.cuda()\n",
    "loss = nn.CrossEntropyLoss()\n",
    "tot_losses = []\n",
    "optimizer = optim.SGD(cnet.parameters(), lr=0.01)\n",
    "for i in tqdm(range(epochs)):\n",
    "    tot_loss = 0\n",
    "    for mb in iter(imdata.trn_dl):\n",
    "        inputs, targets = mb\n",
    "        preds = cnet(inputs)\n",
    "        optimizer.zero_grad()\n",
    "        current_loss = loss(preds, targets)\n",
    "#         print(current_loss)\n",
    "        tot_loss += to_np(current_loss)\n",
    "        current_loss.backward()\n",
    "        optimizer.step()\n",
    "    tot_losses.append(tot_loss)"
   ]
  },
  {
   "cell_type": "code",
   "execution_count": 78,
   "metadata": {
    "ExecuteTime": {
     "end_time": "2018-07-27T21:20:05.698748Z",
     "start_time": "2018-07-27T21:20:05.678543Z"
    },
    "hidden": true,
    "scrolled": true
   },
   "outputs": [
    {
     "data": {
      "text/plain": [
       "[3194.591185569763,\n",
       " 3194.2317209243774,\n",
       " 3194.254101753235,\n",
       " 3193.858090400696,\n",
       " 3193.48561668396,\n",
       " 3193.709979057312,\n",
       " 3193.05530834198,\n",
       " 3192.63148021698,\n",
       " 3191.1970071792603,\n",
       " 3188.612668991089,\n",
       " 3186.4704265594482,\n",
       " 3183.708444595337,\n",
       " 3180.0879430770874,\n",
       " 3176.709038734436,\n",
       " 3173.206708908081,\n",
       " 3169.832341194153,\n",
       " 3166.7717666625977,\n",
       " 3163.8229007720947,\n",
       " 3161.1887702941895,\n",
       " 3158.6182222366333,\n",
       " 3156.61571598053,\n",
       " 3154.598550796509,\n",
       " 3152.872685432434,\n",
       " 3150.9936838150024,\n",
       " 3149.335696220398,\n",
       " 3148.0233640670776,\n",
       " 3146.7245473861694,\n",
       " 3145.343321800232,\n",
       " 3143.9438304901123,\n",
       " 3143.028172492981,\n",
       " 3142.017604827881,\n",
       " 3141.0318126678467,\n",
       " 3139.953450202942,\n",
       " 3138.963936805725,\n",
       " 3138.4289331436157,\n",
       " 3137.494222640991,\n",
       " 3136.5351028442383,\n",
       " 3135.8701553344727,\n",
       " 3124.998035430908,\n",
       " 2656.6076040267944,\n",
       " 216.02396273612976,\n",
       " 5.757376134395599,\n",
       " 0.3584163188934326,\n",
       " 0.17906033992767334,\n",
       " 0.15114235877990723,\n",
       " 0.13157641887664795,\n",
       " 0.11962676048278809,\n",
       " 0.10877716541290283,\n",
       " 0.10025238990783691,\n",
       " 0.09200060367584229,\n",
       " 0.08652305603027344,\n",
       " 0.08051919937133789,\n",
       " 0.07718980312347412,\n",
       " 0.07188630104064941,\n",
       " 0.06901192665100098,\n",
       " 0.0654137134552002,\n",
       " 0.06312072277069092,\n",
       " 0.05930161476135254,\n",
       " 0.05746054649353027,\n",
       " 0.05585300922393799,\n",
       " 0.05337226390838623,\n",
       " 0.05127525329589844,\n",
       " 0.049243927001953125,\n",
       " 0.047393083572387695,\n",
       " 0.04670834541320801,\n",
       " 0.04485201835632324,\n",
       " 0.04390406608581543,\n",
       " 0.04250907897949219,\n",
       " 0.04096031188964844,\n",
       " 0.040189266204833984,\n",
       " 0.03914499282836914,\n",
       " 0.038253068923950195,\n",
       " 0.0368955135345459,\n",
       " 0.03634023666381836,\n",
       " 0.03541851043701172,\n",
       " 0.03469729423522949,\n",
       " 0.03361654281616211,\n",
       " 0.03287935256958008,\n",
       " 0.03227090835571289,\n",
       " 0.031670570373535156,\n",
       " 0.031037092208862305,\n",
       " 0.03032708168029785,\n",
       " 0.02988576889038086,\n",
       " 0.02945876121520996,\n",
       " 0.028607606887817383,\n",
       " 0.02829742431640625,\n",
       " 0.027767419815063477,\n",
       " 0.027003765106201172,\n",
       " 0.02677130699157715,\n",
       " 0.02632427215576172,\n",
       " 0.025717735290527344,\n",
       " 0.02550649642944336,\n",
       " 0.02491927146911621,\n",
       " 0.024565458297729492,\n",
       " 0.024329423904418945,\n",
       " 0.024137258529663086,\n",
       " 0.02350306510925293,\n",
       " 0.023113012313842773,\n",
       " 0.022759199142456055,\n",
       " 0.022487163543701172]"
      ]
     },
     "execution_count": 78,
     "metadata": {},
     "output_type": "execute_result"
    },
    {
     "name": "stderr",
     "output_type": "stream",
     "text": [
      "/home/justin/anaconda3/envs/fastai/lib/python3.6/site-packages/tqdm/_monitor.py:89: TqdmSynchronisationWarning: Set changed size during iteration (see https://github.com/tqdm/tqdm/issues/481)\n",
      "  TqdmSynchronisationWarning)\n"
     ]
    }
   ],
   "source": [
    "tot_losses"
   ]
  },
  {
   "cell_type": "markdown",
   "metadata": {
    "heading_collapsed": true
   },
   "source": [
    "# fastai train"
   ]
  },
  {
   "cell_type": "code",
   "execution_count": 91,
   "metadata": {
    "ExecuteTime": {
     "end_time": "2018-07-22T22:54:48.045754Z",
     "start_time": "2018-07-22T22:54:48.016204Z"
    },
    "hidden": true
   },
   "outputs": [],
   "source": [
    "# bm = BasicModel(cnet.cuda(), name='cconvnet')\n",
    "# learn = ConvLearner(cimdata, bm)\n",
    "# learn.crit = nn.CrossEntropyLoss()\n",
    "# # learn.opt_fn = optim.Adam\n",
    "# learn.unfreeze()\n",
    "# learn.metrics=[accuracy]\n",
    "# lr = 1e-3\n",
    "# wds = 1e-5\n",
    "cbm = BasicModel(cnet.cuda(), name='cconvnet')\n",
    "clearn = ConvLearner(cimdata, cbm)\n",
    "clearn.crit = nn.CrossEntropyLoss()\n",
    "# learn.opt_fn = optim.Adam(learn.model.parameters())\n",
    "clearn.unfreeze()\n",
    "clearn.metrics=[accuracy]"
   ]
  },
  {
   "cell_type": "code",
   "execution_count": 92,
   "metadata": {
    "ExecuteTime": {
     "end_time": "2018-07-22T22:54:51.441733Z",
     "start_time": "2018-07-22T22:54:48.370495Z"
    },
    "hidden": true
   },
   "outputs": [
    {
     "data": {
      "application/vnd.jupyter.widget-view+json": {
       "model_id": "67e2b5492dec43658aeb01c777abaaee",
       "version_major": 2,
       "version_minor": 0
      },
      "text/plain": [
       "HBox(children=(IntProgress(value=0, description='Epoch', max=1), HTML(value='')))"
      ]
     },
     "metadata": {},
     "output_type": "display_data"
    },
    {
     "name": "stdout",
     "output_type": "stream",
     "text": [
      "                                                             \r"
     ]
    },
    {
     "data": {
      "image/png": "[encoded data removed]",
      "text/plain": [
       "<Figure size 216x216 with 1 Axes>"
      ]
     },
     "metadata": {},
     "output_type": "display_data"
    }
   ],
   "source": [
    "start_lr = 1e-7\n",
    "wds = 1e-3\n",
    "clearn.lr_find(start_lr = start_lr, wds = wds)\n",
    "clearn.sched.plot(n_skip=0)"
   ]
  },
  {
   "cell_type": "code",
   "execution_count": 93,
   "metadata": {
    "ExecuteTime": {
     "end_time": "2018-07-22T22:56:10.713806Z",
     "start_time": "2018-07-22T22:54:51.446297Z"
    },
    "hidden": true,
    "scrolled": true
   },
   "outputs": [
    {
     "data": {
      "application/vnd.jupyter.widget-view+json": {
       "model_id": "a92486bc752d4167842980ef378a0c1c",
       "version_major": 2,
       "version_minor": 0
      },
      "text/plain": [
       "HBox(children=(IntProgress(value=0, description='Epoch', max=25), HTML(value='')))"
      ]
     },
     "metadata": {},
     "output_type": "display_data"
    },
    {
     "name": "stdout",
     "output_type": "stream",
     "text": [
      "epoch      trn_loss   val_loss   accuracy                    \n",
      "    0      8.529655   8.545803   0.0       \n",
      " 65%|██████▌   | 251/384 [00:01<00:01, 130.81it/s, loss=8.41]"
     ]
    },
    {
     "name": "stderr",
     "output_type": "stream",
     "text": [
      "/home/justin/anaconda3/envs/fastai/lib/python3.6/site-packages/tqdm/_monitor.py:89: TqdmSynchronisationWarning: Set changed size during iteration (see https://github.com/tqdm/tqdm/issues/481)\n",
      "  TqdmSynchronisationWarning)\n"
     ]
    },
    {
     "name": "stdout",
     "output_type": "stream",
     "text": [
      "    1      8.439579   8.657943   0.0                         \n",
      "    2      8.343199   8.728895   0.0                         \n",
      "    3      8.269825   8.775618   0.0                         \n",
      "    4      8.219871   8.785853   0.0                         \n",
      "    5      8.401781   8.865913   0.0                         \n",
      "    6      8.29965    9.033655   0.0                         \n",
      "    7      8.018324   9.240879   0.0                         \n",
      "    8      7.478297   9.376225   0.0                         \n",
      "    9      7.150596   9.403051   0.0                         \n",
      "    10     7.549452   9.703269   0.0                         \n",
      "    11     6.315166   10.471535  0.0                         \n",
      "    12     5.227128   11.229546  0.0                         \n",
      "    13     4.26264    11.725202  0.0                         \n",
      "    14     3.665722   11.962707  0.0                         \n",
      "    15     5.092035   11.630415  0.0                         \n",
      "    16     4.051677   12.511661  0.0                         \n",
      "    17     2.829918   13.689875  0.0                         \n",
      "    18     1.789785   14.572761  0.0                         \n",
      "    19     1.231221   14.784518  0.0                         \n",
      "    20     3.002197   13.397316  0.0                         \n",
      "    21     2.106974   14.790227  0.0                         \n",
      "    22     1.151912   15.964183  0.0                         \n",
      "    23     0.595933   16.879172  0.0                          \n",
      "    24     0.352685   17.225726  0.0                          \n"
     ]
    },
    {
     "data": {
      "text/plain": [
       "[17.225726075470448, 0.0]"
      ]
     },
     "execution_count": 93,
     "metadata": {},
     "output_type": "execute_result"
    }
   ],
   "source": [
    "lr = 1e-3\n",
    "clearn.fit(lr, 5, wds=wds, cycle_len=5, )"
   ]
  },
  {
   "cell_type": "code",
   "execution_count": 80,
   "metadata": {
    "ExecuteTime": {
     "end_time": "2018-07-27T21:20:48.473137Z",
     "start_time": "2018-07-27T21:20:48.444217Z"
    },
    "hidden": true
   },
   "outputs": [],
   "source": [
    "# for manual\n",
    "cbm = BasicModel(cnet, name='cconvnet')\n",
    "clearn = ConvLearner(imdata, cbm)"
   ]
  },
  {
   "cell_type": "code",
   "execution_count": 95,
   "metadata": {
    "ExecuteTime": {
     "end_time": "2018-07-27T21:21:25.346497Z",
     "start_time": "2018-07-27T21:21:25.080754Z"
    },
    "hidden": true
   },
   "outputs": [
    {
     "name": "stdout",
     "output_type": "stream",
     "text": [
      "model predicted (23, 63)\n",
      "actual coords are (21, 22)\n"
     ]
    },
    {
     "data": {
      "image/png": "[encoded data removed]",
      "text/plain": [
       "<Figure size 720x360 with 2 Axes>"
      ]
     },
     "metadata": {},
     "output_type": "display_data"
    },
    {
     "name": "stderr",
     "output_type": "stream",
     "text": [
      "/home/justin/anaconda3/envs/fastai/lib/python3.6/site-packages/tqdm/_monitor.py:89: TqdmSynchronisationWarning: Set changed size during iteration (see https://github.com/tqdm/tqdm/issues/481)\n",
      "  TqdmSynchronisationWarning)\n"
     ]
    }
   ],
   "source": [
    "dataset, ys = X_val, y_val\n",
    "# dataset, ys = X_train, y_train\n",
    "idx = list(np.random.choice(range(len(dataset)), 10))\n",
    "preds = get_preds(dataset, idx, clearn, scale=True)\n",
    "chsn = check_pred_vs_actual(ys, dataset, idx, preds)"
   ]
  },
  {
   "cell_type": "markdown",
   "metadata": {
    "heading_collapsed": true
   },
   "source": [
    "# stuff from \n",
    "https://github.com/mkocabas/CoordConv-pytorch/blob/master/CoordConv-numpy.py"
   ]
  },
  {
   "cell_type": "code",
   "execution_count": 98,
   "metadata": {
    "ExecuteTime": {
     "end_time": "2018-07-22T22:58:19.130329Z",
     "start_time": "2018-07-22T22:58:19.092128Z"
    },
    "hidden": true
   },
   "outputs": [],
   "source": [
    "class AddCoordsNp():\n",
    "    \"\"\"Add coords to a tensor\"\"\"\n",
    "    def __init__(self, x_dim=64, y_dim=64, with_r=False):\n",
    "        self.x_dim = x_dim\n",
    "        self.y_dim = y_dim\n",
    "        self.with_r = with_r\n",
    "\n",
    "    def call(self, input_tensor):\n",
    "        \"\"\"\n",
    "        input_tensor: (batch, x_dim, y_dim, c)\n",
    "        \"\"\"\n",
    "        batch_size_tensor = np.shape(input_tensor)[0]\n",
    "\n",
    "        xx_ones = np.ones([1, self.x_dim], dtype=np.int32)\n",
    "        xx_ones = np.expand_dims(xx_ones, -1)\n",
    "\n",
    "        print(xx_ones.shape)\n",
    "\n",
    "        xx_range = np.expand_dims(np.arange(self.x_dim), 0)\n",
    "        xx_range = np.expand_dims(xx_range, 1)\n",
    "\n",
    "        print(xx_range.shape)\n",
    "\n",
    "        xx_channel = np.matmul(xx_ones, xx_range)\n",
    "        xx_channel = np.expand_dims(xx_channel, -1)\n",
    "\n",
    "        yy_ones = np.ones([1, self.y_dim], dtype=np.int32)\n",
    "        yy_ones = np.expand_dims(yy_ones, 1)\n",
    "\n",
    "        print(yy_ones.shape)\n",
    "\n",
    "        yy_range = np.expand_dims(np.arange(self.y_dim), 0)\n",
    "        yy_range = np.expand_dims(yy_range, -1)\n",
    "\n",
    "        print(yy_range.shape)\n",
    "\n",
    "        yy_channel = np.matmul(yy_range, yy_ones)\n",
    "        yy_channel = np.expand_dims(yy_channel, -1)\n",
    "\n",
    "        xx_channel = xx_channel.astype('float32') / (self.x_dim - 1)\n",
    "        yy_channel = yy_channel.astype('float32') / (self.y_dim - 1)\n",
    "\n",
    "        xx_channel = xx_channel*2 - 1\n",
    "        yy_channel = yy_channel*2 - 1\n",
    "\n",
    "        xx_channel = xx_channel.repeat(batch_size_tensor, axis=0)\n",
    "        yy_channel = yy_channel.repeat(batch_size_tensor, axis=0)\n",
    "\n",
    "        ret = np.concatenate([input_tensor, xx_channel, yy_channel], axis=-1)\n",
    "\n",
    "        if self.with_r:\n",
    "            rr = np.sqrt( np.square(xx_channel-0.5) + np.square(yy_channel-0.5))\n",
    "            ret = np.concatenate([ret, rr], axis=-1)\n",
    "\n",
    "        return ret\n",
    "    \n",
    "class AddCoordsTh(nn.Module):\n",
    "    def __init__(self, x_dim=64, y_dim=64, with_r=False):\n",
    "        super(AddCoordsTh, self).__init__()\n",
    "        self.x_dim = x_dim\n",
    "        self.y_dim = y_dim\n",
    "        self.with_r = with_r\n",
    "\n",
    "    def forward(self, input_tensor):\n",
    "        \"\"\"\n",
    "        input_tensor: (batch, c, x_dim, y_dim)\n",
    "        \"\"\"\n",
    "        batch_size_tensor = input_tensor.shape[0]\n",
    "\n",
    "        xx_ones = torch.ones([1, self.y_dim], dtype=torch.int32)\n",
    "        xx_ones = xx_ones.unsqueeze(-1)\n",
    "\n",
    "        xx_range = torch.arange(self.x_dim, dtype=torch.int32).unsqueeze(0)\n",
    "        xx_range = xx_range.unsqueeze(1)\n",
    "\n",
    "        xx_channel = torch.matmul(xx_ones, xx_range)\n",
    "        xx_channel = xx_channel.unsqueeze(-1)\n",
    "\n",
    "        yy_ones = torch.ones([1, self.x_dim], dtype=torch.int32)\n",
    "        yy_ones = yy_ones.unsqueeze(1)\n",
    "\n",
    "        yy_range = torch.arange(self.y_dim, dtype=torch.int32).unsqueeze(0)\n",
    "        yy_range = yy_range.unsqueeze(-1)\n",
    "\n",
    "        yy_channel = torch.matmul(yy_range, yy_ones)\n",
    "        yy_channel = yy_channel.unsqueeze(-1)\n",
    "\n",
    "        xx_channel = xx_channel.permute(0, 3, 2, 1)\n",
    "        yy_channel = yy_channel.permute(0, 3, 2, 1)\n",
    "\n",
    "        xx_channel = xx_channel.float() / (self.x_dim - 1)\n",
    "        yy_channel = yy_channel.float() / (self.y_dim - 1)\n",
    "\n",
    "        xx_channel = xx_channel * 2 - 1\n",
    "        yy_channel = yy_channel * 2 - 1\n",
    "\n",
    "        xx_channel = xx_channel.repeat(batch_size_tensor, 1, 1, 1)\n",
    "        yy_channel = yy_channel.repeat(batch_size_tensor, 1, 1, 1)\n",
    "\n",
    "        try:\n",
    "            ret = torch.cat([input_tensor, xx_channel, yy_channel], dim=1)\n",
    "        except:\n",
    "            ret = torch.cat([input_tensor, xx_channel.cuda(), yy_channel.cuda()], dim=1)\n",
    "\n",
    "        if self.with_r:\n",
    "            rr = torch.sqrt(torch.pow(xx_channel - 0.5, 2) + torch.pow(yy_channel - 0.5, 2))\n",
    "            ret = torch.cat([ret, rr], dim=1)\n",
    "\n",
    "        return ret\n",
    "\n",
    "\n",
    "class CoordConvTh(nn.Module):\n",
    "    \"\"\"CoordConv layer as in the paper.\"\"\"\n",
    "    def __init__(self, x_dim, y_dim, with_r, *args, **kwargs):\n",
    "        super(CoordConvTh, self).__init__()\n",
    "        self.addcoords = AddCoordsTh(x_dim=x_dim, y_dim=y_dim, with_r=with_r)\n",
    "        self.conv = nn.Conv2d(*args, **kwargs)\n",
    "\n",
    "    def forward(self, input_tensor):\n",
    "        ret = self.addcoords(input_tensor)\n",
    "        ret = self.conv(ret)\n",
    "        return ret    "
   ]
  },
  {
   "cell_type": "code",
   "execution_count": 99,
   "metadata": {
    "ExecuteTime": {
     "end_time": "2018-07-22T22:58:19.814495Z",
     "start_time": "2018-07-22T22:58:19.746410Z"
    },
    "hidden": true
   },
   "outputs": [
    {
     "data": {
      "text/plain": [
       "Sequential(\n",
       "  (0): CoordConvTh(\n",
       "    (addcoords): AddCoordsTh()\n",
       "    (conv): Conv2d(5, 64, kernel_size=(3, 3), stride=(1, 1), padding=(1, 1))\n",
       "  )\n",
       "  (1): Conv(\n",
       "    (conv): Conv2d(64, 64, kernel_size=(3, 3), stride=(1, 1), padding=(1, 1))\n",
       "    (bn): BatchNorm2d(64, eps=1e-05, momentum=0.05, affine=True, track_running_stats=True)\n",
       "    (drop): Dropout(p=0.0)\n",
       "    (act): ReLU(inplace)\n",
       "  )\n",
       "  (2): MaxPool2d(kernel_size=2, stride=2, padding=0, dilation=1, ceil_mode=False)\n",
       "  (3): Conv(\n",
       "    (conv): Conv2d(64, 64, kernel_size=(3, 3), stride=(1, 1), padding=(1, 1))\n",
       "    (bn): BatchNorm2d(64, eps=1e-05, momentum=0.05, affine=True, track_running_stats=True)\n",
       "    (drop): Dropout(p=0.0)\n",
       "    (act): ReLU(inplace)\n",
       "  )\n",
       "  (4): MaxPool2d(kernel_size=2, stride=2, padding=0, dilation=1, ceil_mode=False)\n",
       "  (5): Conv(\n",
       "    (conv): Conv2d(64, 64, kernel_size=(3, 3), stride=(1, 1), padding=(1, 1))\n",
       "    (bn): BatchNorm2d(64, eps=1e-05, momentum=0.05, affine=True, track_running_stats=True)\n",
       "    (drop): Dropout(p=0.0)\n",
       "    (act): ReLU(inplace)\n",
       "  )\n",
       "  (6): MaxPool2d(kernel_size=2, stride=2, padding=0, dilation=1, ceil_mode=False)\n",
       "  (7): MaxPool2d(kernel_size=2, stride=2, padding=0, dilation=1, ceil_mode=False)\n",
       "  (8): Flatten()\n",
       "  (9): Linear(in_features=1024, out_features=4096, bias=True)\n",
       ")"
      ]
     },
     "execution_count": 99,
     "metadata": {},
     "output_type": "execute_result"
    }
   ],
   "source": [
    "tnet = nn.Sequential(\n",
    "    CoordConvTh(64,64,False, 5, 64,3, padding=1),\n",
    "    Conv(64, 64),\n",
    "#     Conv(64, 64),\n",
    "    nn.MaxPool2d(2),\n",
    "    Conv(64, 64),\n",
    "    nn.MaxPool2d(2),\n",
    "#     Conv(128, 128),\n",
    "    Conv(64, 64),\n",
    "    nn.MaxPool2d(2),\n",
    "#     Conv(64, 64, ks=1),\n",
    "#     Conv(128, 64, ks=1),\n",
    "    nn.MaxPool2d(2),\n",
    "    Flatten(),\n",
    "    nn.Linear(1024, len(y))\n",
    ")\n",
    "tnet.cuda()"
   ]
  },
  {
   "cell_type": "code",
   "execution_count": 100,
   "metadata": {
    "ExecuteTime": {
     "end_time": "2018-07-22T22:58:20.644020Z",
     "start_time": "2018-07-22T22:58:20.617551Z"
    },
    "hidden": true
   },
   "outputs": [],
   "source": [
    "ttrn = tuple([X_train, y_train])\n",
    "tval = tuple([X_val, y_val])\n",
    "path='data/'\n",
    "timdata = ImageClassifierData.from_arrays(path, ttrn, tval, bs=8, classes = y, test = ttrn)"
   ]
  },
  {
   "cell_type": "code",
   "execution_count": 101,
   "metadata": {
    "ExecuteTime": {
     "end_time": "2018-07-22T22:58:21.954301Z",
     "start_time": "2018-07-22T22:58:21.915101Z"
    },
    "hidden": true
   },
   "outputs": [],
   "source": [
    "tbm = BasicModel(tnet.cuda(), name='cconvnet')\n",
    "tlearn = ConvLearner(timdata, tbm)\n",
    "tlearn.crit = nn.CrossEntropyLoss()\n",
    "# learn.opt_fn = optim.Adam(learn.model.parameters())\n",
    "tlearn.unfreeze()\n",
    "tlearn.metrics=[accuracy]"
   ]
  },
  {
   "cell_type": "code",
   "execution_count": 102,
   "metadata": {
    "ExecuteTime": {
     "end_time": "2018-07-22T22:58:26.801597Z",
     "start_time": "2018-07-22T22:58:22.410593Z"
    },
    "hidden": true
   },
   "outputs": [
    {
     "data": {
      "application/vnd.jupyter.widget-view+json": {
       "model_id": "9e4bc72348544132a812c752265e48d2",
       "version_major": 2,
       "version_minor": 0
      },
      "text/plain": [
       "HBox(children=(IntProgress(value=0, description='Epoch', max=1), HTML(value='')))"
      ]
     },
     "metadata": {},
     "output_type": "display_data"
    },
    {
     "name": "stdout",
     "output_type": "stream",
     "text": [
      "                                                             \r"
     ]
    },
    {
     "name": "stderr",
     "output_type": "stream",
     "text": [
      "/home/justin/anaconda3/envs/fastai/lib/python3.6/site-packages/tqdm/_monitor.py:89: TqdmSynchronisationWarning: Set changed size during iteration (see https://github.com/tqdm/tqdm/issues/481)\n",
      "  TqdmSynchronisationWarning)\n"
     ]
    },
    {
     "name": "stdout",
     "output_type": "stream",
     "text": [
      "epoch      trn_loss   val_loss   accuracy   \n",
      "    0      17.867516  4430333396.0 0.0       \n"
     ]
    },
    {
     "data": {
      "image/png": "[encoded data removed]",
      "text/plain": [
       "<Figure size 216x216 with 1 Axes>"
      ]
     },
     "metadata": {},
     "output_type": "display_data"
    }
   ],
   "source": [
    "start_lr = 1e-7\n",
    "wds = 1e-3\n",
    "tlearn.lr_find(start_lr = start_lr, wds = wds)\n",
    "tlearn.sched.plot(n_skip=0)"
   ]
  },
  {
   "cell_type": "code",
   "execution_count": 103,
   "metadata": {
    "ExecuteTime": {
     "end_time": "2018-07-22T23:00:10.221640Z",
     "start_time": "2018-07-22T22:58:29.156640Z"
    },
    "hidden": true
   },
   "outputs": [
    {
     "data": {
      "application/vnd.jupyter.widget-view+json": {
       "model_id": "a57666e0114649688af1e7ea346fb011",
       "version_major": 2,
       "version_minor": 0
      },
      "text/plain": [
       "HBox(children=(IntProgress(value=0, description='Epoch', max=25), HTML(value='')))"
      ]
     },
     "metadata": {},
     "output_type": "display_data"
    },
    {
     "name": "stdout",
     "output_type": "stream",
     "text": [
      "epoch      trn_loss   val_loss   accuracy                    \n",
      "    0      8.49467    8.509831   0.0       \n",
      " 90%|████████▉ | 345/384 [00:03<00:00, 105.36it/s, loss=8.42]"
     ]
    },
    {
     "name": "stderr",
     "output_type": "stream",
     "text": [
      "/home/justin/anaconda3/envs/fastai/lib/python3.6/site-packages/tqdm/_monitor.py:89: TqdmSynchronisationWarning: Set changed size during iteration (see https://github.com/tqdm/tqdm/issues/481)\n",
      "  TqdmSynchronisationWarning)\n"
     ]
    },
    {
     "name": "stdout",
     "output_type": "stream",
     "text": [
      "    1      8.425457   8.616431   0.0                         \n",
      "    2      8.34841    8.68122    0.0                         \n",
      "    3      8.280203   8.717347   0.0                         \n",
      "    4      8.235326   8.724276   0.0                         \n",
      "    5      8.392513   8.804944   0.0                         \n",
      "    6      8.34277    8.909337   0.0                         \n",
      "    7      8.280219   8.985424   0.0                         \n",
      "    8      8.222332   9.033882   0.0                         \n",
      "    9      8.17476    9.044699   0.0                         \n",
      "    10     8.358302   9.058197   0.0                         \n",
      "    11     8.304188   9.15201    0.0                         \n",
      "    12     8.246058   9.31115    0.0                         \n",
      "    13     8.159673   9.395216   0.0                         \n",
      "    14     8.064775   9.452968   0.0                         \n",
      "    15     8.31437    9.386372   0.0                         \n",
      "    16     7.959654   9.611783   0.0                         \n",
      "    17     6.948628   9.97544    0.0                         \n",
      "    18     5.913529   10.50787   0.0                         \n",
      "    19     5.268531   10.6236    0.0                         \n",
      "    20     6.457773   10.533757  0.0                         \n",
      "    21     5.416529   11.038301  0.0                         \n",
      "    22     4.42333    11.92487   0.0                         \n",
      "    23     3.52872    12.792321  0.0                         \n",
      "    24     2.821952   12.988775  0.0                         \n"
     ]
    },
    {
     "data": {
      "text/plain": [
       "[12.988775178790092, 0.0]"
      ]
     },
     "execution_count": 103,
     "metadata": {},
     "output_type": "execute_result"
    }
   ],
   "source": [
    "lr = 1e-3\n",
    "tlearn.fit(lr, 5, wds=wds, cycle_len=5, )"
   ]
  },
  {
   "cell_type": "code",
   "execution_count": 104,
   "metadata": {
    "ExecuteTime": {
     "end_time": "2018-07-22T23:12:30.104421Z",
     "start_time": "2018-07-22T23:10:47.860004Z"
    },
    "hidden": true
   },
   "outputs": [
    {
     "data": {
      "application/vnd.jupyter.widget-view+json": {
       "model_id": "fa64ed50bc4c4d23bd4125511b8ff26e",
       "version_major": 2,
       "version_minor": 0
      },
      "text/plain": [
       "HBox(children=(IntProgress(value=0, description='Epoch', max=25), HTML(value='')))"
      ]
     },
     "metadata": {},
     "output_type": "display_data"
    },
    {
     "name": "stdout",
     "output_type": "stream",
     "text": [
      "epoch      trn_loss   val_loss   accuracy                    \n",
      "    0      4.491286   11.656829  0.0       \n",
      "    1      4.082848   11.925264  0.0                         \n",
      " 12%|█▎        | 48/384 [00:00<00:03, 105.69it/s, loss=3.05]"
     ]
    },
    {
     "name": "stderr",
     "output_type": "stream",
     "text": [
      "/home/justin/anaconda3/envs/fastai/lib/python3.6/site-packages/tqdm/_monitor.py:89: TqdmSynchronisationWarning: Set changed size during iteration (see https://github.com/tqdm/tqdm/issues/481)\n",
      "  TqdmSynchronisationWarning)\n"
     ]
    },
    {
     "name": "stdout",
     "output_type": "stream",
     "text": [
      "    2      3.129779   13.238707  0.0                         \n",
      "    3      2.213499   14.354283  0.0                         \n",
      "    4      1.619522   14.606708  0.0                         \n",
      "    5      3.433766   12.626601  0.0                         \n",
      "    6      2.61071    13.816467  0.0                         \n",
      "    7      1.657536   15.405205  0.0                         \n",
      "    8      0.871992   16.405121  0.0                          \n",
      "    9      0.577089   16.82894   0.0                          \n",
      "    10     2.0073     15.336714  0.0                          \n",
      "    11     1.53825    16.050221  0.0                         \n",
      "    12     0.732954   17.494535  0.0                          \n",
      "    13     0.331792   18.351046  0.0                          \n",
      "    14     0.214814   18.475483  0.0                          \n",
      "    15     0.776019   18.087893  0.0                          \n",
      "    16     0.71109    18.656214  0.0                          \n",
      "    17     0.359982   18.9532    0.0                          \n",
      "    18     0.161107   19.84397   0.0                          \n",
      "    19     0.103773   20.027395  0.0                           \n",
      "    20     0.313111   19.750602  0.0                          \n",
      "    21     0.325354   19.564481  0.0                          \n",
      "    22     0.171266   20.223066  0.0                          \n",
      "    23     0.075314   20.882348  0.0                           \n",
      "    24     0.052192   20.72071   0.0                           \n"
     ]
    },
    {
     "data": {
      "text/plain": [
       "[20.720709547400475, 0.0]"
      ]
     },
     "execution_count": 104,
     "metadata": {},
     "output_type": "execute_result"
    }
   ],
   "source": [
    "tlearn.fit(lr, 5, wds=wds, cycle_len=5, )"
   ]
  },
  {
   "cell_type": "code",
   "execution_count": 110,
   "metadata": {
    "ExecuteTime": {
     "end_time": "2018-07-22T23:12:43.410455Z",
     "start_time": "2018-07-22T23:12:43.151584Z"
    },
    "hidden": true
   },
   "outputs": [
    {
     "name": "stdout",
     "output_type": "stream",
     "text": [
      "model predicted (3, 46)\n",
      "actual coords are (2, 46)\n"
     ]
    },
    {
     "data": {
      "image/png": "[encoded data removed]",
      "text/plain": [
       "<Figure size 720x360 with 2 Axes>"
      ]
     },
     "metadata": {},
     "output_type": "display_data"
    },
    {
     "name": "stderr",
     "output_type": "stream",
     "text": [
      "/home/justin/anaconda3/envs/fastai/lib/python3.6/site-packages/tqdm/_monitor.py:89: TqdmSynchronisationWarning: Set changed size during iteration (see https://github.com/tqdm/tqdm/issues/481)\n",
      "  TqdmSynchronisationWarning)\n"
     ]
    }
   ],
   "source": [
    "dataset, ys = X_val, y_val\n",
    "# dataset, ys = X_train, y_train\n",
    "idx = list(np.random.choice(range(len(dataset)), 10))\n",
    "preds = get_preds(dataset, idx, tlearn, scale=True)\n",
    "chsn = check_pred_vs_actual(ys, dataset, idx, preds)"
   ]
  },
  {
   "cell_type": "markdown",
   "metadata": {},
   "source": [
    "# https://blog.piekniewski.info/2018/07/14/autopsy-dl-paper/"
   ]
  },
  {
   "cell_type": "code",
   "execution_count": 239,
   "metadata": {
    "ExecuteTime": {
     "end_time": "2018-07-24T19:04:11.021552Z",
     "start_time": "2018-07-24T19:04:10.953179Z"
    }
   },
   "outputs": [],
   "source": [
    "import scipy.signal as sp\n",
    "import numpy as np\n",
    "# Fix some image dimensions\n",
    "I_width = 100\n",
    "I_height = 70"
   ]
  },
  {
   "cell_type": "code",
   "execution_count": 245,
   "metadata": {
    "ExecuteTime": {
     "end_time": "2018-07-24T19:04:44.710429Z",
     "start_time": "2018-07-24T19:04:44.679778Z"
    }
   },
   "outputs": [],
   "source": [
    "# Generate input image\n",
    "A=np.zeros((I_height,I_width))\n",
    "# Generate random test position\n",
    "pos_x = np.random.randint(0, I_width-1)\n",
    "pos_y = np.random.randint(0, I_height-1)\n",
    "# Put a pixel in a random test position\n",
    "A[pos_y, pos_x]=1"
   ]
  },
  {
   "cell_type": "code",
   "execution_count": 248,
   "metadata": {
    "ExecuteTime": {
     "end_time": "2018-07-24T19:05:11.787549Z",
     "start_time": "2018-07-24T19:05:11.615545Z"
    }
   },
   "outputs": [
    {
     "data": {
      "text/plain": [
       "<matplotlib.image.AxesImage at 0x7f883851ea58>"
      ]
     },
     "execution_count": 248,
     "metadata": {},
     "output_type": "execute_result"
    },
    {
     "data": {
      "image/png": "[encoded data removed]",
      "text/plain": [
       "<Figure size 432x576 with 1 Axes>"
      ]
     },
     "metadata": {},
     "output_type": "display_data"
    }
   ],
   "source": [
    "plt.figure(figsize=(6,8))\n",
    "plt.imshow(A)"
   ]
  },
  {
   "cell_type": "code",
   "execution_count": 278,
   "metadata": {
    "ExecuteTime": {
     "end_time": "2018-07-24T19:14:12.752774Z",
     "start_time": "2018-07-24T19:14:12.712749Z"
    }
   },
   "outputs": [
    {
     "name": "stdout",
     "output_type": "stream",
     "text": [
      "point(is at (9, 5)\n",
      "9.0\n",
      "5.0\n"
     ]
    }
   ],
   "source": [
    "print('point(is at ({0}, {1})'.format(pos_x, pos_y))\n",
    "\n",
    "# Create what will be the coordinate features\n",
    "X=np.zeros_like(A)\n",
    "Y=np.zeros_like(A)\n",
    "# Fill the X-coordinate value\n",
    "for x in range(I_width):\n",
    "    X[:,x] = x\n",
    "# Fill the Y-coordinate value\n",
    "for y in range(I_height):\n",
    "    Y[y,:] = y\n",
    "# Define the convolutional operators\n",
    "op1 = np.array([[0, 0, 0],\n",
    "                [0, -1, 0],\n",
    "                [0, 0, 0]])\n",
    "\n",
    "opx = np.array([[0, 0, 0],\n",
    "                [0, I_width, 0],\n",
    "                [0, 0, 0]])\n",
    "\n",
    "opy = np.array([[0, 0, 0],\n",
    "                [0, I_height, 0],\n",
    "                [0, 0, 0]])    \n",
    "# Convolve to get the first feature map DY\n",
    "CA0 = sp.convolve2d(A, opy, mode='same')\n",
    "CY0 = sp.convolve2d(Y, op1, mode='same')\n",
    "DY=CA0+CY0\n",
    "# Convolve to get the second feature map DX\n",
    "CA1 = sp.convolve2d(A, opx, mode='same')\n",
    "CX0 = sp.convolve2d(X, op1, mode='same')\n",
    "DX=CA1+CX0\n",
    "# Apply half rectifying nonlinearity\n",
    "DX[np.where(DX<0)]=0\n",
    "DY[np.where(DY<0)]=0\n",
    "# Subtract from a constant (extra layer with a bias unit)\n",
    "result_y=I_height-DY.sum()\n",
    "result_x=I_width-DX.sum()\n",
    "# Check the result\n",
    "assert(pos_x == int(result_x))\n",
    "assert(pos_y == int(result_y))\n",
    "print(result_x)\n",
    "print(result_y)"
   ]
  },
  {
   "cell_type": "code",
   "execution_count": 280,
   "metadata": {
    "ExecuteTime": {
     "end_time": "2018-07-24T19:14:39.350170Z",
     "start_time": "2018-07-24T19:14:39.319127Z"
    }
   },
   "outputs": [
    {
     "data": {
      "text/plain": [
       "array([[0., 0., 0., ..., 0., 0., 0.],\n",
       "       [0., 0., 0., ..., 0., 0., 0.],\n",
       "       [0., 0., 0., ..., 0., 0., 0.],\n",
       "       ...,\n",
       "       [0., 0., 0., ..., 0., 0., 0.],\n",
       "       [0., 0., 0., ..., 0., 0., 0.],\n",
       "       [0., 0., 0., ..., 0., 0., 0.]])"
      ]
     },
     "execution_count": 280,
     "metadata": {},
     "output_type": "execute_result"
    }
   ],
   "source": [
    "CA1"
   ]
  },
  {
   "cell_type": "markdown",
   "metadata": {},
   "source": [
    "# stuff to delete?"
   ]
  },
  {
   "cell_type": "code",
   "execution_count": null,
   "metadata": {
    "ExecuteTime": {
     "end_time": "2018-07-18T19:37:14.085388Z",
     "start_time": "2018-07-18T19:34:07.998Z"
    }
   },
   "outputs": [],
   "source": [
    "# class TrainAccuracy(Callback):\n",
    "#     def __init__(self):\n",
    "#         pass\n",
    "#     def on_epoch_end(self, metrics):\n",
    "#         import ipdb; ipdb.set_trace()\n",
    "\n",
    "# callbacks=[TrainAccuracy()]"
   ]
  },
  {
   "cell_type": "code",
   "execution_count": null,
   "metadata": {},
   "outputs": [],
   "source": []
  }
 ],
 "metadata": {
  "kernelspec": {
   "display_name": "Python 3",
   "language": "python",
   "name": "python3"
  },
  "language_info": {
   "codemirror_mode": {
    "name": "ipython",
    "version": 3
   },
   "file_extension": ".py",
   "mimetype": "text/x-python",
   "name": "python",
   "nbconvert_exporter": "python",
   "pygments_lexer": "ipython3",
   "version": "3.6.3"
  },
  "notify_time": "5"
 },
 "nbformat": 4,
 "nbformat_minor": 2
}
