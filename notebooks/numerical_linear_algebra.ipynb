{
 "cells": [
  {
   "cell_type": "markdown",
   "metadata": {},
   "source": [
    "# Chapter 1"
   ]
  },
  {
   "cell_type": "code",
   "execution_count": 2,
   "metadata": {
    "ExecuteTime": {
     "end_time": "2018-05-13T23:56:25.235187Z",
     "start_time": "2018-05-13T23:56:25.216832Z"
    }
   },
   "outputs": [],
   "source": [
    "# 1.1\n",
    "b = np.matrix(np.arange(16)).reshape(4,4)"
   ]
  },
  {
   "cell_type": "code",
   "execution_count": 32,
   "metadata": {
    "ExecuteTime": {
     "end_time": "2018-05-14T00:09:37.539238Z",
     "start_time": "2018-05-14T00:09:37.517525Z"
    }
   },
   "outputs": [],
   "source": [
    "# matrix left of B operates on rows, Right of B operates on cols\n",
    "one = np.matrix([[2,0,0,0],[0,1,0,0],[0,0,1,0],[0,0,0,1]])\n",
    "two = np.matrix([[1,0,0,0],[0,1,0,0],[0,0,1/2,0],[0,0,0,1]])\n",
    "three = np.matrix([[1,0,1,0],[0,1,0,0],[0,0,1,0],[0,0,0,1]])\n",
    "three_2 = np.matrix([[1,0,0,0],[0,1,0,0],[1,0,1,0],[0,0,0,1]])\n",
    "four = np.matrix([[0,0,0,1],[0,1,0,0],[0,0,1,0],[1,0,0,0]])\n",
    "five = np.matrix([[1,-1,0,0],[0,1,0,0],[0,-1,1,0],[0,-1,0,1]])\n",
    "six = np.matrix([[1,0,0,0],[0,1,0,0],[0,0,0,1],[0,0,1,0]])\n",
    "seven = np.matrix([[0,0,0,0],[0,1,0,0],[0,0,1,0],[0,0,0,1]])"
   ]
  },
  {
   "cell_type": "code",
   "execution_count": 33,
   "metadata": {
    "ExecuteTime": {
     "end_time": "2018-05-14T00:09:41.262987Z",
     "start_time": "2018-05-14T00:09:41.242866Z"
    }
   },
   "outputs": [
    {
     "data": {
      "text/plain": [
       "matrix([[ 0,  1,  2,  3],\n",
       "        [ 0,  5,  6,  7],\n",
       "        [ 0,  9, 10, 11],\n",
       "        [ 0, 13, 14, 15]])"
      ]
     },
     "execution_count": 33,
     "metadata": {},
     "output_type": "execute_result"
    }
   ],
   "source": [
    "b*seven"
   ]
  },
  {
   "cell_type": "code",
   "execution_count": null,
   "metadata": {},
   "outputs": [],
   "source": []
  }
 ],
 "metadata": {
  "kernelspec": {
   "display_name": "Python 3",
   "language": "python",
   "name": "python3"
  },
  "language_info": {
   "codemirror_mode": {
    "name": "ipython",
    "version": 3
   },
   "file_extension": ".py",
   "mimetype": "text/x-python",
   "name": "python",
   "nbconvert_exporter": "python",
   "pygments_lexer": "ipython3",
   "version": "3.6.5"
  }
 },
 "nbformat": 4,
 "nbformat_minor": 2
}
