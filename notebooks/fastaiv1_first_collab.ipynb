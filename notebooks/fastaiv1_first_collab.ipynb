{
 "cells": [
  {
   "cell_type": "code",
   "execution_count": 1,
   "metadata": {
    "ExecuteTime": {
     "end_time": "2018-10-04T23:12:16.971329Z",
     "start_time": "2018-10-04T23:12:14.071302Z"
    }
   },
   "outputs": [],
   "source": [
    "from fastai import *\n",
    "from fastai.collab import *\n",
    "from fastai.docs import *"
   ]
  },
  {
   "cell_type": "code",
   "execution_count": 2,
   "metadata": {
    "ExecuteTime": {
     "end_time": "2018-10-04T23:13:00.981346Z",
     "start_time": "2018-10-04T23:13:00.490592Z"
    }
   },
   "outputs": [
    {
     "data": {
      "application/vnd.jupyter.widget-view+json": {
       "model_id": "406aec9979be459abaf54aad3407173e",
       "version_major": 2,
       "version_minor": 0
      },
      "text/plain": [
       "HBox(children=(IntProgress(value=0, max=51790), HTML(value='')))"
      ]
     },
     "metadata": {},
     "output_type": "display_data"
    },
    {
     "data": {
      "text/html": [
       "<div>\n",
       "<style scoped>\n",
       "    .dataframe tbody tr th:only-of-type {\n",
       "        vertical-align: middle;\n",
       "    }\n",
       "\n",
       "    .dataframe tbody tr th {\n",
       "        vertical-align: top;\n",
       "    }\n",
       "\n",
       "    .dataframe thead th {\n",
       "        text-align: right;\n",
       "    }\n",
       "</style>\n",
       "<table border=\"1\" class=\"dataframe\">\n",
       "  <thead>\n",
       "    <tr style=\"text-align: right;\">\n",
       "      <th></th>\n",
       "      <th>userId</th>\n",
       "      <th>movieId</th>\n",
       "      <th>rating</th>\n",
       "      <th>timestamp</th>\n",
       "    </tr>\n",
       "  </thead>\n",
       "  <tbody>\n",
       "    <tr>\n",
       "      <th>0</th>\n",
       "      <td>73</td>\n",
       "      <td>1097</td>\n",
       "      <td>4.0</td>\n",
       "      <td>1255504951</td>\n",
       "    </tr>\n",
       "    <tr>\n",
       "      <th>1</th>\n",
       "      <td>561</td>\n",
       "      <td>924</td>\n",
       "      <td>3.5</td>\n",
       "      <td>1172695223</td>\n",
       "    </tr>\n",
       "    <tr>\n",
       "      <th>2</th>\n",
       "      <td>157</td>\n",
       "      <td>260</td>\n",
       "      <td>3.5</td>\n",
       "      <td>1291598691</td>\n",
       "    </tr>\n",
       "    <tr>\n",
       "      <th>3</th>\n",
       "      <td>358</td>\n",
       "      <td>1210</td>\n",
       "      <td>5.0</td>\n",
       "      <td>957481884</td>\n",
       "    </tr>\n",
       "    <tr>\n",
       "      <th>4</th>\n",
       "      <td>130</td>\n",
       "      <td>316</td>\n",
       "      <td>2.0</td>\n",
       "      <td>1138999234</td>\n",
       "    </tr>\n",
       "  </tbody>\n",
       "</table>\n",
       "</div>"
      ],
      "text/plain": [
       "   userId  movieId  rating   timestamp\n",
       "0      73     1097     4.0  1255504951\n",
       "1     561      924     3.5  1172695223\n",
       "2     157      260     3.5  1291598691\n",
       "3     358     1210     5.0   957481884\n",
       "4     130      316     2.0  1138999234"
      ]
     },
     "execution_count": 2,
     "metadata": {},
     "output_type": "execute_result"
    }
   ],
   "source": [
    "ratings = get_movie_lens()\n",
    "ratings.head()"
   ]
  },
  {
   "cell_type": "code",
   "execution_count": 3,
   "metadata": {
    "ExecuteTime": {
     "end_time": "2018-10-04T23:13:25.756525Z",
     "start_time": "2018-10-04T23:13:25.728698Z"
    }
   },
   "outputs": [],
   "source": [
    "series2cat(ratings, 'userId','movieId')"
   ]
  },
  {
   "cell_type": "code",
   "execution_count": 5,
   "metadata": {
    "ExecuteTime": {
     "end_time": "2018-10-04T23:13:45.084953Z",
     "start_time": "2018-10-04T23:13:45.056238Z"
    },
    "scrolled": true
   },
   "outputs": [
    {
     "data": {
      "text/plain": [
       "0        73\n",
       "1       561\n",
       "2       157\n",
       "3       358\n",
       "4       130\n",
       "5       580\n",
       "6       544\n",
       "7       213\n",
       "8       176\n",
       "9       481\n",
       "10      423\n",
       "11      607\n",
       "12      105\n",
       "13      165\n",
       "14      665\n",
       "15      547\n",
       "16      292\n",
       "17      134\n",
       "18      665\n",
       "19      220\n",
       "20      648\n",
       "21      518\n",
       "22      157\n",
       "23      427\n",
       "24      384\n",
       "25      534\n",
       "26      574\n",
       "27       48\n",
       "28      382\n",
       "29      213\n",
       "       ... \n",
       "6001     23\n",
       "6002    358\n",
       "6003    355\n",
       "6004    472\n",
       "6005    306\n",
       "6006    346\n",
       "6007    587\n",
       "6008    580\n",
       "6009    452\n",
       "6010    615\n",
       "6011     56\n",
       "6012    380\n",
       "6013    213\n",
       "6014    119\n",
       "6015    587\n",
       "6016     77\n",
       "6017    239\n",
       "6018    463\n",
       "6019    187\n",
       "6020     56\n",
       "6021    430\n",
       "6022    262\n",
       "6023    165\n",
       "6024    242\n",
       "6025    243\n",
       "6026    384\n",
       "6027    262\n",
       "6028    580\n",
       "6029    585\n",
       "6030    388\n",
       "Name: userId, Length: 6031, dtype: category\n",
       "Categories (100, int64): [15 < 17 < 19 < 23 ... 652 < 654 < 664 < 665]"
      ]
     },
     "execution_count": 5,
     "metadata": {},
     "output_type": "execute_result"
    }
   ],
   "source": [
    "ratings.userId"
   ]
  },
  {
   "cell_type": "code",
   "execution_count": 6,
   "metadata": {
    "ExecuteTime": {
     "end_time": "2018-10-04T23:13:56.954407Z",
     "start_time": "2018-10-04T23:13:56.927950Z"
    },
    "scrolled": true
   },
   "outputs": [
    {
     "data": {
      "text/plain": [
       "0        7\n",
       "1       80\n",
       "2       20\n",
       "3       47\n",
       "4       17\n",
       "5       85\n",
       "6       78\n",
       "7       27\n",
       "8       22\n",
       "9       70\n",
       "10      56\n",
       "11      91\n",
       "12      13\n",
       "13      21\n",
       "14      99\n",
       "15      79\n",
       "16      37\n",
       "17      18\n",
       "18      99\n",
       "19      28\n",
       "20      95\n",
       "21      74\n",
       "22      20\n",
       "23      57\n",
       "24      50\n",
       "25      76\n",
       "26      82\n",
       "27       5\n",
       "28      49\n",
       "29      27\n",
       "        ..\n",
       "6001     3\n",
       "6002    47\n",
       "6003    46\n",
       "6004    67\n",
       "6005    40\n",
       "6006    44\n",
       "6007    87\n",
       "6008    85\n",
       "6009    61\n",
       "6010    93\n",
       "6011     6\n",
       "6012    48\n",
       "6013    27\n",
       "6014    15\n",
       "6015    87\n",
       "6016     8\n",
       "6017    30\n",
       "6018    65\n",
       "6019    23\n",
       "6020     6\n",
       "6021    58\n",
       "6022    34\n",
       "6023    21\n",
       "6024    31\n",
       "6025    32\n",
       "6026    50\n",
       "6027    34\n",
       "6028    85\n",
       "6029    86\n",
       "6030    52\n",
       "Length: 6031, dtype: int8"
      ]
     },
     "execution_count": 6,
     "metadata": {},
     "output_type": "execute_result"
    }
   ],
   "source": [
    "ratings.userId.cat.codes"
   ]
  },
  {
   "cell_type": "code",
   "execution_count": 7,
   "metadata": {
    "ExecuteTime": {
     "end_time": "2018-10-04T23:14:14.154057Z",
     "start_time": "2018-10-04T23:14:14.107846Z"
    }
   },
   "outputs": [],
   "source": [
    "learn = get_collab_learner(ratings, n_factors=50, pct_val=0.2, min_score=0., max_score=5.)"
   ]
  },
  {
   "cell_type": "code",
   "execution_count": 8,
   "metadata": {
    "ExecuteTime": {
     "end_time": "2018-10-04T23:14:29.625680Z",
     "start_time": "2018-10-04T23:14:24.806930Z"
    }
   },
   "outputs": [
    {
     "data": {
      "application/vnd.jupyter.widget-view+json": {
       "model_id": "",
       "version_major": 2,
       "version_minor": 0
      },
      "text/plain": [
       "VBox(children=(HBox(children=(IntProgress(value=0, max=5), HTML(value='0.00% [0/5 00:00<00:00]'))), HTML(value…"
      ]
     },
     "metadata": {},
     "output_type": "display_data"
    },
    {
     "name": "stdout",
     "output_type": "stream",
     "text": [
      "Total time: 00:04\n",
      "epoch  train loss  valid loss\n",
      "0      2.365349    1.852647    (00:00)\n",
      "1      1.103902    0.635357    (00:00)\n",
      "2      0.726622    0.601811    (00:01)\n",
      "3      0.615386    0.589145    (00:00)\n",
      "4      0.561777    0.588432    (00:00)\n",
      "\n"
     ]
    }
   ],
   "source": [
    "learn.fit_one_cycle(5, 5e-3, wd=0.1)"
   ]
  },
  {
   "cell_type": "code",
   "execution_count": null,
   "metadata": {},
   "outputs": [],
   "source": []
  }
 ],
 "metadata": {
  "kernelspec": {
   "display_name": "Python 3",
   "language": "python",
   "name": "python3"
  },
  "language_info": {
   "codemirror_mode": {
    "name": "ipython",
    "version": 3
   },
   "file_extension": ".py",
   "mimetype": "text/x-python",
   "name": "python",
   "nbconvert_exporter": "python",
   "pygments_lexer": "ipython3",
   "version": "3.6.3"
  }
 },
 "nbformat": 4,
 "nbformat_minor": 2
}
